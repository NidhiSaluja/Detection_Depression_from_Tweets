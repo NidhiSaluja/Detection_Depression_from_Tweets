{
  "nbformat": 4,
  "nbformat_minor": 0,
  "metadata": {
    "kernelspec": {
      "display_name": "Python 3",
      "language": "python",
      "name": "python3"
    },
    "language_info": {
      "codemirror_mode": {
        "name": "ipython",
        "version": 3
      },
      "file_extension": ".py",
      "mimetype": "text/x-python",
      "name": "python",
      "nbconvert_exporter": "python",
      "pygments_lexer": "ipython3",
      "version": "3.7.6"
    },
    "colab": {
      "name": "Copy of tweet sentiment code.ipynb",
      "provenance": [],
      "collapsed_sections": []
    }
  },
  "cells": [
    {
      "cell_type": "markdown",
      "metadata": {
        "id": "4B6_xuzmHN2j"
      },
      "source": [
        "# Importing Libraries"
      ]
    },
    {
      "cell_type": "code",
      "metadata": {
        "colab": {
          "base_uri": "https://localhost:8080/"
        },
        "id": "jBfY2VM8HN2l",
        "outputId": "09300eb3-4591-49db-e2d9-6069cb58c916"
      },
      "source": [
        "\n",
        "\n",
        "import re\n",
        "import string\n",
        "import numpy as np \n",
        "import random\n",
        "import pandas as pd \n",
        "import matplotlib.pyplot as plt\n",
        "import seaborn as sns\n",
        "%matplotlib inline\n",
        "from plotly import graph_objs as go\n",
        "import plotly.express as px\n",
        "import plotly.figure_factory as ff\n",
        "from collections import Counter\n",
        "\n",
        "from PIL import Image\n",
        "from wordcloud import WordCloud, STOPWORDS, ImageColorGenerator\n",
        "\n",
        "\n",
        "import nltk\n",
        "from nltk.corpus import stopwords\n",
        "\n",
        "from tqdm import tqdm\n",
        "import os\n",
        "import nltk\n",
        "nltk.download('stopwords')\n",
        "\n",
        "import spacy\n",
        "import random\n",
        "from spacy.util import compounding\n",
        "from spacy.util import minibatch\n",
        "\n",
        "import warnings\n",
        "warnings.filterwarnings(\"ignore\")\n",
        "\n",
        "import os\n"
      ],
      "execution_count": null,
      "outputs": [
        {
          "output_type": "stream",
          "text": [
            "[nltk_data] Downloading package stopwords to /root/nltk_data...\n",
            "[nltk_data]   Package stopwords is already up-to-date!\n"
          ],
          "name": "stdout"
        }
      ]
    },
    {
      "cell_type": "markdown",
      "metadata": {
        "id": "EOJAwLBzHN2q"
      },
      "source": [
        "# Reading Data"
      ]
    },
    {
      "cell_type": "code",
      "metadata": {
        "colab": {
          "base_uri": "https://localhost:8080/",
          "height": 359
        },
        "id": "8W9_wWCYHN2r",
        "outputId": "51d3390e-ae71-4a96-d524-5a871055e81a"
      },
      "source": [
        "data=pd.read_csv('train.csv')\n",
        "data.head(10)"
      ],
      "execution_count": null,
      "outputs": [
        {
          "output_type": "execute_result",
          "data": {
            "text/html": [
              "<div>\n",
              "<style scoped>\n",
              "    .dataframe tbody tr th:only-of-type {\n",
              "        vertical-align: middle;\n",
              "    }\n",
              "\n",
              "    .dataframe tbody tr th {\n",
              "        vertical-align: top;\n",
              "    }\n",
              "\n",
              "    .dataframe thead th {\n",
              "        text-align: right;\n",
              "    }\n",
              "</style>\n",
              "<table border=\"1\" class=\"dataframe\">\n",
              "  <thead>\n",
              "    <tr style=\"text-align: right;\">\n",
              "      <th></th>\n",
              "      <th>textID</th>\n",
              "      <th>text</th>\n",
              "      <th>selected_text</th>\n",
              "      <th>sentiment</th>\n",
              "    </tr>\n",
              "  </thead>\n",
              "  <tbody>\n",
              "    <tr>\n",
              "      <th>0</th>\n",
              "      <td>cb774db0d1</td>\n",
              "      <td>I`d have responded, if I were going</td>\n",
              "      <td>I`d have responded, if I were going</td>\n",
              "      <td>neutral</td>\n",
              "    </tr>\n",
              "    <tr>\n",
              "      <th>1</th>\n",
              "      <td>549e992a42</td>\n",
              "      <td>Sooo SAD I will miss you here in San Diego!!!</td>\n",
              "      <td>Sooo SAD</td>\n",
              "      <td>negative</td>\n",
              "    </tr>\n",
              "    <tr>\n",
              "      <th>2</th>\n",
              "      <td>088c60f138</td>\n",
              "      <td>my boss is bullying me...</td>\n",
              "      <td>bullying me</td>\n",
              "      <td>negative</td>\n",
              "    </tr>\n",
              "    <tr>\n",
              "      <th>3</th>\n",
              "      <td>9642c003ef</td>\n",
              "      <td>what interview! leave me alone</td>\n",
              "      <td>leave me alone</td>\n",
              "      <td>negative</td>\n",
              "    </tr>\n",
              "    <tr>\n",
              "      <th>4</th>\n",
              "      <td>358bd9e861</td>\n",
              "      <td>Sons of ****, why couldn`t they put them on t...</td>\n",
              "      <td>Sons of ****,</td>\n",
              "      <td>negative</td>\n",
              "    </tr>\n",
              "    <tr>\n",
              "      <th>5</th>\n",
              "      <td>28b57f3990</td>\n",
              "      <td>http://www.dothebouncy.com/smf - some shameles...</td>\n",
              "      <td>http://www.dothebouncy.com/smf - some shameles...</td>\n",
              "      <td>neutral</td>\n",
              "    </tr>\n",
              "    <tr>\n",
              "      <th>6</th>\n",
              "      <td>6e0c6d75b1</td>\n",
              "      <td>2am feedings for the baby are fun when he is a...</td>\n",
              "      <td>fun</td>\n",
              "      <td>positive</td>\n",
              "    </tr>\n",
              "    <tr>\n",
              "      <th>7</th>\n",
              "      <td>50e14c0bb8</td>\n",
              "      <td>Soooo high</td>\n",
              "      <td>Soooo high</td>\n",
              "      <td>neutral</td>\n",
              "    </tr>\n",
              "    <tr>\n",
              "      <th>8</th>\n",
              "      <td>e050245fbd</td>\n",
              "      <td>Both of you</td>\n",
              "      <td>Both of you</td>\n",
              "      <td>neutral</td>\n",
              "    </tr>\n",
              "    <tr>\n",
              "      <th>9</th>\n",
              "      <td>fc2cbefa9d</td>\n",
              "      <td>Journey!? Wow... u just became cooler.  hehe....</td>\n",
              "      <td>Wow... u just became cooler.</td>\n",
              "      <td>positive</td>\n",
              "    </tr>\n",
              "  </tbody>\n",
              "</table>\n",
              "</div>"
            ],
            "text/plain": [
              "       textID  ... sentiment\n",
              "0  cb774db0d1  ...   neutral\n",
              "1  549e992a42  ...  negative\n",
              "2  088c60f138  ...  negative\n",
              "3  9642c003ef  ...  negative\n",
              "4  358bd9e861  ...  negative\n",
              "5  28b57f3990  ...   neutral\n",
              "6  6e0c6d75b1  ...  positive\n",
              "7  50e14c0bb8  ...   neutral\n",
              "8  e050245fbd  ...   neutral\n",
              "9  fc2cbefa9d  ...  positive\n",
              "\n",
              "[10 rows x 4 columns]"
            ]
          },
          "metadata": {
            "tags": []
          },
          "execution_count": 5
        }
      ]
    },
    {
      "cell_type": "markdown",
      "metadata": {
        "id": "TsPt9qCuHN2r"
      },
      "source": [
        "Size of Data:---"
      ]
    },
    {
      "cell_type": "code",
      "metadata": {
        "colab": {
          "base_uri": "https://localhost:8080/"
        },
        "id": "_zEzjgRgHN2r",
        "outputId": "85079f37-89ad-4a5b-8449-ce8a0b8f38a5"
      },
      "source": [
        "data.shape"
      ],
      "execution_count": null,
      "outputs": [
        {
          "output_type": "execute_result",
          "data": {
            "text/plain": [
              "(27481, 4)"
            ]
          },
          "metadata": {
            "tags": []
          },
          "execution_count": 6
        }
      ]
    },
    {
      "cell_type": "markdown",
      "metadata": {
        "id": "y0bXOZhQHN2s"
      },
      "source": [
        "Checking null values:-----"
      ]
    },
    {
      "cell_type": "code",
      "metadata": {
        "colab": {
          "base_uri": "https://localhost:8080/"
        },
        "id": "DMgfZolqHN2s",
        "outputId": "ab1d3bfc-1aa3-42b6-a453-1e6a4f1577b4"
      },
      "source": [
        "data.isnull().sum()"
      ],
      "execution_count": null,
      "outputs": [
        {
          "output_type": "execute_result",
          "data": {
            "text/plain": [
              "textID           0\n",
              "text             1\n",
              "selected_text    1\n",
              "sentiment        0\n",
              "dtype: int64"
            ]
          },
          "metadata": {
            "tags": []
          },
          "execution_count": 7
        }
      ]
    },
    {
      "cell_type": "markdown",
      "metadata": {
        "id": "jJusNwYAHN2s"
      },
      "source": [
        "Removing null values from Data and getting new size of Data:-----"
      ]
    },
    {
      "cell_type": "code",
      "metadata": {
        "colab": {
          "base_uri": "https://localhost:8080/"
        },
        "id": "C0BJd3nNHN2t",
        "outputId": "b8fb5f75-af7c-499e-96ea-8782967dece4"
      },
      "source": [
        "data.dropna(axis=0,inplace=True)\n",
        "data.shape"
      ],
      "execution_count": null,
      "outputs": [
        {
          "output_type": "execute_result",
          "data": {
            "text/plain": [
              "(27480, 4)"
            ]
          },
          "metadata": {
            "tags": []
          },
          "execution_count": 8
        }
      ]
    },
    {
      "cell_type": "markdown",
      "metadata": {
        "id": "L3oF3F7bHN2t"
      },
      "source": [
        "Checking whether null value is removed or not:----"
      ]
    },
    {
      "cell_type": "code",
      "metadata": {
        "colab": {
          "base_uri": "https://localhost:8080/"
        },
        "id": "zEBUmeROHN2t",
        "outputId": "ecf6184b-4b82-4e68-ab60-b92cdf490edc"
      },
      "source": [
        "data.isnull().sum()"
      ],
      "execution_count": null,
      "outputs": [
        {
          "output_type": "execute_result",
          "data": {
            "text/plain": [
              "textID           0\n",
              "text             0\n",
              "selected_text    0\n",
              "sentiment        0\n",
              "dtype: int64"
            ]
          },
          "metadata": {
            "tags": []
          },
          "execution_count": 9
        }
      ]
    },
    {
      "cell_type": "code",
      "metadata": {
        "colab": {
          "base_uri": "https://localhost:8080/"
        },
        "id": "vrjivzRpHN2t",
        "outputId": "06e64ba8-9216-47b1-9313-05eb14894ebc"
      },
      "source": [
        "data['textID'].nunique()"
      ],
      "execution_count": null,
      "outputs": [
        {
          "output_type": "execute_result",
          "data": {
            "text/plain": [
              "27480"
            ]
          },
          "metadata": {
            "tags": []
          },
          "execution_count": 10
        }
      ]
    },
    {
      "cell_type": "code",
      "metadata": {
        "colab": {
          "base_uri": "https://localhost:8080/",
          "height": 173
        },
        "id": "5gy4mSUnHN2u",
        "outputId": "090a139f-b827-4eec-f461-31343c0ee1bd"
      },
      "source": [
        "data.describe()"
      ],
      "execution_count": null,
      "outputs": [
        {
          "output_type": "execute_result",
          "data": {
            "text/html": [
              "<div>\n",
              "<style scoped>\n",
              "    .dataframe tbody tr th:only-of-type {\n",
              "        vertical-align: middle;\n",
              "    }\n",
              "\n",
              "    .dataframe tbody tr th {\n",
              "        vertical-align: top;\n",
              "    }\n",
              "\n",
              "    .dataframe thead th {\n",
              "        text-align: right;\n",
              "    }\n",
              "</style>\n",
              "<table border=\"1\" class=\"dataframe\">\n",
              "  <thead>\n",
              "    <tr style=\"text-align: right;\">\n",
              "      <th></th>\n",
              "      <th>textID</th>\n",
              "      <th>text</th>\n",
              "      <th>selected_text</th>\n",
              "      <th>sentiment</th>\n",
              "    </tr>\n",
              "  </thead>\n",
              "  <tbody>\n",
              "    <tr>\n",
              "      <th>count</th>\n",
              "      <td>27480</td>\n",
              "      <td>27480</td>\n",
              "      <td>27480</td>\n",
              "      <td>27480</td>\n",
              "    </tr>\n",
              "    <tr>\n",
              "      <th>unique</th>\n",
              "      <td>27480</td>\n",
              "      <td>27480</td>\n",
              "      <td>22463</td>\n",
              "      <td>3</td>\n",
              "    </tr>\n",
              "    <tr>\n",
              "      <th>top</th>\n",
              "      <td>755a0e11ab</td>\n",
              "      <td>ahahaha okay deal  now i only have to snuff h...</td>\n",
              "      <td>good</td>\n",
              "      <td>neutral</td>\n",
              "    </tr>\n",
              "    <tr>\n",
              "      <th>freq</th>\n",
              "      <td>1</td>\n",
              "      <td>1</td>\n",
              "      <td>199</td>\n",
              "      <td>11117</td>\n",
              "    </tr>\n",
              "  </tbody>\n",
              "</table>\n",
              "</div>"
            ],
            "text/plain": [
              "            textID  ... sentiment\n",
              "count        27480  ...     27480\n",
              "unique       27480  ...         3\n",
              "top     755a0e11ab  ...   neutral\n",
              "freq             1  ...     11117\n",
              "\n",
              "[4 rows x 4 columns]"
            ]
          },
          "metadata": {
            "tags": []
          },
          "execution_count": 11
        }
      ]
    },
    {
      "cell_type": "markdown",
      "metadata": {
        "id": "lKoLF-AbHN2u"
      },
      "source": [
        "# Analysing the given Data"
      ]
    },
    {
      "cell_type": "code",
      "metadata": {
        "colab": {
          "base_uri": "https://localhost:8080/",
          "height": 296
        },
        "id": "NT6OoqHeHN2u",
        "outputId": "c9518476-4adb-4adf-a1ea-88d1a8630215"
      },
      "source": [
        "sns.countplot(x='sentiment',data=data)"
      ],
      "execution_count": null,
      "outputs": [
        {
          "output_type": "execute_result",
          "data": {
            "text/plain": [
              "<matplotlib.axes._subplots.AxesSubplot at 0x7f6dd2b287f0>"
            ]
          },
          "metadata": {
            "tags": []
          },
          "execution_count": 12
        },
        {
          "output_type": "display_data",
          "data": {
            "image/png": "[encoded data removed]",
            "text/plain": [
              "<Figure size 432x288 with 1 Axes>"
            ]
          },
          "metadata": {
            "tags": [],
            "needs_background": "light"
          }
        }
      ]
    },
    {
      "cell_type": "code",
      "metadata": {
        "colab": {
          "base_uri": "https://localhost:8080/",
          "height": 103
        },
        "id": "R537_VYvHN2v",
        "outputId": "c09a6fce-187f-4b69-8a19-6c77aefbb2f6"
      },
      "source": [
        "temp = data.groupby('sentiment').count()['text'].reset_index().sort_values(by='text',ascending=False)\n",
        "temp.style.background_gradient(cmap='Purples')"
      ],
      "execution_count": null,
      "outputs": [
        {
          "output_type": "execute_result",
          "data": {
            "text/html": [
              "<style  type=\"text/css\" >\n",
              "#T_55539570_3278_11eb_b494_0242ac1c0002row0_col1{\n",
              "            background-color:  #3f007d;\n",
              "            color:  #f1f1f1;\n",
              "        }#T_55539570_3278_11eb_b494_0242ac1c0002row1_col1{\n",
              "            background-color:  #dcdcec;\n",
              "            color:  #000000;\n",
              "        }#T_55539570_3278_11eb_b494_0242ac1c0002row2_col1{\n",
              "            background-color:  #fcfbfd;\n",
              "            color:  #000000;\n",
              "        }</style><table id=\"T_55539570_3278_11eb_b494_0242ac1c0002\" ><thead>    <tr>        <th class=\"blank level0\" ></th>        <th class=\"col_heading level0 col0\" >sentiment</th>        <th class=\"col_heading level0 col1\" >text</th>    </tr></thead><tbody>\n",
              "                <tr>\n",
              "                        <th id=\"T_55539570_3278_11eb_b494_0242ac1c0002level0_row0\" class=\"row_heading level0 row0\" >1</th>\n",
              "                        <td id=\"T_55539570_3278_11eb_b494_0242ac1c0002row0_col0\" class=\"data row0 col0\" >neutral</td>\n",
              "                        <td id=\"T_55539570_3278_11eb_b494_0242ac1c0002row0_col1\" class=\"data row0 col1\" >11117</td>\n",
              "            </tr>\n",
              "            <tr>\n",
              "                        <th id=\"T_55539570_3278_11eb_b494_0242ac1c0002level0_row1\" class=\"row_heading level0 row1\" >2</th>\n",
              "                        <td id=\"T_55539570_3278_11eb_b494_0242ac1c0002row1_col0\" class=\"data row1 col0\" >positive</td>\n",
              "                        <td id=\"T_55539570_3278_11eb_b494_0242ac1c0002row1_col1\" class=\"data row1 col1\" >8582</td>\n",
              "            </tr>\n",
              "            <tr>\n",
              "                        <th id=\"T_55539570_3278_11eb_b494_0242ac1c0002level0_row2\" class=\"row_heading level0 row2\" >0</th>\n",
              "                        <td id=\"T_55539570_3278_11eb_b494_0242ac1c0002row2_col0\" class=\"data row2 col0\" >negative</td>\n",
              "                        <td id=\"T_55539570_3278_11eb_b494_0242ac1c0002row2_col1\" class=\"data row2 col1\" >7781</td>\n",
              "            </tr>\n",
              "    </tbody></table>"
            ],
            "text/plain": [
              "<pandas.io.formats.style.Styler at 0x7f6dd1a77f28>"
            ]
          },
          "metadata": {
            "tags": []
          },
          "execution_count": 13
        }
      ]
    },
    {
      "cell_type": "markdown",
      "metadata": {
        "id": "SVKeqfk2HN2v"
      },
      "source": [
        "finding number of words in given text:----"
      ]
    },
    {
      "cell_type": "code",
      "metadata": {
        "id": "lidIsoB9HN2v"
      },
      "source": [
        "data['orig_text_length']=data['text'].str.split().str.len()"
      ],
      "execution_count": null,
      "outputs": []
    },
    {
      "cell_type": "markdown",
      "metadata": {
        "id": "w_W1TJTIHN2v"
      },
      "source": [
        "finding number of words in subtext/selected_text:----"
      ]
    },
    {
      "cell_type": "code",
      "metadata": {
        "id": "Ynw4ze99HN2v"
      },
      "source": [
        "data['subtext_length']=data['selected_text'].str.split().str.len()\n"
      ],
      "execution_count": null,
      "outputs": []
    },
    {
      "cell_type": "markdown",
      "metadata": {
        "id": "C4CX0uXaHN2v"
      },
      "source": [
        "finding difference between number of words in text and selected_text:----"
      ]
    },
    {
      "cell_type": "code",
      "metadata": {
        "id": "uZF331XrHN2v"
      },
      "source": [
        "data['diff_in_words']=data['orig_text_length']-data['subtext_length']"
      ],
      "execution_count": null,
      "outputs": []
    },
    {
      "cell_type": "code",
      "metadata": {
        "scrolled": true,
        "colab": {
          "base_uri": "https://localhost:8080/",
          "height": 481
        },
        "id": "c3aYQ1W4HN2v",
        "outputId": "6234b284-b1e5-42b2-8d46-2c23cb30734a"
      },
      "source": [
        "data.head(10)"
      ],
      "execution_count": null,
      "outputs": [
        {
          "output_type": "execute_result",
          "data": {
            "text/html": [
              "<div>\n",
              "<style scoped>\n",
              "    .dataframe tbody tr th:only-of-type {\n",
              "        vertical-align: middle;\n",
              "    }\n",
              "\n",
              "    .dataframe tbody tr th {\n",
              "        vertical-align: top;\n",
              "    }\n",
              "\n",
              "    .dataframe thead th {\n",
              "        text-align: right;\n",
              "    }\n",
              "</style>\n",
              "<table border=\"1\" class=\"dataframe\">\n",
              "  <thead>\n",
              "    <tr style=\"text-align: right;\">\n",
              "      <th></th>\n",
              "      <th>textID</th>\n",
              "      <th>text</th>\n",
              "      <th>selected_text</th>\n",
              "      <th>sentiment</th>\n",
              "      <th>orig_text_length</th>\n",
              "      <th>subtext_length</th>\n",
              "      <th>diff_in_words</th>\n",
              "    </tr>\n",
              "  </thead>\n",
              "  <tbody>\n",
              "    <tr>\n",
              "      <th>0</th>\n",
              "      <td>cb774db0d1</td>\n",
              "      <td>I`d have responded, if I were going</td>\n",
              "      <td>I`d have responded, if I were going</td>\n",
              "      <td>neutral</td>\n",
              "      <td>7</td>\n",
              "      <td>7</td>\n",
              "      <td>0</td>\n",
              "    </tr>\n",
              "    <tr>\n",
              "      <th>1</th>\n",
              "      <td>549e992a42</td>\n",
              "      <td>Sooo SAD I will miss you here in San Diego!!!</td>\n",
              "      <td>Sooo SAD</td>\n",
              "      <td>negative</td>\n",
              "      <td>10</td>\n",
              "      <td>2</td>\n",
              "      <td>8</td>\n",
              "    </tr>\n",
              "    <tr>\n",
              "      <th>2</th>\n",
              "      <td>088c60f138</td>\n",
              "      <td>my boss is bullying me...</td>\n",
              "      <td>bullying me</td>\n",
              "      <td>negative</td>\n",
              "      <td>5</td>\n",
              "      <td>2</td>\n",
              "      <td>3</td>\n",
              "    </tr>\n",
              "    <tr>\n",
              "      <th>3</th>\n",
              "      <td>9642c003ef</td>\n",
              "      <td>what interview! leave me alone</td>\n",
              "      <td>leave me alone</td>\n",
              "      <td>negative</td>\n",
              "      <td>5</td>\n",
              "      <td>3</td>\n",
              "      <td>2</td>\n",
              "    </tr>\n",
              "    <tr>\n",
              "      <th>4</th>\n",
              "      <td>358bd9e861</td>\n",
              "      <td>Sons of ****, why couldn`t they put them on t...</td>\n",
              "      <td>Sons of ****,</td>\n",
              "      <td>negative</td>\n",
              "      <td>14</td>\n",
              "      <td>3</td>\n",
              "      <td>11</td>\n",
              "    </tr>\n",
              "    <tr>\n",
              "      <th>5</th>\n",
              "      <td>28b57f3990</td>\n",
              "      <td>http://www.dothebouncy.com/smf - some shameles...</td>\n",
              "      <td>http://www.dothebouncy.com/smf - some shameles...</td>\n",
              "      <td>neutral</td>\n",
              "      <td>12</td>\n",
              "      <td>12</td>\n",
              "      <td>0</td>\n",
              "    </tr>\n",
              "    <tr>\n",
              "      <th>6</th>\n",
              "      <td>6e0c6d75b1</td>\n",
              "      <td>2am feedings for the baby are fun when he is a...</td>\n",
              "      <td>fun</td>\n",
              "      <td>positive</td>\n",
              "      <td>14</td>\n",
              "      <td>1</td>\n",
              "      <td>13</td>\n",
              "    </tr>\n",
              "    <tr>\n",
              "      <th>7</th>\n",
              "      <td>50e14c0bb8</td>\n",
              "      <td>Soooo high</td>\n",
              "      <td>Soooo high</td>\n",
              "      <td>neutral</td>\n",
              "      <td>2</td>\n",
              "      <td>2</td>\n",
              "      <td>0</td>\n",
              "    </tr>\n",
              "    <tr>\n",
              "      <th>8</th>\n",
              "      <td>e050245fbd</td>\n",
              "      <td>Both of you</td>\n",
              "      <td>Both of you</td>\n",
              "      <td>neutral</td>\n",
              "      <td>3</td>\n",
              "      <td>3</td>\n",
              "      <td>0</td>\n",
              "    </tr>\n",
              "    <tr>\n",
              "      <th>9</th>\n",
              "      <td>fc2cbefa9d</td>\n",
              "      <td>Journey!? Wow... u just became cooler.  hehe....</td>\n",
              "      <td>Wow... u just became cooler.</td>\n",
              "      <td>positive</td>\n",
              "      <td>10</td>\n",
              "      <td>5</td>\n",
              "      <td>5</td>\n",
              "    </tr>\n",
              "  </tbody>\n",
              "</table>\n",
              "</div>"
            ],
            "text/plain": [
              "       textID  ... diff_in_words\n",
              "0  cb774db0d1  ...             0\n",
              "1  549e992a42  ...             8\n",
              "2  088c60f138  ...             3\n",
              "3  9642c003ef  ...             2\n",
              "4  358bd9e861  ...            11\n",
              "5  28b57f3990  ...             0\n",
              "6  6e0c6d75b1  ...            13\n",
              "7  50e14c0bb8  ...             0\n",
              "8  e050245fbd  ...             0\n",
              "9  fc2cbefa9d  ...             5\n",
              "\n",
              "[10 rows x 7 columns]"
            ]
          },
          "metadata": {
            "tags": []
          },
          "execution_count": 17
        }
      ]
    },
    {
      "cell_type": "markdown",
      "metadata": {
        "id": "Yki3d9oNHN2w"
      },
      "source": [
        "# Evaluating Jaccard Similarity Score"
      ]
    },
    {
      "cell_type": "code",
      "metadata": {
        "id": "cYSCCkRHHN2w"
      },
      "source": [
        "def jaccard(str1, str2): \n",
        "    a = set(str1.lower().split()) \n",
        "    b = set(str2.lower().split())\n",
        "    c = a.intersection(b)\n",
        "    return float(len(c)) / (len(a) + len(b) - len(c))"
      ],
      "execution_count": null,
      "outputs": []
    },
    {
      "cell_type": "code",
      "metadata": {
        "id": "kasT-S6CHN2w"
      },
      "source": [
        "data.loc[:,'jaccard_score'] = np.vectorize(jaccard, otypes=[\"O\"]) (data['text'], data['selected_text'])"
      ],
      "execution_count": null,
      "outputs": []
    },
    {
      "cell_type": "code",
      "metadata": {
        "colab": {
          "base_uri": "https://localhost:8080/",
          "height": 481
        },
        "id": "VALjUNxOHN2w",
        "outputId": "94ff54dc-d37a-44c7-95a3-5d8850dbc1da"
      },
      "source": [
        "data.head(10)"
      ],
      "execution_count": null,
      "outputs": [
        {
          "output_type": "execute_result",
          "data": {
            "text/html": [
              "<div>\n",
              "<style scoped>\n",
              "    .dataframe tbody tr th:only-of-type {\n",
              "        vertical-align: middle;\n",
              "    }\n",
              "\n",
              "    .dataframe tbody tr th {\n",
              "        vertical-align: top;\n",
              "    }\n",
              "\n",
              "    .dataframe thead th {\n",
              "        text-align: right;\n",
              "    }\n",
              "</style>\n",
              "<table border=\"1\" class=\"dataframe\">\n",
              "  <thead>\n",
              "    <tr style=\"text-align: right;\">\n",
              "      <th></th>\n",
              "      <th>textID</th>\n",
              "      <th>text</th>\n",
              "      <th>selected_text</th>\n",
              "      <th>sentiment</th>\n",
              "      <th>orig_text_length</th>\n",
              "      <th>subtext_length</th>\n",
              "      <th>diff_in_words</th>\n",
              "      <th>jaccard_score</th>\n",
              "    </tr>\n",
              "  </thead>\n",
              "  <tbody>\n",
              "    <tr>\n",
              "      <th>0</th>\n",
              "      <td>cb774db0d1</td>\n",
              "      <td>I`d have responded, if I were going</td>\n",
              "      <td>I`d have responded, if I were going</td>\n",
              "      <td>neutral</td>\n",
              "      <td>7</td>\n",
              "      <td>7</td>\n",
              "      <td>0</td>\n",
              "      <td>1</td>\n",
              "    </tr>\n",
              "    <tr>\n",
              "      <th>1</th>\n",
              "      <td>549e992a42</td>\n",
              "      <td>Sooo SAD I will miss you here in San Diego!!!</td>\n",
              "      <td>Sooo SAD</td>\n",
              "      <td>negative</td>\n",
              "      <td>10</td>\n",
              "      <td>2</td>\n",
              "      <td>8</td>\n",
              "      <td>0.2</td>\n",
              "    </tr>\n",
              "    <tr>\n",
              "      <th>2</th>\n",
              "      <td>088c60f138</td>\n",
              "      <td>my boss is bullying me...</td>\n",
              "      <td>bullying me</td>\n",
              "      <td>negative</td>\n",
              "      <td>5</td>\n",
              "      <td>2</td>\n",
              "      <td>3</td>\n",
              "      <td>0.166667</td>\n",
              "    </tr>\n",
              "    <tr>\n",
              "      <th>3</th>\n",
              "      <td>9642c003ef</td>\n",
              "      <td>what interview! leave me alone</td>\n",
              "      <td>leave me alone</td>\n",
              "      <td>negative</td>\n",
              "      <td>5</td>\n",
              "      <td>3</td>\n",
              "      <td>2</td>\n",
              "      <td>0.6</td>\n",
              "    </tr>\n",
              "    <tr>\n",
              "      <th>4</th>\n",
              "      <td>358bd9e861</td>\n",
              "      <td>Sons of ****, why couldn`t they put them on t...</td>\n",
              "      <td>Sons of ****,</td>\n",
              "      <td>negative</td>\n",
              "      <td>14</td>\n",
              "      <td>3</td>\n",
              "      <td>11</td>\n",
              "      <td>0.214286</td>\n",
              "    </tr>\n",
              "    <tr>\n",
              "      <th>5</th>\n",
              "      <td>28b57f3990</td>\n",
              "      <td>http://www.dothebouncy.com/smf - some shameles...</td>\n",
              "      <td>http://www.dothebouncy.com/smf - some shameles...</td>\n",
              "      <td>neutral</td>\n",
              "      <td>12</td>\n",
              "      <td>12</td>\n",
              "      <td>0</td>\n",
              "      <td>1</td>\n",
              "    </tr>\n",
              "    <tr>\n",
              "      <th>6</th>\n",
              "      <td>6e0c6d75b1</td>\n",
              "      <td>2am feedings for the baby are fun when he is a...</td>\n",
              "      <td>fun</td>\n",
              "      <td>positive</td>\n",
              "      <td>14</td>\n",
              "      <td>1</td>\n",
              "      <td>13</td>\n",
              "      <td>0.0714286</td>\n",
              "    </tr>\n",
              "    <tr>\n",
              "      <th>7</th>\n",
              "      <td>50e14c0bb8</td>\n",
              "      <td>Soooo high</td>\n",
              "      <td>Soooo high</td>\n",
              "      <td>neutral</td>\n",
              "      <td>2</td>\n",
              "      <td>2</td>\n",
              "      <td>0</td>\n",
              "      <td>1</td>\n",
              "    </tr>\n",
              "    <tr>\n",
              "      <th>8</th>\n",
              "      <td>e050245fbd</td>\n",
              "      <td>Both of you</td>\n",
              "      <td>Both of you</td>\n",
              "      <td>neutral</td>\n",
              "      <td>3</td>\n",
              "      <td>3</td>\n",
              "      <td>0</td>\n",
              "      <td>1</td>\n",
              "    </tr>\n",
              "    <tr>\n",
              "      <th>9</th>\n",
              "      <td>fc2cbefa9d</td>\n",
              "      <td>Journey!? Wow... u just became cooler.  hehe....</td>\n",
              "      <td>Wow... u just became cooler.</td>\n",
              "      <td>positive</td>\n",
              "      <td>10</td>\n",
              "      <td>5</td>\n",
              "      <td>5</td>\n",
              "      <td>0.5</td>\n",
              "    </tr>\n",
              "  </tbody>\n",
              "</table>\n",
              "</div>"
            ],
            "text/plain": [
              "       textID  ... jaccard_score\n",
              "0  cb774db0d1  ...             1\n",
              "1  549e992a42  ...           0.2\n",
              "2  088c60f138  ...      0.166667\n",
              "3  9642c003ef  ...           0.6\n",
              "4  358bd9e861  ...      0.214286\n",
              "5  28b57f3990  ...             1\n",
              "6  6e0c6d75b1  ...     0.0714286\n",
              "7  50e14c0bb8  ...             1\n",
              "8  e050245fbd  ...             1\n",
              "9  fc2cbefa9d  ...           0.5\n",
              "\n",
              "[10 rows x 8 columns]"
            ]
          },
          "metadata": {
            "tags": []
          },
          "execution_count": 20
        }
      ]
    },
    {
      "cell_type": "markdown",
      "metadata": {
        "id": "-dQnhHmIHN2w"
      },
      "source": [
        "# Distribution of Words in Text and Subtext"
      ]
    },
    {
      "cell_type": "code",
      "metadata": {
        "colab": {
          "base_uri": "https://localhost:8080/",
          "height": 297
        },
        "id": "WdzZwFxTHN2w",
        "outputId": "256455ac-8ee5-46a1-ef24-18f81d0e3db1"
      },
      "source": [
        "sns.distplot(data['orig_text_length'],color='blue')"
      ],
      "execution_count": null,
      "outputs": [
        {
          "output_type": "execute_result",
          "data": {
            "text/plain": [
              "<matplotlib.axes._subplots.AxesSubplot at 0x7f6dd13442b0>"
            ]
          },
          "metadata": {
            "tags": []
          },
          "execution_count": 21
        },
        {
          "output_type": "display_data",
          "data": {
            "image/png": "[encoded data removed]",
            "text/plain": [
              "<Figure size 432x288 with 1 Axes>"
            ]
          },
          "metadata": {
            "tags": [],
            "needs_background": "light"
          }
        }
      ]
    },
    {
      "cell_type": "code",
      "metadata": {
        "colab": {
          "base_uri": "https://localhost:8080/",
          "height": 300
        },
        "id": "ZuaVhOZ3HN2x",
        "outputId": "8cf94760-fb0d-438e-958f-274729159a11"
      },
      "source": [
        "sns.distplot(data['subtext_length'],color='red')"
      ],
      "execution_count": null,
      "outputs": [
        {
          "output_type": "execute_result",
          "data": {
            "text/plain": [
              "<matplotlib.axes._subplots.AxesSubplot at 0x7f6dd06dec88>"
            ]
          },
          "metadata": {
            "tags": []
          },
          "execution_count": 22
        },
        {
          "output_type": "display_data",
          "data": {
            "image/png": "[encoded data removed]",
            "text/plain": [
              "<Figure size 432x288 with 1 Axes>"
            ]
          },
          "metadata": {
            "tags": [],
            "needs_background": "light"
          }
        }
      ]
    },
    {
      "cell_type": "code",
      "metadata": {
        "colab": {
          "base_uri": "https://localhost:8080/",
          "height": 406
        },
        "id": "VvngEi2RHN2x",
        "outputId": "922c8655-50d8-4587-9c52-c6709e680c11"
      },
      "source": [
        "plt.figure(figsize=(12,6))\n",
        "sns.distplot(data['subtext_length'],kde=False)\n",
        "sns.distplot(data['orig_text_length'],kde=False)"
      ],
      "execution_count": null,
      "outputs": [
        {
          "output_type": "execute_result",
          "data": {
            "text/plain": [
              "<matplotlib.axes._subplots.AxesSubplot at 0x7f6dd128b7b8>"
            ]
          },
          "metadata": {
            "tags": []
          },
          "execution_count": 23
        },
        {
          "output_type": "display_data",
          "data": {
            "image/png": "[encoded data removed]",
            "text/plain": [
              "<Figure size 864x432 with 1 Axes>"
            ]
          },
          "metadata": {
            "tags": [],
            "needs_background": "light"
          }
        }
      ]
    },
    {
      "cell_type": "code",
      "metadata": {
        "colab": {
          "base_uri": "https://localhost:8080/",
          "height": 406
        },
        "id": "NTlVoHbQHN2x",
        "outputId": "5e904686-08a4-40eb-fb15-12da70e1e2e4"
      },
      "source": [
        "plt.figure(figsize=(12,6))\n",
        "sns.kdeplot(data['subtext_length'],shade=True)\n",
        "sns.kdeplot(data['orig_text_length'],shade=True)"
      ],
      "execution_count": null,
      "outputs": [
        {
          "output_type": "execute_result",
          "data": {
            "text/plain": [
              "<matplotlib.axes._subplots.AxesSubplot at 0x7f6dd1232518>"
            ]
          },
          "metadata": {
            "tags": []
          },
          "execution_count": 24
        },
        {
          "output_type": "display_data",
          "data": {
            "image/png": "[encoded data removed]",
            "text/plain": [
              "<Figure size 864x432 with 1 Axes>"
            ]
          },
          "metadata": {
            "tags": [],
            "needs_background": "light"
          }
        }
      ]
    },
    {
      "cell_type": "markdown",
      "metadata": {
        "id": "RGOEu26rHN2x"
      },
      "source": [
        "Sentiment Wise Distribution:----"
      ]
    },
    {
      "cell_type": "code",
      "metadata": {
        "scrolled": true,
        "colab": {
          "base_uri": "https://localhost:8080/",
          "height": 406
        },
        "id": "UZumb3aPHN2y",
        "outputId": "7fcc7e1f-b94c-4632-93e7-2c44718c5ca8"
      },
      "source": [
        "plt.figure(figsize=(12,6))\n",
        "sns.kdeplot(data[data['sentiment']=='positive']['diff_in_words'],shade=True)\n",
        "sns.kdeplot(data[data['sentiment']=='negative']['diff_in_words'],shade=True)"
      ],
      "execution_count": null,
      "outputs": [
        {
          "output_type": "execute_result",
          "data": {
            "text/plain": [
              "<matplotlib.axes._subplots.AxesSubplot at 0x7f6dd1051828>"
            ]
          },
          "metadata": {
            "tags": []
          },
          "execution_count": 25
        },
        {
          "output_type": "display_data",
          "data": {
            "image/png": "[encoded data removed]",
            "text/plain": [
              "<Figure size 864x432 with 1 Axes>"
            ]
          },
          "metadata": {
            "tags": [],
            "needs_background": "light"
          }
        }
      ]
    },
    {
      "cell_type": "code",
      "metadata": {
        "colab": {
          "base_uri": "https://localhost:8080/",
          "height": 297
        },
        "id": "zherSXLxHN2y",
        "outputId": "8f0e538c-a1f0-4b3b-c3eb-1cb23d4c2835"
      },
      "source": [
        "sns.distplot(data[data['sentiment']=='neutral']['diff_in_words'],kde=False)"
      ],
      "execution_count": null,
      "outputs": [
        {
          "output_type": "execute_result",
          "data": {
            "text/plain": [
              "<matplotlib.axes._subplots.AxesSubplot at 0x7f6dd10136a0>"
            ]
          },
          "metadata": {
            "tags": []
          },
          "execution_count": 26
        },
        {
          "output_type": "display_data",
          "data": {
            "image/png": "[encoded data removed]",
            "text/plain": [
              "<Figure size 432x288 with 1 Axes>"
            ]
          },
          "metadata": {
            "tags": [],
            "needs_background": "light"
          }
        }
      ]
    },
    {
      "cell_type": "code",
      "metadata": {
        "id": "UpPhf4R36FwP"
      },
      "source": [
        "data['jaccard_score']=data['jaccard_score'].astype(float)"
      ],
      "execution_count": null,
      "outputs": []
    },
    {
      "cell_type": "code",
      "metadata": {
        "colab": {
          "base_uri": "https://localhost:8080/",
          "height": 406
        },
        "id": "thHmdqrdHN2y",
        "outputId": "7889d29c-e449-47d6-b233-cd7c72ccc9f6"
      },
      "source": [
        "plt.figure(figsize=(12,6))\n",
        "sns.kdeplot(data[data['sentiment']=='positive']['jaccard_score'],shade=True)\n",
        "sns.kdeplot(data[data['sentiment']=='negative']['jaccard_score'],shade=True)\n"
      ],
      "execution_count": null,
      "outputs": [
        {
          "output_type": "execute_result",
          "data": {
            "text/plain": [
              "<matplotlib.axes._subplots.AxesSubplot at 0x7f6dd0f24c88>"
            ]
          },
          "metadata": {
            "tags": []
          },
          "execution_count": 28
        },
        {
          "output_type": "display_data",
          "data": {
            "image/png": "[encoded data removed]",
            "text/plain": [
              "<Figure size 864x432 with 1 Axes>"
            ]
          },
          "metadata": {
            "tags": [],
            "needs_background": "light"
          }
        }
      ]
    },
    {
      "cell_type": "code",
      "metadata": {
        "id": "ElgLYfjMHN2y",
        "colab": {
          "base_uri": "https://localhost:8080/",
          "height": 297
        },
        "outputId": "aa91bbaa-3d5b-42f7-e3b0-27b061e82824"
      },
      "source": [
        "sns.distplot(data[data['sentiment']=='neutral']['jaccard_score'],kde=False)"
      ],
      "execution_count": null,
      "outputs": [
        {
          "output_type": "execute_result",
          "data": {
            "text/plain": [
              "<matplotlib.axes._subplots.AxesSubplot at 0x7f6dd10e5c18>"
            ]
          },
          "metadata": {
            "tags": []
          },
          "execution_count": 29
        },
        {
          "output_type": "display_data",
          "data": {
            "image/png": "[encoded data removed]",
            "text/plain": [
              "<Figure size 432x288 with 1 Axes>"
            ]
          },
          "metadata": {
            "tags": [],
            "needs_background": "light"
          }
        }
      ]
    },
    {
      "cell_type": "code",
      "metadata": {
        "id": "qEzeqOmdHN2z",
        "colab": {
          "base_uri": "https://localhost:8080/"
        },
        "outputId": "2a58eff0-3db2-41b8-b5d9-ae0d6a89c3a4"
      },
      "source": [
        "data['jaccard_score'].dtype"
      ],
      "execution_count": null,
      "outputs": [
        {
          "output_type": "execute_result",
          "data": {
            "text/plain": [
              "dtype('float64')"
            ]
          },
          "metadata": {
            "tags": []
          },
          "execution_count": 30
        }
      ]
    },
    {
      "cell_type": "code",
      "metadata": {
        "id": "t7XYCuBjHN20"
      },
      "source": [
        "data['jaccard_score']=data['jaccard_score'].astype(float)"
      ],
      "execution_count": null,
      "outputs": []
    },
    {
      "cell_type": "code",
      "metadata": {
        "id": "kwV5ppu2HN20",
        "colab": {
          "base_uri": "https://localhost:8080/"
        },
        "outputId": "17aa187a-4e6e-464d-d41b-f545f1e4d3ba"
      },
      "source": [
        "data['jaccard_score'].dtype"
      ],
      "execution_count": null,
      "outputs": [
        {
          "output_type": "execute_result",
          "data": {
            "text/plain": [
              "dtype('float64')"
            ]
          },
          "metadata": {
            "tags": []
          },
          "execution_count": 32
        }
      ]
    },
    {
      "cell_type": "code",
      "metadata": {
        "id": "j4P4aPVnHN20"
      },
      "source": [
        "pred=data[data['orig_text_length']<=2]"
      ],
      "execution_count": null,
      "outputs": []
    },
    {
      "cell_type": "code",
      "metadata": {
        "id": "70napFh8HN20",
        "colab": {
          "base_uri": "https://localhost:8080/",
          "height": 173
        },
        "outputId": "74bc7c49-f788-4ef8-960c-a534aded253c"
      },
      "source": [
        "pred.groupby('sentiment').mean()"
      ],
      "execution_count": null,
      "outputs": [
        {
          "output_type": "execute_result",
          "data": {
            "text/html": [
              "<div>\n",
              "<style scoped>\n",
              "    .dataframe tbody tr th:only-of-type {\n",
              "        vertical-align: middle;\n",
              "    }\n",
              "\n",
              "    .dataframe tbody tr th {\n",
              "        vertical-align: top;\n",
              "    }\n",
              "\n",
              "    .dataframe thead th {\n",
              "        text-align: right;\n",
              "    }\n",
              "</style>\n",
              "<table border=\"1\" class=\"dataframe\">\n",
              "  <thead>\n",
              "    <tr style=\"text-align: right;\">\n",
              "      <th></th>\n",
              "      <th>orig_text_length</th>\n",
              "      <th>subtext_length</th>\n",
              "      <th>diff_in_words</th>\n",
              "      <th>jaccard_score</th>\n",
              "    </tr>\n",
              "    <tr>\n",
              "      <th>sentiment</th>\n",
              "      <th></th>\n",
              "      <th></th>\n",
              "      <th></th>\n",
              "      <th></th>\n",
              "    </tr>\n",
              "  </thead>\n",
              "  <tbody>\n",
              "    <tr>\n",
              "      <th>negative</th>\n",
              "      <td>1.842593</td>\n",
              "      <td>1.509259</td>\n",
              "      <td>0.333333</td>\n",
              "      <td>0.788580</td>\n",
              "    </tr>\n",
              "    <tr>\n",
              "      <th>neutral</th>\n",
              "      <td>1.670702</td>\n",
              "      <td>1.653753</td>\n",
              "      <td>0.016949</td>\n",
              "      <td>0.977805</td>\n",
              "    </tr>\n",
              "    <tr>\n",
              "      <th>positive</th>\n",
              "      <td>1.777778</td>\n",
              "      <td>1.415459</td>\n",
              "      <td>0.362319</td>\n",
              "      <td>0.765700</td>\n",
              "    </tr>\n",
              "  </tbody>\n",
              "</table>\n",
              "</div>"
            ],
            "text/plain": [
              "           orig_text_length  subtext_length  diff_in_words  jaccard_score\n",
              "sentiment                                                                \n",
              "negative           1.842593        1.509259       0.333333       0.788580\n",
              "neutral            1.670702        1.653753       0.016949       0.977805\n",
              "positive           1.777778        1.415459       0.362319       0.765700"
            ]
          },
          "metadata": {
            "tags": []
          },
          "execution_count": 34
        }
      ]
    },
    {
      "cell_type": "code",
      "metadata": {
        "id": "Hy6j055eHN20",
        "colab": {
          "base_uri": "https://localhost:8080/",
          "height": 456
        },
        "outputId": "3aee2d58-21e0-4db5-dbbb-f7ce3bcec082"
      },
      "source": [
        "pred[pred['sentiment']=='positive']"
      ],
      "execution_count": null,
      "outputs": [
        {
          "output_type": "execute_result",
          "data": {
            "text/html": [
              "<div>\n",
              "<style scoped>\n",
              "    .dataframe tbody tr th:only-of-type {\n",
              "        vertical-align: middle;\n",
              "    }\n",
              "\n",
              "    .dataframe tbody tr th {\n",
              "        vertical-align: top;\n",
              "    }\n",
              "\n",
              "    .dataframe thead th {\n",
              "        text-align: right;\n",
              "    }\n",
              "</style>\n",
              "<table border=\"1\" class=\"dataframe\">\n",
              "  <thead>\n",
              "    <tr style=\"text-align: right;\">\n",
              "      <th></th>\n",
              "      <th>textID</th>\n",
              "      <th>text</th>\n",
              "      <th>selected_text</th>\n",
              "      <th>sentiment</th>\n",
              "      <th>orig_text_length</th>\n",
              "      <th>subtext_length</th>\n",
              "      <th>diff_in_words</th>\n",
              "      <th>jaccard_score</th>\n",
              "    </tr>\n",
              "  </thead>\n",
              "  <tbody>\n",
              "    <tr>\n",
              "      <th>68</th>\n",
              "      <td>fa2654e730</td>\n",
              "      <td>Chilliin</td>\n",
              "      <td>Chilliin</td>\n",
              "      <td>positive</td>\n",
              "      <td>1</td>\n",
              "      <td>1</td>\n",
              "      <td>0</td>\n",
              "      <td>1.0</td>\n",
              "    </tr>\n",
              "    <tr>\n",
              "      <th>80</th>\n",
              "      <td>bbbc46889b</td>\n",
              "      <td>THANK YYYYYYYYYOOOOOOOOOOUUUUU!</td>\n",
              "      <td>THANK YYYYYYYYYOOOOOOOOOOUUUUU!</td>\n",
              "      <td>positive</td>\n",
              "      <td>2</td>\n",
              "      <td>2</td>\n",
              "      <td>0</td>\n",
              "      <td>1.0</td>\n",
              "    </tr>\n",
              "    <tr>\n",
              "      <th>170</th>\n",
              "      <td>f3d95b57b1</td>\n",
              "      <td>good morning</td>\n",
              "      <td>good morning</td>\n",
              "      <td>positive</td>\n",
              "      <td>2</td>\n",
              "      <td>2</td>\n",
              "      <td>0</td>\n",
              "      <td>1.0</td>\n",
              "    </tr>\n",
              "    <tr>\n",
              "      <th>278</th>\n",
              "      <td>89d5b3f0b5</td>\n",
              "      <td>Thanks</td>\n",
              "      <td>Thanks</td>\n",
              "      <td>positive</td>\n",
              "      <td>1</td>\n",
              "      <td>1</td>\n",
              "      <td>0</td>\n",
              "      <td>1.0</td>\n",
              "    </tr>\n",
              "    <tr>\n",
              "      <th>430</th>\n",
              "      <td>a78ef3e0d0</td>\n",
              "      <td>Goodmorning</td>\n",
              "      <td>Goodmorning</td>\n",
              "      <td>positive</td>\n",
              "      <td>1</td>\n",
              "      <td>1</td>\n",
              "      <td>0</td>\n",
              "      <td>1.0</td>\n",
              "    </tr>\n",
              "    <tr>\n",
              "      <th>...</th>\n",
              "      <td>...</td>\n",
              "      <td>...</td>\n",
              "      <td>...</td>\n",
              "      <td>...</td>\n",
              "      <td>...</td>\n",
              "      <td>...</td>\n",
              "      <td>...</td>\n",
              "      <td>...</td>\n",
              "    </tr>\n",
              "    <tr>\n",
              "      <th>26690</th>\n",
              "      <td>e80c242d6a</td>\n",
              "      <td>Goodnight;</td>\n",
              "      <td>Goodnight;</td>\n",
              "      <td>positive</td>\n",
              "      <td>1</td>\n",
              "      <td>1</td>\n",
              "      <td>0</td>\n",
              "      <td>1.0</td>\n",
              "    </tr>\n",
              "    <tr>\n",
              "      <th>26726</th>\n",
              "      <td>aad244f37d</td>\n",
              "      <td>*hug*</td>\n",
              "      <td>*hug*</td>\n",
              "      <td>positive</td>\n",
              "      <td>1</td>\n",
              "      <td>1</td>\n",
              "      <td>0</td>\n",
              "      <td>1.0</td>\n",
              "    </tr>\n",
              "    <tr>\n",
              "      <th>26843</th>\n",
              "      <td>a46571fe12</td>\n",
              "      <td>congrats!</td>\n",
              "      <td>congrats!</td>\n",
              "      <td>positive</td>\n",
              "      <td>1</td>\n",
              "      <td>1</td>\n",
              "      <td>0</td>\n",
              "      <td>1.0</td>\n",
              "    </tr>\n",
              "    <tr>\n",
              "      <th>26960</th>\n",
              "      <td>49a942e9b1</td>\n",
              "      <td>Happy birthday.</td>\n",
              "      <td>Happy birthday.</td>\n",
              "      <td>positive</td>\n",
              "      <td>2</td>\n",
              "      <td>2</td>\n",
              "      <td>0</td>\n",
              "      <td>1.0</td>\n",
              "    </tr>\n",
              "    <tr>\n",
              "      <th>27293</th>\n",
              "      <td>47c474aaf1</td>\n",
              "      <td>Good choice</td>\n",
              "      <td>Good</td>\n",
              "      <td>positive</td>\n",
              "      <td>2</td>\n",
              "      <td>1</td>\n",
              "      <td>1</td>\n",
              "      <td>0.5</td>\n",
              "    </tr>\n",
              "  </tbody>\n",
              "</table>\n",
              "<p>207 rows × 8 columns</p>\n",
              "</div>"
            ],
            "text/plain": [
              "           textID  ... jaccard_score\n",
              "68     fa2654e730  ...           1.0\n",
              "80     bbbc46889b  ...           1.0\n",
              "170    f3d95b57b1  ...           1.0\n",
              "278    89d5b3f0b5  ...           1.0\n",
              "430    a78ef3e0d0  ...           1.0\n",
              "...           ...  ...           ...\n",
              "26690  e80c242d6a  ...           1.0\n",
              "26726  aad244f37d  ...           1.0\n",
              "26843  a46571fe12  ...           1.0\n",
              "26960  49a942e9b1  ...           1.0\n",
              "27293  47c474aaf1  ...           0.5\n",
              "\n",
              "[207 rows x 8 columns]"
            ]
          },
          "metadata": {
            "tags": []
          },
          "execution_count": 35
        }
      ]
    },
    {
      "cell_type": "code",
      "metadata": {
        "id": "YSSe9YnsHN21",
        "colab": {
          "base_uri": "https://localhost:8080/",
          "height": 453
        },
        "outputId": "c0a4b1c6-b701-45ee-9764-6d7319230e60"
      },
      "source": [
        "pred[pred['sentiment']=='negative']"
      ],
      "execution_count": null,
      "outputs": [
        {
          "output_type": "execute_result",
          "data": {
            "text/html": [
              "<div>\n",
              "<style scoped>\n",
              "    .dataframe tbody tr th:only-of-type {\n",
              "        vertical-align: middle;\n",
              "    }\n",
              "\n",
              "    .dataframe tbody tr th {\n",
              "        vertical-align: top;\n",
              "    }\n",
              "\n",
              "    .dataframe thead th {\n",
              "        text-align: right;\n",
              "    }\n",
              "</style>\n",
              "<table border=\"1\" class=\"dataframe\">\n",
              "  <thead>\n",
              "    <tr style=\"text-align: right;\">\n",
              "      <th></th>\n",
              "      <th>textID</th>\n",
              "      <th>text</th>\n",
              "      <th>selected_text</th>\n",
              "      <th>sentiment</th>\n",
              "      <th>orig_text_length</th>\n",
              "      <th>subtext_length</th>\n",
              "      <th>diff_in_words</th>\n",
              "      <th>jaccard_score</th>\n",
              "    </tr>\n",
              "  </thead>\n",
              "  <tbody>\n",
              "    <tr>\n",
              "      <th>26</th>\n",
              "      <td>852edc3769</td>\n",
              "      <td>I`m sorry.</td>\n",
              "      <td>I`m sorry.</td>\n",
              "      <td>negative</td>\n",
              "      <td>2</td>\n",
              "      <td>2</td>\n",
              "      <td>0</td>\n",
              "      <td>1.0</td>\n",
              "    </tr>\n",
              "    <tr>\n",
              "      <th>124</th>\n",
              "      <td>f0460d611d</td>\n",
              "      <td>not well</td>\n",
              "      <td>not well</td>\n",
              "      <td>negative</td>\n",
              "      <td>2</td>\n",
              "      <td>2</td>\n",
              "      <td>0</td>\n",
              "      <td>1.0</td>\n",
              "    </tr>\n",
              "    <tr>\n",
              "      <th>144</th>\n",
              "      <td>7e4ed52c4a</td>\n",
              "      <td>Hate fighting</td>\n",
              "      <td>Hate fighting</td>\n",
              "      <td>negative</td>\n",
              "      <td>2</td>\n",
              "      <td>2</td>\n",
              "      <td>0</td>\n",
              "      <td>1.0</td>\n",
              "    </tr>\n",
              "    <tr>\n",
              "      <th>218</th>\n",
              "      <td>a8734230b6</td>\n",
              "      <td>Ew traffic</td>\n",
              "      <td>Ew traffic</td>\n",
              "      <td>negative</td>\n",
              "      <td>2</td>\n",
              "      <td>2</td>\n",
              "      <td>0</td>\n",
              "      <td>1.0</td>\n",
              "    </tr>\n",
              "    <tr>\n",
              "      <th>329</th>\n",
              "      <td>0404648e1c</td>\n",
              "      <td>?sucks!?..</td>\n",
              "      <td>?sucks!?..</td>\n",
              "      <td>negative</td>\n",
              "      <td>1</td>\n",
              "      <td>1</td>\n",
              "      <td>0</td>\n",
              "      <td>1.0</td>\n",
              "    </tr>\n",
              "    <tr>\n",
              "      <th>...</th>\n",
              "      <td>...</td>\n",
              "      <td>...</td>\n",
              "      <td>...</td>\n",
              "      <td>...</td>\n",
              "      <td>...</td>\n",
              "      <td>...</td>\n",
              "      <td>...</td>\n",
              "      <td>...</td>\n",
              "    </tr>\n",
              "    <tr>\n",
              "      <th>26260</th>\n",
              "      <td>cfedf94a53</td>\n",
              "      <td>ohh, ouch</td>\n",
              "      <td>ouch</td>\n",
              "      <td>negative</td>\n",
              "      <td>2</td>\n",
              "      <td>1</td>\n",
              "      <td>1</td>\n",
              "      <td>0.5</td>\n",
              "    </tr>\n",
              "    <tr>\n",
              "      <th>26754</th>\n",
              "      <td>b6f6bd82c0</td>\n",
              "      <td>careless</td>\n",
              "      <td>careless</td>\n",
              "      <td>negative</td>\n",
              "      <td>1</td>\n",
              "      <td>1</td>\n",
              "      <td>0</td>\n",
              "      <td>1.0</td>\n",
              "    </tr>\n",
              "    <tr>\n",
              "      <th>26798</th>\n",
              "      <td>0e2f13043e</td>\n",
              "      <td>reaaaallly bored</td>\n",
              "      <td>reaaaallly bored</td>\n",
              "      <td>negative</td>\n",
              "      <td>2</td>\n",
              "      <td>2</td>\n",
              "      <td>0</td>\n",
              "      <td>1.0</td>\n",
              "    </tr>\n",
              "    <tr>\n",
              "      <th>26851</th>\n",
              "      <td>b732cd6641</td>\n",
              "      <td>I`m sorry</td>\n",
              "      <td>I`m sorry</td>\n",
              "      <td>negative</td>\n",
              "      <td>2</td>\n",
              "      <td>2</td>\n",
              "      <td>0</td>\n",
              "      <td>1.0</td>\n",
              "    </tr>\n",
              "    <tr>\n",
              "      <th>26999</th>\n",
              "      <td>4213f65406</td>\n",
              "      <td>missing someonee...</td>\n",
              "      <td>missing</td>\n",
              "      <td>negative</td>\n",
              "      <td>2</td>\n",
              "      <td>1</td>\n",
              "      <td>1</td>\n",
              "      <td>0.5</td>\n",
              "    </tr>\n",
              "  </tbody>\n",
              "</table>\n",
              "<p>108 rows × 8 columns</p>\n",
              "</div>"
            ],
            "text/plain": [
              "           textID                 text  ... diff_in_words jaccard_score\n",
              "26     852edc3769           I`m sorry.  ...             0           1.0\n",
              "124    f0460d611d             not well  ...             0           1.0\n",
              "144    7e4ed52c4a        Hate fighting  ...             0           1.0\n",
              "218    a8734230b6           Ew traffic  ...             0           1.0\n",
              "329    0404648e1c           ?sucks!?..  ...             0           1.0\n",
              "...           ...                  ...  ...           ...           ...\n",
              "26260  cfedf94a53            ohh, ouch  ...             1           0.5\n",
              "26754  b6f6bd82c0             careless  ...             0           1.0\n",
              "26798  0e2f13043e     reaaaallly bored  ...             0           1.0\n",
              "26851  b732cd6641            I`m sorry  ...             0           1.0\n",
              "26999  4213f65406  missing someonee...  ...             1           0.5\n",
              "\n",
              "[108 rows x 8 columns]"
            ]
          },
          "metadata": {
            "tags": []
          },
          "execution_count": 36
        }
      ]
    },
    {
      "cell_type": "markdown",
      "metadata": {
        "id": "xCFwocpxHN21"
      },
      "source": [
        "# Cleaning The Texts"
      ]
    },
    {
      "cell_type": "code",
      "metadata": {
        "id": "Pit3pSsOHN21"
      },
      "source": [
        "def clean_text(text):\n",
        "    '''Make text lowercase, remove text in square brackets,remove links,remove punctuation\n",
        "    and remove words containing numbers.'''\n",
        "    text = str(text).lower()\n",
        "    text = re.sub('\\[.*?\\]', '', text)\n",
        "    text = re.sub('https?://\\S+|www\\.\\S+', '', text)\n",
        "    text = re.sub('<.*?>+', '', text)\n",
        "    text = re.sub('[%s]' % re.escape(string.punctuation), '', text)\n",
        "    text = re.sub('\\n', '', text)\n",
        "    text = re.sub('\\w*\\d\\w*', '', text)\n",
        "    return text"
      ],
      "execution_count": null,
      "outputs": []
    },
    {
      "cell_type": "code",
      "metadata": {
        "id": "vgJA-US-HN21"
      },
      "source": [
        "data['text']=data['text'].apply(clean_text)"
      ],
      "execution_count": null,
      "outputs": []
    },
    {
      "cell_type": "code",
      "metadata": {
        "id": "oLGEqNSvHN21"
      },
      "source": [
        "data['selected_text']=data['selected_text'].apply(clean_text)"
      ],
      "execution_count": null,
      "outputs": []
    },
    {
      "cell_type": "code",
      "metadata": {
        "id": "VvZDNqgyHN21",
        "colab": {
          "base_uri": "https://localhost:8080/",
          "height": 665
        },
        "outputId": "1dacde3f-8ed3-455c-836d-b6114ed632cb"
      },
      "source": [
        "data.head(10)"
      ],
      "execution_count": null,
      "outputs": [
        {
          "output_type": "execute_result",
          "data": {
            "text/html": [
              "<div>\n",
              "<style scoped>\n",
              "    .dataframe tbody tr th:only-of-type {\n",
              "        vertical-align: middle;\n",
              "    }\n",
              "\n",
              "    .dataframe tbody tr th {\n",
              "        vertical-align: top;\n",
              "    }\n",
              "\n",
              "    .dataframe thead th {\n",
              "        text-align: right;\n",
              "    }\n",
              "</style>\n",
              "<table border=\"1\" class=\"dataframe\">\n",
              "  <thead>\n",
              "    <tr style=\"text-align: right;\">\n",
              "      <th></th>\n",
              "      <th>textID</th>\n",
              "      <th>text</th>\n",
              "      <th>selected_text</th>\n",
              "      <th>sentiment</th>\n",
              "      <th>orig_text_length</th>\n",
              "      <th>subtext_length</th>\n",
              "      <th>diff_in_words</th>\n",
              "      <th>jaccard_score</th>\n",
              "    </tr>\n",
              "  </thead>\n",
              "  <tbody>\n",
              "    <tr>\n",
              "      <th>0</th>\n",
              "      <td>cb774db0d1</td>\n",
              "      <td>id have responded if i were going</td>\n",
              "      <td>id have responded if i were going</td>\n",
              "      <td>neutral</td>\n",
              "      <td>7</td>\n",
              "      <td>7</td>\n",
              "      <td>0</td>\n",
              "      <td>1.000000</td>\n",
              "    </tr>\n",
              "    <tr>\n",
              "      <th>1</th>\n",
              "      <td>549e992a42</td>\n",
              "      <td>sooo sad i will miss you here in san diego</td>\n",
              "      <td>sooo sad</td>\n",
              "      <td>negative</td>\n",
              "      <td>10</td>\n",
              "      <td>2</td>\n",
              "      <td>8</td>\n",
              "      <td>0.200000</td>\n",
              "    </tr>\n",
              "    <tr>\n",
              "      <th>2</th>\n",
              "      <td>088c60f138</td>\n",
              "      <td>my boss is bullying me</td>\n",
              "      <td>bullying me</td>\n",
              "      <td>negative</td>\n",
              "      <td>5</td>\n",
              "      <td>2</td>\n",
              "      <td>3</td>\n",
              "      <td>0.166667</td>\n",
              "    </tr>\n",
              "    <tr>\n",
              "      <th>3</th>\n",
              "      <td>9642c003ef</td>\n",
              "      <td>what interview leave me alone</td>\n",
              "      <td>leave me alone</td>\n",
              "      <td>negative</td>\n",
              "      <td>5</td>\n",
              "      <td>3</td>\n",
              "      <td>2</td>\n",
              "      <td>0.600000</td>\n",
              "    </tr>\n",
              "    <tr>\n",
              "      <th>4</th>\n",
              "      <td>358bd9e861</td>\n",
              "      <td>sons of  why couldnt they put them on the rel...</td>\n",
              "      <td>sons of</td>\n",
              "      <td>negative</td>\n",
              "      <td>14</td>\n",
              "      <td>3</td>\n",
              "      <td>11</td>\n",
              "      <td>0.214286</td>\n",
              "    </tr>\n",
              "    <tr>\n",
              "      <th>5</th>\n",
              "      <td>28b57f3990</td>\n",
              "      <td>some shameless plugging for the best rangers...</td>\n",
              "      <td>some shameless plugging for the best rangers...</td>\n",
              "      <td>neutral</td>\n",
              "      <td>12</td>\n",
              "      <td>12</td>\n",
              "      <td>0</td>\n",
              "      <td>1.000000</td>\n",
              "    </tr>\n",
              "    <tr>\n",
              "      <th>6</th>\n",
              "      <td>6e0c6d75b1</td>\n",
              "      <td>feedings for the baby are fun when he is all ...</td>\n",
              "      <td>fun</td>\n",
              "      <td>positive</td>\n",
              "      <td>14</td>\n",
              "      <td>1</td>\n",
              "      <td>13</td>\n",
              "      <td>0.071429</td>\n",
              "    </tr>\n",
              "    <tr>\n",
              "      <th>7</th>\n",
              "      <td>50e14c0bb8</td>\n",
              "      <td>soooo high</td>\n",
              "      <td>soooo high</td>\n",
              "      <td>neutral</td>\n",
              "      <td>2</td>\n",
              "      <td>2</td>\n",
              "      <td>0</td>\n",
              "      <td>1.000000</td>\n",
              "    </tr>\n",
              "    <tr>\n",
              "      <th>8</th>\n",
              "      <td>e050245fbd</td>\n",
              "      <td>both of you</td>\n",
              "      <td>both of you</td>\n",
              "      <td>neutral</td>\n",
              "      <td>3</td>\n",
              "      <td>3</td>\n",
              "      <td>0</td>\n",
              "      <td>1.000000</td>\n",
              "    </tr>\n",
              "    <tr>\n",
              "      <th>9</th>\n",
              "      <td>fc2cbefa9d</td>\n",
              "      <td>journey wow u just became cooler  hehe is tha...</td>\n",
              "      <td>wow u just became cooler</td>\n",
              "      <td>positive</td>\n",
              "      <td>10</td>\n",
              "      <td>5</td>\n",
              "      <td>5</td>\n",
              "      <td>0.500000</td>\n",
              "    </tr>\n",
              "  </tbody>\n",
              "</table>\n",
              "</div>"
            ],
            "text/plain": [
              "       textID  ... jaccard_score\n",
              "0  cb774db0d1  ...      1.000000\n",
              "1  549e992a42  ...      0.200000\n",
              "2  088c60f138  ...      0.166667\n",
              "3  9642c003ef  ...      0.600000\n",
              "4  358bd9e861  ...      0.214286\n",
              "5  28b57f3990  ...      1.000000\n",
              "6  6e0c6d75b1  ...      0.071429\n",
              "7  50e14c0bb8  ...      1.000000\n",
              "8  e050245fbd  ...      1.000000\n",
              "9  fc2cbefa9d  ...      0.500000\n",
              "\n",
              "[10 rows x 8 columns]"
            ]
          },
          "metadata": {
            "tags": []
          },
          "execution_count": 40
        }
      ]
    },
    {
      "cell_type": "markdown",
      "metadata": {
        "id": "Su2cFsnUHN21"
      },
      "source": [
        "# Finding Most Common Words"
      ]
    },
    {
      "cell_type": "code",
      "metadata": {
        "id": "mLXO2tJVHN21"
      },
      "source": [
        "data['common_list']=data['selected_text'].apply(lambda x:str(x).split())"
      ],
      "execution_count": null,
      "outputs": []
    },
    {
      "cell_type": "code",
      "metadata": {
        "id": "uTIZkdgaHN21"
      },
      "source": [
        "dict={}\n",
        "for i in data['common_list']:\n",
        "    for item in i:\n",
        "        dict[item]=dict.get(item,0)+1;"
      ],
      "execution_count": null,
      "outputs": []
    },
    {
      "cell_type": "code",
      "metadata": {
        "id": "avHJv_J1HN22",
        "colab": {
          "base_uri": "https://localhost:8080/"
        },
        "outputId": "f944d587-c526-4d8b-b81c-942794bb406d"
      },
      "source": [
        "dict"
      ],
      "execution_count": null,
      "outputs": [
        {
          "output_type": "execute_result",
          "data": {
            "text/plain": [
              "{'id': 90,\n",
              " 'have': 1345,\n",
              " 'responded': 1,\n",
              " 'if': 420,\n",
              " 'i': 7200,\n",
              " 'were': 242,\n",
              " 'going': 592,\n",
              " 'sooo': 61,\n",
              " 'sad': 424,\n",
              " 'bullying': 1,\n",
              " 'me': 1540,\n",
              " 'leave': 82,\n",
              " 'alone': 42,\n",
              " 'sons': 6,\n",
              " 'of': 1638,\n",
              " 'some': 418,\n",
              " 'shameless': 1,\n",
              " 'plugging': 2,\n",
              " 'for': 1854,\n",
              " 'the': 4590,\n",
              " 'best': 223,\n",
              " 'rangers': 2,\n",
              " 'forum': 2,\n",
              " 'on': 1488,\n",
              " 'earth': 8,\n",
              " 'fun': 445,\n",
              " 'soooo': 52,\n",
              " 'high': 41,\n",
              " 'both': 67,\n",
              " 'you': 2624,\n",
              " 'wow': 123,\n",
              " 'u': 519,\n",
              " 'just': 1153,\n",
              " 'became': 5,\n",
              " 'cooler': 4,\n",
              " 'as': 382,\n",
              " 'much': 372,\n",
              " 'love': 909,\n",
              " 'to': 5305,\n",
              " 'be': 1095,\n",
              " 'hopeful': 6,\n",
              " 'reckon': 4,\n",
              " 'chances': 5,\n",
              " 'are': 727,\n",
              " 'minimal': 2,\n",
              " 'p': 34,\n",
              " 'im': 1676,\n",
              " 'never': 184,\n",
              " 'gonna': 211,\n",
              " 'get': 772,\n",
              " 'my': 2783,\n",
              " 'cake': 30,\n",
              " 'and': 2321,\n",
              " 'stuff': 80,\n",
              " 'like': 774,\n",
              " 'dangerously': 1,\n",
              " 'lost': 107,\n",
              " 'test': 46,\n",
              " 'from': 487,\n",
              " 'lg': 2,\n",
              " 'uh': 12,\n",
              " 'oh': 328,\n",
              " 'am': 439,\n",
              " 'sunburned': 6,\n",
              " 'sigh': 25,\n",
              " 'sick': 214,\n",
              " 'onna': 1,\n",
              " 'hes': 104,\n",
              " 'not': 1199,\n",
              " 'that': 1297,\n",
              " 'into': 107,\n",
              " 'marly': 1,\n",
              " 'so': 1410,\n",
              " 'sorry': 422,\n",
              " 'hope': 395,\n",
              " 'find': 145,\n",
              " 'her': 266,\n",
              " 'soon': 162,\n",
              " 'interesting': 53,\n",
              " 'is': 2115,\n",
              " 'cleaning': 36,\n",
              " 'house': 114,\n",
              " 'family': 68,\n",
              " 'who': 147,\n",
              " 'comming': 2,\n",
              " 'later': 87,\n",
              " 'today': 564,\n",
              " 'gotta': 91,\n",
              " 'restart': 2,\n",
              " 'computer': 45,\n",
              " 'thought': 111,\n",
              " 'was': 949,\n",
              " 'supposed': 32,\n",
              " 'put': 79,\n",
              " 'an': 334,\n",
              " 'end': 63,\n",
              " 'constant': 5,\n",
              " 'rebootiness': 1,\n",
              " 'see': 438,\n",
              " 'wat': 13,\n",
              " 'mean': 80,\n",
              " 'bout': 34,\n",
              " 'friidays': 1,\n",
              " 'its': 1070,\n",
              " 'called': 39,\n",
              " 'lose': 13,\n",
              " 'friday': 122,\n",
              " 'smh': 15,\n",
              " 'free': 65,\n",
              " 'fillin': 1,\n",
              " 'app': 18,\n",
              " 'ipod': 33,\n",
              " 'addicted': 10,\n",
              " 'no': 823,\n",
              " 'internet': 55,\n",
              " 'power': 18,\n",
              " 'back': 483,\n",
              " 'up': 790,\n",
              " 'working': 172,\n",
              " 'too': 603,\n",
              " 'quiteheavenly': 1,\n",
              " 'well': 434,\n",
              " 'being': 141,\n",
              " 'unhappy': 8,\n",
              " 'about': 410,\n",
              " 'minute': 18,\n",
              " 'funny': 109,\n",
              " 'ahhh': 23,\n",
              " 'slept': 27,\n",
              " 'through': 74,\n",
              " 'game': 68,\n",
              " 'try': 91,\n",
              " 'watch': 126,\n",
              " 'tomorrow': 251,\n",
              " 'though': 213,\n",
              " 'we': 448,\n",
              " 'play': 95,\n",
              " 'army': 4,\n",
              " 'thats': 308,\n",
              " 'it': 2158,\n",
              " 'tears': 8,\n",
              " 'fears': 2,\n",
              " 'miss': 519,\n",
              " 'in': 1986,\n",
              " 'case': 18,\n",
              " 'wonder': 23,\n",
              " 'really': 520,\n",
              " 'busy': 54,\n",
              " 'this': 808,\n",
              " 'coming': 77,\n",
              " 'with': 1053,\n",
              " 'adding': 6,\n",
              " 'tons': 7,\n",
              " 'new': 377,\n",
              " 'blogs': 4,\n",
              " 'updates': 30,\n",
              " 'stay': 52,\n",
              " 'tuned': 3,\n",
              " 'soooooo': 11,\n",
              " 'sleeeeepy': 1,\n",
              " 'a': 3538,\n",
              " 'little': 173,\n",
              " 'happy': 852,\n",
              " 'fo': 23,\n",
              " 'car': 103,\n",
              " 'big': 100,\n",
              " 'dent': 1,\n",
              " 'boot': 9,\n",
              " 'hoping': 51,\n",
              " 'theyre': 42,\n",
              " 'write': 37,\n",
              " 'off': 370,\n",
              " 'crossing': 4,\n",
              " 'fingers': 23,\n",
              " 'waiting': 93,\n",
              " 'avid': 1,\n",
              " 'fan': 43,\n",
              " 'mayday': 3,\n",
              " 'ratt': 1,\n",
              " 'rocked': 6,\n",
              " 'nashville': 4,\n",
              " 'toniteone': 1,\n",
              " 'thing': 161,\n",
              " 'sucked': 15,\n",
              " 'encore': 2,\n",
              " 'they': 348,\n",
              " 'still': 375,\n",
              " 'show': 150,\n",
              " 'pearcy': 1,\n",
              " 'has': 318,\n",
              " 'hott': 4,\n",
              " 'bad': 396,\n",
              " 'boy': 39,\n",
              " 'look': 151,\n",
              " 'girl': 103,\n",
              " 'hair': 85,\n",
              " 'salon': 1,\n",
              " 'asked': 9,\n",
              " 'shall': 26,\n",
              " 'trim': 1,\n",
              " 'your': 582,\n",
              " 'eyebrows': 2,\n",
              " 'how': 358,\n",
              " 'old': 114,\n",
              " 'do': 638,\n",
              " 'feel': 331,\n",
              " 'suckkkkkk': 1,\n",
              " 'visiting': 6,\n",
              " 'friendster': 7,\n",
              " 'facebook': 43,\n",
              " 'dont': 765,\n",
              " 'go': 700,\n",
              " 'd': 97,\n",
              " 'thrilled': 6,\n",
              " 'at': 1000,\n",
              " 'all': 800,\n",
              " 'mine': 60,\n",
              " 'then': 292,\n",
              " 'should': 216,\n",
              " 'check': 92,\n",
              " 'out': 786,\n",
              " 'connect': 2,\n",
              " 'other': 105,\n",
              " 'tweeple': 5,\n",
              " 'hate': 287,\n",
              " 'twitter': 271,\n",
              " 'also': 93,\n",
              " 'bored': 147,\n",
              " 'school': 158,\n",
              " 'third': 11,\n",
              " 'freelesson': 1,\n",
              " 'freistunde': 1,\n",
              " 'hm': 7,\n",
              " 'us': 144,\n",
              " 'guess': 108,\n",
              " 'dissappointed': 1,\n",
              " 'past': 28,\n",
              " 'few': 84,\n",
              " 'days': 165,\n",
              " 'romance': 4,\n",
              " 'zero': 7,\n",
              " 'rather': 30,\n",
              " 'early': 105,\n",
              " 'runbut': 1,\n",
              " 'morning': 290,\n",
              " 'runner': 1,\n",
              " 'hurts': 124,\n",
              " 'will': 491,\n",
              " 'torn': 4,\n",
              " 'ace': 11,\n",
              " 'hearts': 3,\n",
              " 'what': 507,\n",
              " 'speaking': 8,\n",
              " 'friends': 114,\n",
              " 'sleepy': 13,\n",
              " 'haha': 305,\n",
              " 'yes': 162,\n",
              " 'give': 70,\n",
              " 'easily': 5,\n",
              " 'favorite': 53,\n",
              " 'jealous': 53,\n",
              " 'photoshoot': 4,\n",
              " 's': 154,\n",
              " 'awesome': 280,\n",
              " 'yay': 135,\n",
              " 'playing': 75,\n",
              " 'tonight': 213,\n",
              " 'boo': 68,\n",
              " 'soggy': 2,\n",
              " 'work': 612,\n",
              " 'right': 256,\n",
              " 'before': 120,\n",
              " 'chilliin': 1,\n",
              " 'know': 491,\n",
              " 'such': 87,\n",
              " 'agent': 1,\n",
              " 'let': 108,\n",
              " 'smell': 10,\n",
              " 'smoke': 6,\n",
              " 'kitchenfire': 2,\n",
              " 'better': 268,\n",
              " 'anyone': 77,\n",
              " 'extra': 15,\n",
              " 'keane': 1,\n",
              " 'ticket': 17,\n",
              " 'promise': 12,\n",
              " 'buy': 72,\n",
              " 'drink': 49,\n",
              " 'take': 151,\n",
              " 'rad': 3,\n",
              " 'pics': 31,\n",
              " 'fb': 23,\n",
              " 'blog': 43,\n",
              " 'flickr': 5,\n",
              " 'etc': 16,\n",
              " 'can': 446,\n",
              " 'ride': 30,\n",
              " 'one': 538,\n",
              " 'catch': 32,\n",
              " 'but': 1267,\n",
              " 'summer': 68,\n",
              " 'til': 41,\n",
              " 'pop': 9,\n",
              " 'open': 33,\n",
              " 'she': 209,\n",
              " 'good': 1251,\n",
              " 'gorjuz': 1,\n",
              " 'yea': 42,\n",
              " 'kno': 8,\n",
              " 'yesterday': 62,\n",
              " 'when': 307,\n",
              " 'tha': 15,\n",
              " 'hospital': 16,\n",
              " 'talked': 8,\n",
              " 'said': 99,\n",
              " 'ok': 147,\n",
              " 'here': 336,\n",
              " 'now': 770,\n",
              " 'popped': 3,\n",
              " 'say': 166,\n",
              " 'hi': 73,\n",
              " 'things': 97,\n",
              " 'ill': 293,\n",
              " 'probably': 68,\n",
              " 'head': 82,\n",
              " 'guttah': 1,\n",
              " 'baddd': 2,\n",
              " 'sources': 2,\n",
              " 'tired': 217,\n",
              " 'hey': 161,\n",
              " 'change': 43,\n",
              " 'account': 35,\n",
              " 'didnt': 278,\n",
              " 'even': 152,\n",
              " 'tell': 89,\n",
              " 'thank': 214,\n",
              " 'yyyyyyyyyoooooooooouuuuu': 1,\n",
              " 'lucky': 56,\n",
              " 'fell': 28,\n",
              " 'asleep': 30,\n",
              " 'guys': 121,\n",
              " 'star': 88,\n",
              " 'wars': 41,\n",
              " 'day': 1058,\n",
              " 'everyone': 122,\n",
              " 'enjoy': 98,\n",
              " 'holiday': 49,\n",
              " 'uk': 25,\n",
              " 'miles': 17,\n",
              " 'essex': 1,\n",
              " 'plenty': 10,\n",
              " 'warning': 6,\n",
              " 'arrive': 7,\n",
              " 'time': 534,\n",
              " 'least': 78,\n",
              " 'those': 100,\n",
              " 'beers': 3,\n",
              " 'his': 142,\n",
              " 'snoring': 3,\n",
              " 'annoying': 25,\n",
              " 'n': 84,\n",
              " 'keeps': 20,\n",
              " 'sleeping': 36,\n",
              " 'lol': 528,\n",
              " 'honestly': 7,\n",
              " 'wud': 7,\n",
              " 'eva': 2,\n",
              " 'left': 108,\n",
              " 'him': 168,\n",
              " 'bby': 5,\n",
              " 'cool': 198,\n",
              " 'there': 423,\n",
              " 'mounce': 1,\n",
              " 'lasts': 3,\n",
              " 'way': 226,\n",
              " 'bedtime': 8,\n",
              " 'doing': 138,\n",
              " 'joined': 9,\n",
              " 'eating': 69,\n",
              " 'ice': 40,\n",
              " 'cream': 32,\n",
              " 'getting': 217,\n",
              " 'ready': 121,\n",
              " 'graduation': 22,\n",
              " 'mothers': 337,\n",
              " 'mums': 16,\n",
              " 'freaked': 3,\n",
              " 'unfortunately': 54,\n",
              " 'read': 80,\n",
              " 'story': 25,\n",
              " 'adam': 7,\n",
              " 'lambert': 5,\n",
              " 'online': 49,\n",
              " 'bed': 182,\n",
              " 'nighty': 7,\n",
              " 'night': 373,\n",
              " 'pretty': 151,\n",
              " 'certainly': 8,\n",
              " 'cheers': 13,\n",
              " 'than': 132,\n",
              " 'huh': 27,\n",
              " 'horrible': 45,\n",
              " 'over': 217,\n",
              " 'lets': 43,\n",
              " 'pens': 4,\n",
              " 'wear': 22,\n",
              " 'black': 26,\n",
              " 'most': 74,\n",
              " 'thanks': 532,\n",
              " 'safe': 27,\n",
              " 'wish': 324,\n",
              " 'allowed': 14,\n",
              " 'add': 35,\n",
              " 'email': 34,\n",
              " 'adress': 1,\n",
              " 'tickets': 38,\n",
              " 'acsm': 1,\n",
              " 'unfathomable': 1,\n",
              " 'think': 380,\n",
              " 'kept': 6,\n",
              " 'comfort': 2,\n",
              " 'our': 129,\n",
              " 'bedrooms': 1,\n",
              " 'confident': 2,\n",
              " 'hahaa': 2,\n",
              " 'awesomee': 3,\n",
              " 'awesomeeeee': 1,\n",
              " 'fallout': 1,\n",
              " 'making': 85,\n",
              " 'jump': 14,\n",
              " 'low': 22,\n",
              " 'health': 7,\n",
              " 'money': 82,\n",
              " 'ammo': 1,\n",
              " 'food': 50,\n",
              " 'worry': 38,\n",
              " 'had': 397,\n",
              " 'itunes': 12,\n",
              " 'songs': 30,\n",
              " 'whats': 77,\n",
              " 'gloomy': 9,\n",
              " 'weather': 82,\n",
              " 'sun': 88,\n",
              " 'must': 70,\n",
              " 'come': 221,\n",
              " 'heading': 35,\n",
              " 'victoria': 2,\n",
              " 'gardens': 1,\n",
              " 'impulse': 1,\n",
              " 'buys': 1,\n",
              " 'looking': 124,\n",
              " 'forward': 87,\n",
              " 'poor': 112,\n",
              " 'prob': 15,\n",
              " 'dads': 9,\n",
              " 'watching': 181,\n",
              " 'mtv': 6,\n",
              " 'minutee': 1,\n",
              " 'absolutely': 26,\n",
              " 'matter': 19,\n",
              " 'chickadee': 1,\n",
              " 'y': 69,\n",
              " 'adore': 7,\n",
              " 'painful': 12,\n",
              " 'e': 127,\n",
              " 'nice': 349,\n",
              " 'namaskar': 2,\n",
              " 'namaste': 1,\n",
              " 'r': 73,\n",
              " 'same': 121,\n",
              " 'marathi': 2,\n",
              " 'people': 192,\n",
              " 'word': 24,\n",
              " 'naaaah': 1,\n",
              " 'congrats': 43,\n",
              " 'cuss': 2,\n",
              " 'minutes': 46,\n",
              " 'until': 101,\n",
              " 'reward': 2,\n",
              " 'humous': 1,\n",
              " 'doritos': 1,\n",
              " 'missed': 153,\n",
              " 'normal': 16,\n",
              " 'group': 16,\n",
              " 'pilots': 1,\n",
              " 'large': 7,\n",
              " 'airline': 1,\n",
              " 'last': 299,\n",
              " 'terrible': 21,\n",
              " 'unfortunatley': 2,\n",
              " 'sucks': 186,\n",
              " 'tho': 84,\n",
              " 'fighting': 8,\n",
              " 'watched': 30,\n",
              " 'want': 409,\n",
              " 'win': 60,\n",
              " 'fightlol': 1,\n",
              " 'carwarmed': 1,\n",
              " 'sprite': 2,\n",
              " 'tastes': 5,\n",
              " 'sore': 43,\n",
              " 'throat': 22,\n",
              " 'came': 48,\n",
              " 'cross': 6,\n",
              " 'country': 7,\n",
              " 'beat': 18,\n",
              " 'dumbo': 2,\n",
              " 'enjoyable': 3,\n",
              " 'endearing': 2,\n",
              " 'valerias': 1,\n",
              " 'lunch': 80,\n",
              " 'done': 155,\n",
              " 'arraving': 1,\n",
              " 'late': 98,\n",
              " 'got': 558,\n",
              " 'cousins': 8,\n",
              " 'babtizm': 1,\n",
              " 'or': 286,\n",
              " 'whatever': 17,\n",
              " 'spell': 9,\n",
              " 'goooooddd': 2,\n",
              " 'tweets': 46,\n",
              " 'fine': 54,\n",
              " 'ones': 41,\n",
              " 'mmmmmmmm': 1,\n",
              " 'neither': 12,\n",
              " 'hours': 132,\n",
              " 'sunday': 63,\n",
              " 'two': 87,\n",
              " 'hour': 52,\n",
              " 'lunchbreak': 1,\n",
              " 'yeah': 230,\n",
              " 'bugger': 6,\n",
              " 'forgot': 60,\n",
              " 'washing': 8,\n",
              " 'machine': 19,\n",
              " 'sending': 21,\n",
              " 'blessings': 4,\n",
              " 'healing': 1,\n",
              " 'thoughts': 12,\n",
              " 'peace': 13,\n",
              " 'ah': 47,\n",
              " 'feeling': 149,\n",
              " 'cookers': 1,\n",
              " 'dad': 41,\n",
              " 'brutal': 1,\n",
              " 'nope': 36,\n",
              " 'coquitlam': 1,\n",
              " 'boring': 60,\n",
              " 'sounds': 66,\n",
              " 'booming': 1,\n",
              " 'thunder': 7,\n",
              " 'storm': 13,\n",
              " 'almost': 86,\n",
              " 'maybe': 110,\n",
              " 'home': 404,\n",
              " 'great': 476,\n",
              " 'excited': 136,\n",
              " 'ever': 119,\n",
              " 'messed': 12,\n",
              " 'iv': 3,\n",
              " 'hurt': 70,\n",
              " 'tooth': 6,\n",
              " 'eilish': 1,\n",
              " 'cassie': 4,\n",
              " 'having': 154,\n",
              " 'drawing': 5,\n",
              " 'competiton': 1,\n",
              " 'draw': 4,\n",
              " 'cookies': 14,\n",
              " 'pineapples': 1,\n",
              " 'l': 37,\n",
              " 'auditions': 3,\n",
              " 'mander': 1,\n",
              " 'text': 26,\n",
              " 'orreply': 1,\n",
              " 'please': 144,\n",
              " 'secret': 12,\n",
              " 'namerebecca': 1,\n",
              " 'need': 317,\n",
              " 'fixed': 16,\n",
              " 'illness': 2,\n",
              " 'following': 54,\n",
              " 'english': 28,\n",
              " 'tweet': 87,\n",
              " 'siri': 1,\n",
              " 'woulda': 3,\n",
              " 'honeybut': 1,\n",
              " 'any': 160,\n",
              " 'totally': 70,\n",
              " 'loved': 79,\n",
              " 'helped': 6,\n",
              " 'thru': 19,\n",
              " 'hrdest': 1,\n",
              " 'life': 132,\n",
              " 'finally': 120,\n",
              " 'call': 102,\n",
              " 'marriage': 4,\n",
              " 'counseling': 1,\n",
              " 'why': 276,\n",
              " 'baby': 78,\n",
              " 'impromptu': 2,\n",
              " 'pool': 18,\n",
              " 'party': 75,\n",
              " 'except': 30,\n",
              " 'swim': 7,\n",
              " 'cant': 613,\n",
              " 'oww': 1,\n",
              " 'year': 104,\n",
              " 'goooooooooooood': 1,\n",
              " 'morrrrrrrrning': 1,\n",
              " 'phew': 4,\n",
              " 'make': 245,\n",
              " 'note': 16,\n",
              " 'else': 51,\n",
              " 'runs': 4,\n",
              " 'issueï¿½': 1,\n",
              " 'vote': 38,\n",
              " 'every': 58,\n",
              " 'diet': 13,\n",
              " 'killing': 22,\n",
              " 'talk': 81,\n",
              " 'far': 74,\n",
              " 'did': 224,\n",
              " 'sleep': 205,\n",
              " 'bit': 127,\n",
              " 'twitchy': 1,\n",
              " 'twatter': 1,\n",
              " 'lately': 14,\n",
              " 'either': 43,\n",
              " 'replies': 10,\n",
              " 'turn': 44,\n",
              " 'voice': 16,\n",
              " 'ive': 203,\n",
              " 'heard': 35,\n",
              " 'fall': 26,\n",
              " 'more': 365,\n",
              " 'nightmares': 4,\n",
              " 'huggles': 3,\n",
              " 'creeper': 2,\n",
              " 'disappointed': 29,\n",
              " 'because': 124,\n",
              " 'cyberstalking': 1,\n",
              " 'skills': 6,\n",
              " 'privacy': 1,\n",
              " 'headache': 76,\n",
              " 'grabbing': 3,\n",
              " 'coffee': 79,\n",
              " 'mom': 123,\n",
              " 'breakfast': 44,\n",
              " 'major': 9,\n",
              " 'chop': 2,\n",
              " 'updated': 12,\n",
              " 'hahaha': 50,\n",
              " 'crush': 7,\n",
              " 'saw': 70,\n",
              " 'james': 5,\n",
              " 'carville': 1,\n",
              " 'store': 28,\n",
              " 'bald': 1,\n",
              " 'yellow': 6,\n",
              " 'which': 63,\n",
              " 'means': 26,\n",
              " 'youre': 184,\n",
              " 'vancouver': 9,\n",
              " 'hahah': 16,\n",
              " 'smooth': 4,\n",
              " 'ew': 8,\n",
              " 'traffic': 21,\n",
              " 'downloading': 6,\n",
              " 'while': 87,\n",
              " 'trying': 115,\n",
              " 'sneak': 3,\n",
              " 'lil': 46,\n",
              " 'homework': 17,\n",
              " 'main': 7,\n",
              " 'priority': 4,\n",
              " 'alonei': 1,\n",
              " 'realize': 11,\n",
              " 'mess': 18,\n",
              " 'youve': 24,\n",
              " 'happiest': 6,\n",
              " 'bike': 18,\n",
              " 'nesmith': 1,\n",
              " 'worse': 31,\n",
              " 'taxes': 1,\n",
              " 'jonas': 32,\n",
              " 'brothers': 27,\n",
              " 'live': 99,\n",
              " 'rocking': 6,\n",
              " 'hard': 134,\n",
              " 'would': 271,\n",
              " 'exception': 2,\n",
              " 'short': 37,\n",
              " 'dude': 41,\n",
              " 'larenz': 1,\n",
              " 'fineass': 1,\n",
              " 'tate': 1,\n",
              " 'yum': 34,\n",
              " 'wolverine': 18,\n",
              " 'hopefully': 78,\n",
              " 'hmmm': 13,\n",
              " 'meant': 26,\n",
              " 'eluded': 1,\n",
              " 'something': 120,\n",
              " 'brand': 5,\n",
              " 'media': 6,\n",
              " 'spa': 1,\n",
              " 'meeting': 27,\n",
              " 'vic': 1,\n",
              " 'always': 130,\n",
              " 'wanted': 70,\n",
              " 'oz': 3,\n",
              " 'thx': 33,\n",
              " 'luv': 24,\n",
              " 'okay': 62,\n",
              " 'dedicating': 2,\n",
              " 'fact': 20,\n",
              " 'apple': 19,\n",
              " 'huge': 33,\n",
              " 'crack': 6,\n",
              " 'glass': 9,\n",
              " 'screen': 20,\n",
              " 'only': 271,\n",
              " 'could': 191,\n",
              " 'actually': 102,\n",
              " 'turns': 14,\n",
              " 'sass': 3,\n",
              " 'detect': 1,\n",
              " 'long': 164,\n",
              " 'isnt': 93,\n",
              " 'ahaha': 6,\n",
              " 'sports': 10,\n",
              " 'bar': 14,\n",
              " 'shatranjanpoli': 1,\n",
              " 'rest': 41,\n",
              " 'ph': 2,\n",
              " 'andheri': 1,\n",
              " 'w': 80,\n",
              " 'whether': 10,\n",
              " 'helps': 10,\n",
              " 'google': 31,\n",
              " 'ki': 1,\n",
              " 'jai': 2,\n",
              " 'ho': 12,\n",
              " 'un': 8,\n",
              " 'seriously': 35,\n",
              " 'pain': 58,\n",
              " 'bring': 33,\n",
              " 'g': 26,\n",
              " 'powerblog': 1,\n",
              " 'challenge': 8,\n",
              " 'keep': 95,\n",
              " 'talking': 42,\n",
              " 'newbie': 2,\n",
              " 'followe': 1,\n",
              " 'died': 43,\n",
              " 'tish': 1,\n",
              " 'drive': 37,\n",
              " 'moms': 51,\n",
              " 'crv': 1,\n",
              " 'pick': 24,\n",
              " 'myself': 80,\n",
              " 'duckie': 1,\n",
              " 'first': 137,\n",
              " 'shower': 36,\n",
              " 'tools': 1,\n",
              " 'followers': 53,\n",
              " 'chugging': 1,\n",
              " 'down': 160,\n",
              " 'bottle': 11,\n",
              " 'juice': 8,\n",
              " 'harmed': 1,\n",
              " 'amazing': 157,\n",
              " 'once': 46,\n",
              " 'brotherand': 1,\n",
              " 'news': 47,\n",
              " 'finished': 62,\n",
              " 'easactive': 1,\n",
              " 'workout': 6,\n",
              " 'been': 273,\n",
              " 'paused': 1,\n",
              " 'resistance': 1,\n",
              " 'band': 21,\n",
              " 'wonderful': 62,\n",
              " 'neighborhood': 4,\n",
              " 'another': 126,\n",
              " 'waited': 2,\n",
              " 'listening': 68,\n",
              " 'wind': 10,\n",
              " 'blowing': 4,\n",
              " 'tumbleweed': 1,\n",
              " 'none': 25,\n",
              " 'enough': 82,\n",
              " 'someone': 101,\n",
              " 'says': 60,\n",
              " 'crackerack': 1,\n",
              " 'hell': 71,\n",
              " 'shirt': 20,\n",
              " 'dinner': 66,\n",
              " 'ask': 47,\n",
              " 'does': 83,\n",
              " 'ville': 1,\n",
              " 'smelly': 2,\n",
              " 'noooo': 7,\n",
              " 'alex': 8,\n",
              " 'vixon': 1,\n",
              " 'bday': 42,\n",
              " 'glad': 143,\n",
              " 'twittering': 7,\n",
              " 'after': 164,\n",
              " 'depressed': 19,\n",
              " 'lot': 82,\n",
              " 'he': 259,\n",
              " 'friendly': 6,\n",
              " 'hang': 30,\n",
              " 'neck': 15,\n",
              " 'jacked': 2,\n",
              " 'forced': 8,\n",
              " 'pay': 14,\n",
              " 'parking': 7,\n",
              " 'bc': 16,\n",
              " 'parallel': 2,\n",
              " 'park': 27,\n",
              " 'spaces': 2,\n",
              " 'bathing': 3,\n",
              " 'angels': 7,\n",
              " 'keyla': 1,\n",
              " 'janice': 1,\n",
              " 'chocked': 1,\n",
              " 'hahahha': 2,\n",
              " 'true': 37,\n",
              " 'remember': 49,\n",
              " 'bd': 3,\n",
              " 'date': 33,\n",
              " 'herehanging': 1,\n",
              " 'them': 212,\n",
              " 'gorgeous': 24,\n",
              " 'm': 57,\n",
              " 'worried': 24,\n",
              " 'bannished': 1,\n",
              " 'red': 33,\n",
              " 'top': 31,\n",
              " 'tabloids': 1,\n",
              " 'build': 6,\n",
              " 'em': 29,\n",
              " 'knock': 3,\n",
              " 'girls': 41,\n",
              " 'minus': 4,\n",
              " 'vita': 1,\n",
              " 'made': 116,\n",
              " 'youd': 12,\n",
              " 'jumping': 3,\n",
              " 'joy': 13,\n",
              " 'simple': 10,\n",
              " 'uploaded': 6,\n",
              " 'cats': 17,\n",
              " 'missy': 2,\n",
              " 'adult': 3,\n",
              " 'kitty': 10,\n",
              " 'batty': 1,\n",
              " 'kitten': 3,\n",
              " 'heaven': 11,\n",
              " 'bound': 12,\n",
              " 'eggs': 5,\n",
              " 'learn': 29,\n",
              " 'kellynn': 1,\n",
              " 'wort': 1,\n",
              " 'ship': 8,\n",
              " 'stuck': 70,\n",
              " 'cannot': 25,\n",
              " 'wait': 197,\n",
              " 'shame': 43,\n",
              " 'looks': 104,\n",
              " 'office': 55,\n",
              " 'tv': 53,\n",
              " 'mlb': 2,\n",
              " 'network': 7,\n",
              " 'mlbn': 1,\n",
              " 'televising': 1,\n",
              " 'detbal': 1,\n",
              " 'wieters': 1,\n",
              " 'empty': 16,\n",
              " 'handed': 2,\n",
              " 'comics': 6,\n",
              " 'found': 79,\n",
              " 'indulge': 2,\n",
              " 'cupcakes': 9,\n",
              " 'magnolia': 1,\n",
              " 'bakery': 4,\n",
              " 'definitely': 26,\n",
              " 'pinched': 2,\n",
              " 'nerve': 2,\n",
              " 'exhausting': 5,\n",
              " 'weekend': 181,\n",
              " 'very': 257,\n",
              " 'distracted': 7,\n",
              " 'taking': 53,\n",
              " 'trouble': 17,\n",
              " 'follow': 115,\n",
              " 'others': 19,\n",
              " 'feelin': 22,\n",
              " 'broke': 61,\n",
              " 'sure': 141,\n",
              " 'jst': 9,\n",
              " 'ur': 131,\n",
              " 'looked': 27,\n",
              " 'planning': 15,\n",
              " 'tet': 1,\n",
              " 'outing': 1,\n",
              " 'marwell': 1,\n",
              " 'thoughgood': 1,\n",
              " 'times': 78,\n",
              " 'amazin': 5,\n",
              " 'migraine': 9,\n",
              " 'whens': 2,\n",
              " 'sway': 8,\n",
              " 'winner': 6,\n",
              " 'announced': 6,\n",
              " 'k': 21,\n",
              " 'wake': 38,\n",
              " 'busyy': 1,\n",
              " 'writing': 42,\n",
              " 'booo': 8,\n",
              " 'whoo': 3,\n",
              " 'daddy': 11,\n",
              " 'mommy': 24,\n",
              " 'officially': 19,\n",
              " 'realized': 21,\n",
              " 'msgs': 3,\n",
              " 'iphone': 47,\n",
              " 'exciting': 32,\n",
              " 'peter': 4,\n",
              " 'gordon': 1,\n",
              " 'pieces': 6,\n",
              " 'wanna': 144,\n",
              " 'hide': 6,\n",
              " 'die': 28,\n",
              " 'lmao': 35,\n",
              " 'threw': 6,\n",
              " 'partying': 11,\n",
              " 'agree': 27,\n",
              " 'hopeless': 2,\n",
              " 'everything': 78,\n",
              " 'perfect': 60,\n",
              " 'ma': 17,\n",
              " 'heeels': 1,\n",
              " 'dang': 24,\n",
              " 'damnit': 9,\n",
              " 'boss': 13,\n",
              " 'shes': 73,\n",
              " 'moving': 28,\n",
              " 'nyc': 14,\n",
              " 'crazy': 55,\n",
              " 'stupid': 103,\n",
              " 'gig': 11,\n",
              " 'ireland': 2,\n",
              " 'ya': 85,\n",
              " 're': 17,\n",
              " 'aww': 79,\n",
              " 'loooove': 1,\n",
              " 'hungry': 44,\n",
              " 'ps': 20,\n",
              " 'send': 47,\n",
              " 'direct': 12,\n",
              " 'messages': 20,\n",
              " 'telling': 14,\n",
              " 'ha': 60,\n",
              " 'beer': 24,\n",
              " 'garden': 23,\n",
              " 'wit': 13,\n",
              " 'boyos': 1,\n",
              " 'rightlol': 1,\n",
              " 'btw': 35,\n",
              " 'phone': 145,\n",
              " 'using': 29,\n",
              " 'told': 42,\n",
              " 'might': 73,\n",
              " 'comes': 33,\n",
              " 'sadly': 59,\n",
              " 'ehhh': 1,\n",
              " 'dentist': 9,\n",
              " 'next': 193,\n",
              " 'week': 229,\n",
              " 'molar': 3,\n",
              " 'pulledroot': 1,\n",
              " 'canal': 1,\n",
              " 'driving': 32,\n",
              " 'omg': 93,\n",
              " 'wango': 1,\n",
              " 'tango': 2,\n",
              " 'awsome': 13,\n",
              " 'real': 55,\n",
              " 'youll': 33,\n",
              " 'by': 206,\n",
              " 'smile': 28,\n",
              " 'face': 36,\n",
              " 'soaps': 1,\n",
              " 'believe': 77,\n",
              " 'went': 105,\n",
              " ...}"
            ]
          },
          "metadata": {
            "tags": []
          },
          "execution_count": 43
        }
      ]
    },
    {
      "cell_type": "code",
      "metadata": {
        "id": "HrQXLaLwHN22"
      },
      "source": [
        " temp=sorted(dict.items(), key=lambda x: x[1],reverse=True)"
      ],
      "execution_count": null,
      "outputs": []
    },
    {
      "cell_type": "code",
      "metadata": {
        "id": "LYVazT7_HN22",
        "colab": {
          "base_uri": "https://localhost:8080/"
        },
        "outputId": "0e3da762-5346-49cc-c360-7f83b49fb97b"
      },
      "source": [
        "temp"
      ],
      "execution_count": null,
      "outputs": [
        {
          "output_type": "execute_result",
          "data": {
            "text/plain": [
              "[('i', 7200),\n",
              " ('to', 5305),\n",
              " ('the', 4590),\n",
              " ('a', 3538),\n",
              " ('my', 2783),\n",
              " ('you', 2624),\n",
              " ('and', 2321),\n",
              " ('it', 2158),\n",
              " ('is', 2115),\n",
              " ('in', 1986),\n",
              " ('for', 1854),\n",
              " ('im', 1676),\n",
              " ('of', 1638),\n",
              " ('me', 1540),\n",
              " ('on', 1488),\n",
              " ('so', 1410),\n",
              " ('have', 1345),\n",
              " ('that', 1297),\n",
              " ('but', 1267),\n",
              " ('good', 1251),\n",
              " ('not', 1199),\n",
              " ('just', 1153),\n",
              " ('be', 1095),\n",
              " ('its', 1070),\n",
              " ('day', 1058),\n",
              " ('with', 1053),\n",
              " ('at', 1000),\n",
              " ('was', 949),\n",
              " ('love', 909),\n",
              " ('happy', 852),\n",
              " ('no', 823),\n",
              " ('this', 808),\n",
              " ('all', 800),\n",
              " ('up', 790),\n",
              " ('out', 786),\n",
              " ('like', 774),\n",
              " ('get', 772),\n",
              " ('now', 770),\n",
              " ('dont', 765),\n",
              " ('are', 727),\n",
              " ('go', 700),\n",
              " ('do', 638),\n",
              " ('cant', 613),\n",
              " ('work', 612),\n",
              " ('too', 603),\n",
              " ('going', 592),\n",
              " ('your', 582),\n",
              " ('today', 564),\n",
              " ('got', 558),\n",
              " ('one', 538),\n",
              " ('time', 534),\n",
              " ('thanks', 532),\n",
              " ('lol', 528),\n",
              " ('really', 520),\n",
              " ('u', 519),\n",
              " ('miss', 519),\n",
              " ('what', 507),\n",
              " ('will', 491),\n",
              " ('know', 491),\n",
              " ('from', 487),\n",
              " ('back', 483),\n",
              " ('great', 476),\n",
              " ('we', 448),\n",
              " ('can', 446),\n",
              " ('fun', 445),\n",
              " ('am', 439),\n",
              " ('see', 438),\n",
              " ('well', 434),\n",
              " ('sad', 424),\n",
              " ('there', 423),\n",
              " ('sorry', 422),\n",
              " ('if', 420),\n",
              " ('some', 418),\n",
              " ('about', 410),\n",
              " ('want', 409),\n",
              " ('home', 404),\n",
              " ('had', 397),\n",
              " ('bad', 396),\n",
              " ('hope', 395),\n",
              " ('as', 382),\n",
              " ('think', 380),\n",
              " ('new', 377),\n",
              " ('still', 375),\n",
              " ('night', 373),\n",
              " ('much', 372),\n",
              " ('off', 370),\n",
              " ('more', 365),\n",
              " ('how', 358),\n",
              " ('nice', 349),\n",
              " ('they', 348),\n",
              " ('mothers', 337),\n",
              " ('here', 336),\n",
              " ('an', 334),\n",
              " ('feel', 331),\n",
              " ('oh', 328),\n",
              " ('wish', 324),\n",
              " ('has', 318),\n",
              " ('need', 317),\n",
              " ('thats', 308),\n",
              " ('when', 307),\n",
              " ('haha', 305),\n",
              " ('last', 299),\n",
              " ('ill', 293),\n",
              " ('then', 292),\n",
              " ('morning', 290),\n",
              " ('hate', 287),\n",
              " ('or', 286),\n",
              " ('awesome', 280),\n",
              " ('didnt', 278),\n",
              " ('why', 276),\n",
              " ('been', 273),\n",
              " ('twitter', 271),\n",
              " ('would', 271),\n",
              " ('only', 271),\n",
              " ('better', 268),\n",
              " ('her', 266),\n",
              " ('he', 259),\n",
              " ('very', 257),\n",
              " ('right', 256),\n",
              " ('tomorrow', 251),\n",
              " ('again', 250),\n",
              " ('make', 245),\n",
              " ('were', 242),\n",
              " ('yeah', 230),\n",
              " ('week', 229),\n",
              " ('way', 226),\n",
              " ('did', 224),\n",
              " ('best', 223),\n",
              " ('come', 221),\n",
              " ('tired', 217),\n",
              " ('getting', 217),\n",
              " ('over', 217),\n",
              " ('should', 216),\n",
              " ('sick', 214),\n",
              " ('thank', 214),\n",
              " ('though', 213),\n",
              " ('tonight', 213),\n",
              " ('them', 212),\n",
              " ('gonna', 211),\n",
              " ('she', 209),\n",
              " ('by', 206),\n",
              " ('sleep', 205),\n",
              " ('ive', 203),\n",
              " ('cool', 198),\n",
              " ('wait', 197),\n",
              " ('next', 193),\n",
              " ('people', 192),\n",
              " ('could', 191),\n",
              " ('wont', 190),\n",
              " ('sucks', 186),\n",
              " ('never', 184),\n",
              " ('youre', 184),\n",
              " ('bed', 182),\n",
              " ('watching', 181),\n",
              " ('weekend', 181),\n",
              " ('little', 173),\n",
              " ('working', 172),\n",
              " ('him', 168),\n",
              " ('say', 166),\n",
              " ('doesnt', 166),\n",
              " ('days', 165),\n",
              " ('long', 164),\n",
              " ('after', 164),\n",
              " ('soon', 162),\n",
              " ('yes', 162),\n",
              " ('thing', 161),\n",
              " ('hey', 161),\n",
              " ('any', 160),\n",
              " ('down', 160),\n",
              " ('school', 158),\n",
              " ('amazing', 157),\n",
              " ('done', 155),\n",
              " ('s', 154),\n",
              " ('having', 154),\n",
              " ('missed', 153),\n",
              " ('even', 152),\n",
              " ('look', 151),\n",
              " ('take', 151),\n",
              " ('pretty', 151),\n",
              " ('show', 150),\n",
              " ('feeling', 149),\n",
              " ('who', 147),\n",
              " ('bored', 147),\n",
              " ('ok', 147),\n",
              " ('find', 145),\n",
              " ('phone', 145),\n",
              " ('us', 144),\n",
              " ('please', 144),\n",
              " ('wanna', 144),\n",
              " ('glad', 143),\n",
              " ('his', 142),\n",
              " ('being', 141),\n",
              " ('sure', 141),\n",
              " ('doing', 138),\n",
              " ('first', 137),\n",
              " ('excited', 136),\n",
              " ('yay', 135),\n",
              " ('hard', 134),\n",
              " ('may', 133),\n",
              " ('than', 132),\n",
              " ('hours', 132),\n",
              " ('life', 132),\n",
              " ('ur', 131),\n",
              " ('always', 130),\n",
              " ('our', 129),\n",
              " ('e', 127),\n",
              " ('bit', 127),\n",
              " ('watch', 126),\n",
              " ('another', 126),\n",
              " ('where', 126),\n",
              " ('hurts', 124),\n",
              " ('looking', 124),\n",
              " ('because', 124),\n",
              " ('wow', 123),\n",
              " ('mom', 123),\n",
              " ('friday', 122),\n",
              " ('everyone', 122),\n",
              " ('guys', 121),\n",
              " ('ready', 121),\n",
              " ('same', 121),\n",
              " ('before', 120),\n",
              " ('finally', 120),\n",
              " ('something', 120),\n",
              " ('already', 120),\n",
              " ('ever', 119),\n",
              " ('man', 117),\n",
              " ('made', 116),\n",
              " ('ugh', 116),\n",
              " ('movie', 116),\n",
              " ('trying', 115),\n",
              " ('follow', 115),\n",
              " ('house', 114),\n",
              " ('old', 114),\n",
              " ('friends', 114),\n",
              " ('nothing', 113),\n",
              " ('poor', 112),\n",
              " ('yet', 112),\n",
              " ('thought', 111),\n",
              " ('missing', 111),\n",
              " ('cute', 111),\n",
              " ('maybe', 110),\n",
              " ('away', 110),\n",
              " ('funny', 109),\n",
              " ('guess', 108),\n",
              " ('let', 108),\n",
              " ('left', 108),\n",
              " ('lost', 107),\n",
              " ('into', 107),\n",
              " ('other', 105),\n",
              " ('early', 105),\n",
              " ('went', 105),\n",
              " ('hes', 104),\n",
              " ('year', 104),\n",
              " ('looks', 104),\n",
              " ('beautiful', 104),\n",
              " ('car', 103),\n",
              " ('girl', 103),\n",
              " ('stupid', 103),\n",
              " ('call', 102),\n",
              " ('actually', 102),\n",
              " ('start', 102),\n",
              " ('until', 101),\n",
              " ('someone', 101),\n",
              " ('big', 100),\n",
              " ('those', 100),\n",
              " ('said', 99),\n",
              " ('live', 99),\n",
              " ('monday', 99),\n",
              " ('enjoy', 98),\n",
              " ('late', 98),\n",
              " ('d', 97),\n",
              " ('things', 97),\n",
              " ('gone', 97),\n",
              " ('play', 95),\n",
              " ('keep', 95),\n",
              " ('hot', 95),\n",
              " ('luck', 95),\n",
              " ('hear', 95),\n",
              " ('till', 94),\n",
              " ('waiting', 93),\n",
              " ('also', 93),\n",
              " ('isnt', 93),\n",
              " ('omg', 93),\n",
              " ('friend', 93),\n",
              " ('check', 92),\n",
              " ('o', 92),\n",
              " ('gotta', 91),\n",
              " ('try', 91),\n",
              " ('lovely', 91),\n",
              " ('help', 91),\n",
              " ('id', 90),\n",
              " ('welcome', 90),\n",
              " ('tell', 89),\n",
              " ('star', 88),\n",
              " ('sun', 88),\n",
              " ('job', 88),\n",
              " ('birthday', 88),\n",
              " ('later', 87),\n",
              " ('such', 87),\n",
              " ('forward', 87),\n",
              " ('two', 87),\n",
              " ('tweet', 87),\n",
              " ('while', 87),\n",
              " ('almost', 86),\n",
              " ('hair', 85),\n",
              " ('making', 85),\n",
              " ('ya', 85),\n",
              " ('around', 85),\n",
              " ('few', 84),\n",
              " ('n', 84),\n",
              " ('tho', 84),\n",
              " ('wasnt', 84),\n",
              " ('does', 83),\n",
              " ('sweet', 83),\n",
              " ('cold', 83),\n",
              " ('anything', 83),\n",
              " ('leave', 82),\n",
              " ('head', 82),\n",
              " ('money', 82),\n",
              " ('weather', 82),\n",
              " ('enough', 82),\n",
              " ('lot', 82),\n",
              " ('t', 82),\n",
              " ('havent', 82),\n",
              " ('song', 82),\n",
              " ('talk', 81),\n",
              " ('world', 81),\n",
              " ('rain', 81),\n",
              " ('god', 81),\n",
              " ('goodnight', 81),\n",
              " ('stuff', 80),\n",
              " ('mean', 80),\n",
              " ('read', 80),\n",
              " ('lunch', 80),\n",
              " ('w', 80),\n",
              " ('myself', 80),\n",
              " ('put', 79),\n",
              " ('loved', 79),\n",
              " ('coffee', 79),\n",
              " ('found', 79),\n",
              " ('aww', 79),\n",
              " ('makes', 79),\n",
              " ('least', 78),\n",
              " ('baby', 78),\n",
              " ('hopefully', 78),\n",
              " ('times', 78),\n",
              " ('everything', 78),\n",
              " ('coming', 77),\n",
              " ('anyone', 77),\n",
              " ('whats', 77),\n",
              " ('believe', 77),\n",
              " ('wants', 77),\n",
              " ('headache', 76),\n",
              " ('x', 76),\n",
              " ('playing', 75),\n",
              " ('party', 75),\n",
              " ('stop', 75),\n",
              " ('through', 74),\n",
              " ('most', 74),\n",
              " ('far', 74),\n",
              " ('theres', 74),\n",
              " ('hi', 73),\n",
              " ('r', 73),\n",
              " ('shes', 73),\n",
              " ('might', 73),\n",
              " ('buy', 72),\n",
              " ('hell', 71),\n",
              " ('give', 70),\n",
              " ('must', 70),\n",
              " ('hurt', 70),\n",
              " ('totally', 70),\n",
              " ('saw', 70),\n",
              " ('wanted', 70),\n",
              " ('stuck', 70),\n",
              " ('use', 70),\n",
              " ('music', 70),\n",
              " ('eating', 69),\n",
              " ('y', 69),\n",
              " ('thinking', 69),\n",
              " ('couldnt', 69),\n",
              " ('wrong', 69),\n",
              " ('family', 68),\n",
              " ('game', 68),\n",
              " ('boo', 68),\n",
              " ('summer', 68),\n",
              " ('probably', 68),\n",
              " ('listening', 68),\n",
              " ('super', 68),\n",
              " ('both', 67),\n",
              " ('anymore', 67),\n",
              " ('sounds', 66),\n",
              " ('dinner', 66),\n",
              " ('since', 66),\n",
              " ('kinda', 66),\n",
              " ('their', 66),\n",
              " ('seen', 66),\n",
              " ('cause', 66),\n",
              " ('free', 65),\n",
              " ('place', 64),\n",
              " ('kids', 64),\n",
              " ('end', 63),\n",
              " ('sunday', 63),\n",
              " ('which', 63),\n",
              " ('many', 63),\n",
              " ('whole', 63),\n",
              " ('yesterday', 62),\n",
              " ('okay', 62),\n",
              " ('finished', 62),\n",
              " ('wonderful', 62),\n",
              " ('eat', 62),\n",
              " ('sooo', 61),\n",
              " ('broke', 61),\n",
              " ('loves', 61),\n",
              " ('these', 61),\n",
              " ('woke', 61),\n",
              " ('weeks', 61),\n",
              " ('mine', 60),\n",
              " ('win', 60),\n",
              " ('forgot', 60),\n",
              " ('boring', 60),\n",
              " ('says', 60),\n",
              " ('perfect', 60),\n",
              " ('ha', 60),\n",
              " ('cry', 60),\n",
              " ('took', 60),\n",
              " ('sadly', 59),\n",
              " ('without', 59),\n",
              " ('class', 59),\n",
              " ('room', 59),\n",
              " ('suck', 59),\n",
              " ('every', 58),\n",
              " ('pain', 58),\n",
              " ('fail', 58),\n",
              " ('hello', 58),\n",
              " ('m', 57),\n",
              " ('hit', 57),\n",
              " ('lucky', 56),\n",
              " ('full', 56),\n",
              " ('meet', 56),\n",
              " ('internet', 55),\n",
              " ('office', 55),\n",
              " ('crazy', 55),\n",
              " ('real', 55),\n",
              " ('pic', 55),\n",
              " ('part', 55),\n",
              " ('busy', 54),\n",
              " ('unfortunately', 54),\n",
              " ('fine', 54),\n",
              " ('following', 54),\n",
              " ('kind', 54),\n",
              " ('interesting', 53),\n",
              " ('favorite', 53),\n",
              " ('jealous', 53),\n",
              " ('followers', 53),\n",
              " ('tv', 53),\n",
              " ('taking', 53),\n",
              " ('gets', 53),\n",
              " ('quite', 53),\n",
              " ('soooo', 52),\n",
              " ('stay', 52),\n",
              " ('hour', 52),\n",
              " ('seems', 52),\n",
              " ('ago', 52),\n",
              " ('hoping', 51),\n",
              " ('else', 51),\n",
              " ('moms', 51),\n",
              " ('dead', 51),\n",
              " ('outside', 51),\n",
              " ('aw', 51),\n",
              " ('problem', 51),\n",
              " ('food', 50),\n",
              " ('hahaha', 50),\n",
              " ('awww', 50),\n",
              " ('drink', 49),\n",
              " ('holiday', 49),\n",
              " ('online', 49),\n",
              " ('remember', 49),\n",
              " ('break', 49),\n",
              " ('guy', 49),\n",
              " ('feels', 49),\n",
              " ('trip', 49),\n",
              " ('soo', 49),\n",
              " ('came', 48),\n",
              " ('idea', 48),\n",
              " ('name', 48),\n",
              " ('ah', 47),\n",
              " ('news', 47),\n",
              " ('ask', 47),\n",
              " ('iphone', 47),\n",
              " ('send', 47),\n",
              " ('raining', 47),\n",
              " ('mind', 47),\n",
              " ('years', 47),\n",
              " ('test', 46),\n",
              " ('minutes', 46),\n",
              " ('tweets', 46),\n",
              " ('lil', 46),\n",
              " ('once', 46),\n",
              " ('lots', 46),\n",
              " ('cuz', 46),\n",
              " ('own', 46),\n",
              " ('saturday', 46),\n",
              " ('able', 46),\n",
              " ('computer', 45),\n",
              " ('horrible', 45),\n",
              " ('b', 45),\n",
              " ('heart', 45),\n",
              " ('running', 45),\n",
              " ('video', 45),\n",
              " ('book', 45),\n",
              " ('turn', 44),\n",
              " ('breakfast', 44),\n",
              " ('hungry', 44),\n",
              " ('tea', 44),\n",
              " ('concert', 44),\n",
              " ('arent', 44),\n",
              " ('rock', 44),\n",
              " ('enjoying', 44),\n",
              " ('person', 44),\n",
              " ('used', 44),\n",
              " ('fan', 43),\n",
              " ('facebook', 43),\n",
              " ('blog', 43),\n",
              " ('change', 43),\n",
              " ('lets', 43),\n",
              " ('congrats', 43),\n",
              " ('sore', 43),\n",
              " ('either', 43),\n",
              " ('died', 43),\n",
              " ('shame', 43),\n",
              " ('needs', 43),\n",
              " ('picture', 43),\n",
              " ('fair', 43),\n",
              " ('awake', 43),\n",
              " ('goin', 43),\n",
              " ('alone', 42),\n",
              " ('theyre', 42),\n",
              " ('yea', 42),\n",
              " ('talking', 42),\n",
              " ('bday', 42),\n",
              " ('writing', 42),\n",
              " ('told', 42),\n",
              " ('evening', 42),\n",
              " ('run', 42),\n",
              " ('sometimes', 42),\n",
              " ('tried', 42),\n",
              " ('care', 42),\n",
              " ('sitting', 42),\n",
              " ('th', 42),\n",
              " ('post', 42),\n",
              " ('high', 41),\n",
              " ('til', 41),\n",
              " ('wars', 41),\n",
              " ('ones', 41),\n",
              " ('dad', 41),\n",
              " ('dude', 41),\n",
              " ('rest', 41),\n",
              " ('girls', 41),\n",
              " ('goes', 41),\n",
              " ('started', 41),\n",
              " ('mad', 41),\n",
              " ('worth', 41),\n",
              " ('upset', 41),\n",
              " ('shopping', 41),\n",
              " ('trek', 41),\n",
              " ('special', 41),\n",
              " ('ice', 40),\n",
              " ('mum', 40),\n",
              " ('weird', 40),\n",
              " ('half', 40),\n",
              " ('yall', 40),\n",
              " ('bank', 40),\n",
              " ('worst', 40),\n",
              " ('fantastic', 40),\n",
              " ('called', 39),\n",
              " ('boy', 39),\n",
              " ('wishing', 39),\n",
              " ('seeing', 39),\n",
              " ('happen', 39),\n",
              " ('beach', 39),\n",
              " ('drinking', 39),\n",
              " ('cat', 39),\n",
              " ('less', 39),\n",
              " ('hehe', 39),\n",
              " ('tickets', 38),\n",
              " ('worry', 38),\n",
              " ('vote', 38),\n",
              " ('wake', 38),\n",
              " ('happened', 38),\n",
              " ('aint', 38),\n",
              " ('close', 38),\n",
              " ('site', 38),\n",
              " ('yummy', 38),\n",
              " ('instead', 38),\n",
              " ('write', 37),\n",
              " ('l', 37),\n",
              " ('short', 37),\n",
              " ('drive', 37),\n",
              " ('true', 37),\n",
              " ('list', 37),\n",
              " ('exam', 37),\n",
              " ('sound', 37),\n",
              " ('youtube', 37),\n",
              " ('link', 37),\n",
              " ('cleaning', 36),\n",
              " ('sleeping', 36),\n",
              " ('nope', 36),\n",
              " ('shower', 36),\n",
              " ('face', 36),\n",
              " ('couple', 36),\n",
              " ('leaving', 36),\n",
              " ('course', 36),\n",
              " ('wtf', 36),\n",
              " ('broken', 36),\n",
              " ('liked', 36),\n",
              " ('account', 35),\n",
              " ('add', 35),\n",
              " ('heading', 35),\n",
              " ('heard', 35),\n",
              " ('seriously', 35),\n",
              " ('lmao', 35),\n",
              " ('btw', 35),\n",
              " ('bought', 35),\n",
              " ('slow', 35),\n",
              " ('movies', 35),\n",
              " ('dog', 35),\n",
              " ('listen', 35),\n",
              " ('p', 34),\n",
              " ('bout', 34),\n",
              " ('email', 34),\n",
              " ('yum', 34),\n",
              " ('starting', 34),\n",
              " ('loving', 34),\n",
              " ('ipod', 33),\n",
              " ('open', 33),\n",
              " ('thx', 33),\n",
              " ('huge', 33),\n",
              " ('bring', 33),\n",
              " ('date', 33),\n",
              " ('red', 33),\n",
              " ('comes', 33),\n",
              " ('youll', 33),\n",
              " ('save', 33),\n",
              " ('chance', 33),\n",
              " ('hates', 33),\n",
              " ('bless', 33),\n",
              " ('month', 33),\n",
              " ('c', 33),\n",
              " ('anyway', 33),\n",
              " ('second', 33),\n",
              " ('la', 33),\n",
              " ('nite', 33),\n",
              " ('seem', 33),\n",
              " ('move', 33),\n",
              " ('hows', 33),\n",
              " ('lonely', 33),\n",
              " ('supposed', 32),\n",
              " ('catch', 32),\n",
              " ('cream', 32),\n",
              " ('jonas', 32),\n",
              " ('exciting', 32),\n",
              " ('driving', 32),\n",
              " ('dear', 32),\n",
              " ('relaxing', 32),\n",
              " ('set', 32),\n",
              " ('yep', 32),\n",
              " ('mood', 32),\n",
              " ('sunny', 32),\n",
              " ('gave', 32),\n",
              " ('dream', 32),\n",
              " ('pics', 31),\n",
              " ('worse', 31),\n",
              " ('google', 31),\n",
              " ('top', 31),\n",
              " ('pictures', 31),\n",
              " ('final', 31),\n",
              " ('side', 31),\n",
              " ('afternoon', 31),\n",
              " ('gutted', 31),\n",
              " ('hugs', 31),\n",
              " ('mother', 31),\n",
              " ('cake', 30),\n",
              " ('updates', 30),\n",
              " ('rather', 30),\n",
              " ('ride', 30),\n",
              " ('asleep', 30),\n",
              " ('songs', 30),\n",
              " ('watched', 30),\n",
              " ('except', 30),\n",
              " ('hang', 30),\n",
              " ('easy', 30),\n",
              " ('under', 30),\n",
              " ('eyes', 30),\n",
              " ('june', 30),\n",
              " ('lame', 30),\n",
              " ('moment', 30),\n",
              " ('reading', 30),\n",
              " ('sent', 30),\n",
              " ('reply', 30),\n",
              " ('forget', 30),\n",
              " ('won', 30),\n",
              " ('tour', 30),\n",
              " ('card', 30),\n",
              " ('fast', 30),\n",
              " ('nap', 30),\n",
              " ('disappointed', 29),\n",
              " ('em', 29),\n",
              " ('learn', 29),\n",
              " ('using', 29),\n",
              " ('cut', 29),\n",
              " ('figure', 29),\n",
              " ('reason', 29),\n",
              " ('lazy', 29),\n",
              " ('exams', 29),\n",
              " ('shows', 29),\n",
              " ('chocolate', 29),\n",
              " ('crying', 29),\n",
              " ('works', 29),\n",
              " ('walk', 29),\n",
              " ('season', 29),\n",
              " ('bye', 29),\n",
              " ('yo', 29),\n",
              " ('past', 28),\n",
              " ('fell', 28),\n",
              " ('english', 28),\n",
              " ('store', 28),\n",
              " ('die', 28),\n",
              " ('moving', 28),\n",
              " ('smile', 28),\n",
              " ('bet', 28),\n",
              " ('answer', 28),\n",
              " ('months', 28),\n",
              " ('different', 28),\n",
              " ('knew', 28),\n",
              " ('warm', 28),\n",
              " ('understand', 28),\n",
              " ('da', 28),\n",
              " ('message', 28),\n",
              " ('hug', 28),\n",
              " ('london', 28),\n",
              " ('wouldnt', 28),\n",
              " ('slept', 27),\n",
              " ('huh', 27),\n",
              " ('safe', 27),\n",
              " ('brothers', 27),\n",
              " ('meeting', 27),\n",
              " ('park', 27),\n",
              " ('looked', 27),\n",
              " ('agree', 27),\n",
              " ('clean', 27),\n",
              " ('saying', 27),\n",
              " ('ppl', 27),\n",
              " ('photos', 27),\n",
              " ('bus', 27),\n",
              " ('boys', 27),\n",
              " ('wedding', 27),\n",
              " ('spend', 27),\n",
              " ('fans', 27),\n",
              " ('episode', 27),\n",
              " ('windows', 27),\n",
              " ('spent', 27),\n",
              " ('city', 27),\n",
              " ('shall', 26),\n",
              " ('black', 26),\n",
              " ('absolutely', 26),\n",
              " ('text', 26),\n",
              " ('fall', 26),\n",
              " ('means', 26),\n",
              " ('meant', 26),\n",
              " ('g', 26),\n",
              " ('definitely', 26),\n",
              " ('photo', 26),\n",
              " ('scared', 26),\n",
              " ('congratulations', 26),\n",
              " ('wishes', 26),\n",
              " ('study', 26),\n",
              " ('dm', 26),\n",
              " ('guitar', 26),\n",
              " ('page', 26),\n",
              " ('line', 26),\n",
              " ('point', 26),\n",
              " ('parents', 26),\n",
              " ('finish', 26),\n",
              " ('ahh', 26),\n",
              " ('apparently', 26),\n",
              " ('three', 26),\n",
              " ('chillin', 26),\n",
              " ('problems', 26),\n",
              " ('sigh', 25),\n",
              " ('uk', 25),\n",
              " ('annoying', 25),\n",
              " ('story', 25),\n",
              " ('none', 25),\n",
              " ('cannot', 25),\n",
              " ('camera', 25),\n",
              " ('business', 25),\n",
              " ('college', 25),\n",
              " ('laptop', 25),\n",
              " ('gym', 25),\n",
              " ('h', 25),\n",
              " ('afraid', 25),\n",
              " ('flu', 25),\n",
              " ('together', 25),\n",
              " ('scary', 25),\n",
              " ('town', 25),\n",
              " ('worked', 25),\n",
              " ('sign', 25),\n",
              " ('cheese', 25),\n",
              " ('ouch', 25),\n",
              " ('word', 24),\n",
              " ('youve', 24),\n",
              " ('luv', 24),\n",
              " ('pick', 24),\n",
              " ('gorgeous', 24),\n",
              " ('worried', 24),\n",
              " ('mommy', 24),\n",
              " ('dang', 24),\n",
              " ('beer', 24),\n",
              " ('quiet', 24),\n",
              " ('wondering', 24),\n",
              " ('killed', 24),\n",
              " ('number', 24),\n",
              " ('plus', 24),\n",
              " ('itll', 24),\n",
              " ('sister', 24),\n",
              " ('awful', 24),\n",
              " ('during', 24),\n",
              " ('proud', 24),\n",
              " ('bummed', 24),\n",
              " ('failed', 24),\n",
              " ('played', 24),\n",
              " ('appreciate', 24),\n",
              " ('closed', 24),\n",
              " ('ahhh', 23),\n",
              " ('wonder', 23),\n",
              " ('fo', 23),\n",
              " ('fingers', 23),\n",
              " ('fb', 23),\n",
              " ('garden', 23),\n",
              " ('mr', 23),\n",
              " ('chat', 23),\n",
              " ('sunshine', 23),\n",
              " ('ran', 23),\n",
              " ('inside', 23),\n",
              " ('drunk', 23),\n",
              " ('brother', 23),\n",
              " ('due', 23),\n",
              " ('water', 23),\n",
              " ('sexy', 23),\n",
              " ('yours', 23),\n",
              " ('woo', 23),\n",
              " ('earlier', 23),\n",
              " ('delicious', 23),\n",
              " ('version', 23),\n",
              " ('nd', 23),\n",
              " ('rip', 23),\n",
              " ('dance', 23),\n",
              " ('graduation', 22),\n",
              " ('wear', 22),\n",
              " ('low', 22),\n",
              " ('throat', 22),\n",
              " ('killing', 22),\n",
              " ('feelin', 22),\n",
              " ('plan', 22),\n",
              " ('likes', 22),\n",
              " ('plans', 22),\n",
              " ('tweeting', 22),\n",
              " ('shoes', 22),\n",
              " ('hubby', 22),\n",
              " ('completely', 22),\n",
              " ('count', 22),\n",
              " ('thanx', 22),\n",
              " ('deal', 22),\n",
              " ('update', 22),\n",
              " ('sold', 22),\n",
              " ('white', 22),\n",
              " ('somewhere', 22),\n",
              " ('company', 22),\n",
              " ('needed', 22),\n",
              " ('small', 22),\n",
              " ('green', 22),\n",
              " ('depressing', 22),\n",
              " ('min', 22),\n",
              " ('enjoyed', 22),\n",
              " ('near', 22),\n",
              " ('airport', 22),\n",
              " ('blue', 22),\n",
              " ('terrible', 21),\n",
              " ('sending', 21),\n",
              " ('traffic', 21),\n",
              " ('band', 21),\n",
              " ('k', 21),\n",
              " ('realized', 21),\n",
              " ('kill', 21),\n",
              " ('dreams', 21),\n",
              " ('starts', 21),\n",
              " ('hmm', 21),\n",
              " ('expensive', 21),\n",
              " ('starbucks', 21),\n",
              " ('staying', 21),\n",
              " ('fly', 21),\n",
              " ('air', 21),\n",
              " ('club', 21),\n",
              " ('hold', 21),\n",
              " ('mo', 21),\n",
              " ('dress', 21),\n",
              " ('paid', 21),\n",
              " ('hanging', 21),\n",
              " ('each', 21),\n",
              " ('visit', 21),\n",
              " ('wine', 21),\n",
              " ('project', 21),\n",
              " ('keeps', 20),\n",
              " ('fact', 20),\n",
              " ('screen', 20),\n",
              " ('shirt', 20),\n",
              " ('ps', 20),\n",
              " ('messages', 20),\n",
              " ('longer', 20),\n",
              " ('caught', 20),\n",
              " ('packing', 20),\n",
              " ('support', 20),\n",
              " ('living', 20),\n",
              " ('join', 20),\n",
              " ('mama', 20),\n",
              " ('web', 20),\n",
              " ('alright', 20),\n",
              " ('studying', 20),\n",
              " ('xd', 20),\n",
              " ('babe', 20),\n",
              " ('moved', 20),\n",
              " ('cup', 20),\n",
              " ('swine', 20),\n",
              " ('middle', 20),\n",
              " ('words', 20),\n",
              " ('hilarious', 20),\n",
              " ('sat', 20),\n",
              " ('revision', 20),\n",
              " ('feet', 20),\n",
              " ('taken', 20),\n",
              " ('ohh', 20),\n",
              " ('comment', 20),\n",
              " ('videos', 20),\n",
              " ('lo', 20),\n",
              " ('shot', 20),\n",
              " ('pass', 20),\n",
              " ('quick', 20),\n",
              " ('excellent', 20),\n",
              " ('matter', 19),\n",
              " ('machine', 19),\n",
              " ('thru', 19),\n",
              " ('apple', 19),\n",
              " ('depressed', 19),\n",
              " ('others', 19),\n",
              " ('officially', 19),\n",
              " ('stopped', 19),\n",
              " ('tonite', 19),\n",
              " ('forever', 19),\n",
              " ('usually', 19),\n",
              " ('clothes', 19),\n",
              " ('everybody', 19),\n",
              " ('question', 19),\n",
              " ('posted', 19),\n",
              " ('fab', 19),\n",
              " ('shut', 19),\n",
              " ('favourite', 19),\n",
              " ('checked', 19),\n",
              " ('bloody', 19),\n",
              " ('goodbye', 19),\n",
              " ('math', 19),\n",
              " ('behind', 19),\n",
              " ('ate', 19),\n",
              " ('gift', 19),\n",
              " ('film', 19),\n",
              " ('chicken', 19),\n",
              " ('dvd', 19),\n",
              " ('eye', 19),\n",
              " ('cos', 19),\n",
              " ('walking', 19),\n",
              " ('album', 19),\n",
              " ('serious', 19),\n",
              " ('front', 19),\n",
              " ('freaking', 19),\n",
              " ('takes', 19),\n",
              " ('team', 19),\n",
              " ('lady', 19),\n",
              " ('church', 19),\n",
              " ('exhausted', 19),\n",
              " ('happens', 19),\n",
              " ('bummer', 19),\n",
              " ('app', 18),\n",
              " ('power', 18),\n",
              " ('minute', 18),\n",
              " ('case', 18),\n",
              " ('beat', 18),\n",
              " ('pool', 18),\n",
              " ('mess', 18),\n",
              " ('bike', 18),\n",
              " ('wolverine', 18),\n",
              " ('door', 18),\n",
              " ...]"
            ]
          },
          "metadata": {
            "tags": []
          },
          "execution_count": 45
        }
      ]
    },
    {
      "cell_type": "code",
      "metadata": {
        "id": "kiLqI4xIHN3j",
        "colab": {
          "base_uri": "https://localhost:8080/"
        },
        "outputId": "672eefa0-e324-4849-f682-bc1d43e21841"
      },
      "source": [
        "temp[:20]"
      ],
      "execution_count": null,
      "outputs": [
        {
          "output_type": "execute_result",
          "data": {
            "text/plain": [
              "[('i', 7200),\n",
              " ('to', 5305),\n",
              " ('the', 4590),\n",
              " ('a', 3538),\n",
              " ('my', 2783),\n",
              " ('you', 2624),\n",
              " ('and', 2321),\n",
              " ('it', 2158),\n",
              " ('is', 2115),\n",
              " ('in', 1986),\n",
              " ('for', 1854),\n",
              " ('im', 1676),\n",
              " ('of', 1638),\n",
              " ('me', 1540),\n",
              " ('on', 1488),\n",
              " ('so', 1410),\n",
              " ('have', 1345),\n",
              " ('that', 1297),\n",
              " ('but', 1267),\n",
              " ('good', 1251)]"
            ]
          },
          "metadata": {
            "tags": []
          },
          "execution_count": 46
        }
      ]
    },
    {
      "cell_type": "code",
      "metadata": {
        "id": "VwKd9-ESHN3k",
        "colab": {
          "base_uri": "https://localhost:8080/",
          "height": 669
        },
        "outputId": "6b0a82e4-4f16-4d91-895a-90bbe4d204a4"
      },
      "source": [
        "top = pd.DataFrame(columns=['common_words','count'],data=temp[:20])\n",
        "top.style.background_gradient(cmap='Blues')\n",
        "top"
      ],
      "execution_count": null,
      "outputs": [
        {
          "output_type": "execute_result",
          "data": {
            "text/html": [
              "<div>\n",
              "<style scoped>\n",
              "    .dataframe tbody tr th:only-of-type {\n",
              "        vertical-align: middle;\n",
              "    }\n",
              "\n",
              "    .dataframe tbody tr th {\n",
              "        vertical-align: top;\n",
              "    }\n",
              "\n",
              "    .dataframe thead th {\n",
              "        text-align: right;\n",
              "    }\n",
              "</style>\n",
              "<table border=\"1\" class=\"dataframe\">\n",
              "  <thead>\n",
              "    <tr style=\"text-align: right;\">\n",
              "      <th></th>\n",
              "      <th>common_words</th>\n",
              "      <th>count</th>\n",
              "    </tr>\n",
              "  </thead>\n",
              "  <tbody>\n",
              "    <tr>\n",
              "      <th>0</th>\n",
              "      <td>i</td>\n",
              "      <td>7200</td>\n",
              "    </tr>\n",
              "    <tr>\n",
              "      <th>1</th>\n",
              "      <td>to</td>\n",
              "      <td>5305</td>\n",
              "    </tr>\n",
              "    <tr>\n",
              "      <th>2</th>\n",
              "      <td>the</td>\n",
              "      <td>4590</td>\n",
              "    </tr>\n",
              "    <tr>\n",
              "      <th>3</th>\n",
              "      <td>a</td>\n",
              "      <td>3538</td>\n",
              "    </tr>\n",
              "    <tr>\n",
              "      <th>4</th>\n",
              "      <td>my</td>\n",
              "      <td>2783</td>\n",
              "    </tr>\n",
              "    <tr>\n",
              "      <th>5</th>\n",
              "      <td>you</td>\n",
              "      <td>2624</td>\n",
              "    </tr>\n",
              "    <tr>\n",
              "      <th>6</th>\n",
              "      <td>and</td>\n",
              "      <td>2321</td>\n",
              "    </tr>\n",
              "    <tr>\n",
              "      <th>7</th>\n",
              "      <td>it</td>\n",
              "      <td>2158</td>\n",
              "    </tr>\n",
              "    <tr>\n",
              "      <th>8</th>\n",
              "      <td>is</td>\n",
              "      <td>2115</td>\n",
              "    </tr>\n",
              "    <tr>\n",
              "      <th>9</th>\n",
              "      <td>in</td>\n",
              "      <td>1986</td>\n",
              "    </tr>\n",
              "    <tr>\n",
              "      <th>10</th>\n",
              "      <td>for</td>\n",
              "      <td>1854</td>\n",
              "    </tr>\n",
              "    <tr>\n",
              "      <th>11</th>\n",
              "      <td>im</td>\n",
              "      <td>1676</td>\n",
              "    </tr>\n",
              "    <tr>\n",
              "      <th>12</th>\n",
              "      <td>of</td>\n",
              "      <td>1638</td>\n",
              "    </tr>\n",
              "    <tr>\n",
              "      <th>13</th>\n",
              "      <td>me</td>\n",
              "      <td>1540</td>\n",
              "    </tr>\n",
              "    <tr>\n",
              "      <th>14</th>\n",
              "      <td>on</td>\n",
              "      <td>1488</td>\n",
              "    </tr>\n",
              "    <tr>\n",
              "      <th>15</th>\n",
              "      <td>so</td>\n",
              "      <td>1410</td>\n",
              "    </tr>\n",
              "    <tr>\n",
              "      <th>16</th>\n",
              "      <td>have</td>\n",
              "      <td>1345</td>\n",
              "    </tr>\n",
              "    <tr>\n",
              "      <th>17</th>\n",
              "      <td>that</td>\n",
              "      <td>1297</td>\n",
              "    </tr>\n",
              "    <tr>\n",
              "      <th>18</th>\n",
              "      <td>but</td>\n",
              "      <td>1267</td>\n",
              "    </tr>\n",
              "    <tr>\n",
              "      <th>19</th>\n",
              "      <td>good</td>\n",
              "      <td>1251</td>\n",
              "    </tr>\n",
              "  </tbody>\n",
              "</table>\n",
              "</div>"
            ],
            "text/plain": [
              "   common_words  count\n",
              "0             i   7200\n",
              "1            to   5305\n",
              "2           the   4590\n",
              "3             a   3538\n",
              "4            my   2783\n",
              "5           you   2624\n",
              "6           and   2321\n",
              "7            it   2158\n",
              "8            is   2115\n",
              "9            in   1986\n",
              "10          for   1854\n",
              "11           im   1676\n",
              "12           of   1638\n",
              "13           me   1540\n",
              "14           on   1488\n",
              "15           so   1410\n",
              "16         have   1345\n",
              "17         that   1297\n",
              "18          but   1267\n",
              "19         good   1251"
            ]
          },
          "metadata": {
            "tags": []
          },
          "execution_count": 47
        }
      ]
    },
    {
      "cell_type": "code",
      "metadata": {
        "id": "iH9AnYq5HN3k",
        "colab": {
          "base_uri": "https://localhost:8080/",
          "height": 405
        },
        "outputId": "726a39ed-a58f-40ff-910d-8ad1803c4667"
      },
      "source": [
        "plt.figure(figsize=(12,6))\n",
        "sns.barplot(y=top['common_words'],x=top['count'])"
      ],
      "execution_count": null,
      "outputs": [
        {
          "output_type": "execute_result",
          "data": {
            "text/plain": [
              "<matplotlib.axes._subplots.AxesSubplot at 0x7f6dd0cb3b00>"
            ]
          },
          "metadata": {
            "tags": []
          },
          "execution_count": 48
        },
        {
          "output_type": "display_data",
          "data": {
            "image/png": "[encoded data removed]",
            "text/plain": [
              "<Figure size 864x432 with 1 Axes>"
            ]
          },
          "metadata": {
            "tags": [],
            "needs_background": "light"
          }
        }
      ]
    },
    {
      "cell_type": "code",
      "metadata": {
        "id": "0FMDJOwHHN3l"
      },
      "source": [
        "def remove_stopword(x):\n",
        "    return [y for y in x if y not in stopwords.words('english')]\n",
        "data['common_list'] = data['common_list'].apply(lambda x:remove_stopword(x))"
      ],
      "execution_count": null,
      "outputs": []
    },
    {
      "cell_type": "code",
      "metadata": {
        "id": "PUk0RKd_HN3l",
        "colab": {
          "base_uri": "https://localhost:8080/",
          "height": 638
        },
        "outputId": "c0f98bb9-74f5-4c36-fd88-6445e56fe3c4"
      },
      "source": [
        "dict={}\n",
        "for i in data['common_list']:\n",
        "    for item in i:\n",
        "        dict[item]=dict.get(item,0)+1;\n",
        "temp=sorted(dict.items(), key=lambda x: x[1],reverse=True)\n",
        "top = pd.DataFrame(columns=['common_words','count'],data=temp[1:20])\n",
        "top"
      ],
      "execution_count": null,
      "outputs": [
        {
          "output_type": "execute_result",
          "data": {
            "text/html": [
              "<div>\n",
              "<style scoped>\n",
              "    .dataframe tbody tr th:only-of-type {\n",
              "        vertical-align: middle;\n",
              "    }\n",
              "\n",
              "    .dataframe tbody tr th {\n",
              "        vertical-align: top;\n",
              "    }\n",
              "\n",
              "    .dataframe thead th {\n",
              "        text-align: right;\n",
              "    }\n",
              "</style>\n",
              "<table border=\"1\" class=\"dataframe\">\n",
              "  <thead>\n",
              "    <tr style=\"text-align: right;\">\n",
              "      <th></th>\n",
              "      <th>common_words</th>\n",
              "      <th>count</th>\n",
              "    </tr>\n",
              "  </thead>\n",
              "  <tbody>\n",
              "    <tr>\n",
              "      <th>0</th>\n",
              "      <td>good</td>\n",
              "      <td>1251</td>\n",
              "    </tr>\n",
              "    <tr>\n",
              "      <th>1</th>\n",
              "      <td>day</td>\n",
              "      <td>1058</td>\n",
              "    </tr>\n",
              "    <tr>\n",
              "      <th>2</th>\n",
              "      <td>love</td>\n",
              "      <td>909</td>\n",
              "    </tr>\n",
              "    <tr>\n",
              "      <th>3</th>\n",
              "      <td>happy</td>\n",
              "      <td>852</td>\n",
              "    </tr>\n",
              "    <tr>\n",
              "      <th>4</th>\n",
              "      <td>like</td>\n",
              "      <td>774</td>\n",
              "    </tr>\n",
              "    <tr>\n",
              "      <th>5</th>\n",
              "      <td>get</td>\n",
              "      <td>772</td>\n",
              "    </tr>\n",
              "    <tr>\n",
              "      <th>6</th>\n",
              "      <td>dont</td>\n",
              "      <td>765</td>\n",
              "    </tr>\n",
              "    <tr>\n",
              "      <th>7</th>\n",
              "      <td>go</td>\n",
              "      <td>700</td>\n",
              "    </tr>\n",
              "    <tr>\n",
              "      <th>8</th>\n",
              "      <td>cant</td>\n",
              "      <td>613</td>\n",
              "    </tr>\n",
              "    <tr>\n",
              "      <th>9</th>\n",
              "      <td>work</td>\n",
              "      <td>612</td>\n",
              "    </tr>\n",
              "    <tr>\n",
              "      <th>10</th>\n",
              "      <td>going</td>\n",
              "      <td>592</td>\n",
              "    </tr>\n",
              "    <tr>\n",
              "      <th>11</th>\n",
              "      <td>today</td>\n",
              "      <td>564</td>\n",
              "    </tr>\n",
              "    <tr>\n",
              "      <th>12</th>\n",
              "      <td>got</td>\n",
              "      <td>558</td>\n",
              "    </tr>\n",
              "    <tr>\n",
              "      <th>13</th>\n",
              "      <td>one</td>\n",
              "      <td>538</td>\n",
              "    </tr>\n",
              "    <tr>\n",
              "      <th>14</th>\n",
              "      <td>time</td>\n",
              "      <td>534</td>\n",
              "    </tr>\n",
              "    <tr>\n",
              "      <th>15</th>\n",
              "      <td>thanks</td>\n",
              "      <td>532</td>\n",
              "    </tr>\n",
              "    <tr>\n",
              "      <th>16</th>\n",
              "      <td>lol</td>\n",
              "      <td>528</td>\n",
              "    </tr>\n",
              "    <tr>\n",
              "      <th>17</th>\n",
              "      <td>really</td>\n",
              "      <td>520</td>\n",
              "    </tr>\n",
              "    <tr>\n",
              "      <th>18</th>\n",
              "      <td>u</td>\n",
              "      <td>519</td>\n",
              "    </tr>\n",
              "  </tbody>\n",
              "</table>\n",
              "</div>"
            ],
            "text/plain": [
              "   common_words  count\n",
              "0          good   1251\n",
              "1           day   1058\n",
              "2          love    909\n",
              "3         happy    852\n",
              "4          like    774\n",
              "5           get    772\n",
              "6          dont    765\n",
              "7            go    700\n",
              "8          cant    613\n",
              "9          work    612\n",
              "10        going    592\n",
              "11        today    564\n",
              "12          got    558\n",
              "13          one    538\n",
              "14         time    534\n",
              "15       thanks    532\n",
              "16          lol    528\n",
              "17       really    520\n",
              "18            u    519"
            ]
          },
          "metadata": {
            "tags": []
          },
          "execution_count": 50
        }
      ]
    },
    {
      "cell_type": "code",
      "metadata": {
        "id": "8iPt676GHN3n",
        "colab": {
          "base_uri": "https://localhost:8080/",
          "height": 405
        },
        "outputId": "e77b27b1-0e02-4844-cdf5-59f005e47c0e"
      },
      "source": [
        "plt.figure(figsize=(12,6))\n",
        "sns.barplot(y=top['common_words'],x=top['count'])"
      ],
      "execution_count": null,
      "outputs": [
        {
          "output_type": "execute_result",
          "data": {
            "text/plain": [
              "<matplotlib.axes._subplots.AxesSubplot at 0x7f6dcd0c7d30>"
            ]
          },
          "metadata": {
            "tags": []
          },
          "execution_count": 51
        },
        {
          "output_type": "display_data",
          "data": {
            "image/png": "[encoded data removed]",
            "text/plain": [
              "<Figure size 864x432 with 1 Axes>"
            ]
          },
          "metadata": {
            "tags": [],
            "needs_background": "light"
          }
        }
      ]
    },
    {
      "cell_type": "code",
      "metadata": {
        "id": "M6mbZpo6HN3u"
      },
      "source": [
        "data['common_text']=data['text'].apply(lambda x:str(x).split())\n",
        "data['common_text']=data['common_text'].apply(lambda x:remove_stopword(x))"
      ],
      "execution_count": null,
      "outputs": []
    },
    {
      "cell_type": "code",
      "metadata": {
        "id": "1EA6OoVNHN3u"
      },
      "source": [
        "comm_word={}"
      ],
      "execution_count": null,
      "outputs": []
    },
    {
      "cell_type": "code",
      "metadata": {
        "id": "GKNbAQMlHN3u",
        "colab": {
          "base_uri": "https://localhost:8080/",
          "height": 793
        },
        "outputId": "951dc47e-0ae8-410c-9f87-21a6691d0760"
      },
      "source": [
        "for i in data['common_text']:\n",
        "    for item in i:\n",
        "        comm_word[item]=comm_word.get(item,0)+1\n",
        "temp1=sorted(comm_word.items(),key=lambda x:x[1],reverse=True)\n",
        "top1=pd.DataFrame(columns=['common_words','count'],data=temp1[1:25])\n",
        "top1"
      ],
      "execution_count": null,
      "outputs": [
        {
          "output_type": "execute_result",
          "data": {
            "text/html": [
              "<div>\n",
              "<style scoped>\n",
              "    .dataframe tbody tr th:only-of-type {\n",
              "        vertical-align: middle;\n",
              "    }\n",
              "\n",
              "    .dataframe tbody tr th {\n",
              "        vertical-align: top;\n",
              "    }\n",
              "\n",
              "    .dataframe thead th {\n",
              "        text-align: right;\n",
              "    }\n",
              "</style>\n",
              "<table border=\"1\" class=\"dataframe\">\n",
              "  <thead>\n",
              "    <tr style=\"text-align: right;\">\n",
              "      <th></th>\n",
              "      <th>common_words</th>\n",
              "      <th>count</th>\n",
              "    </tr>\n",
              "  </thead>\n",
              "  <tbody>\n",
              "    <tr>\n",
              "      <th>0</th>\n",
              "      <td>day</td>\n",
              "      <td>2044</td>\n",
              "    </tr>\n",
              "    <tr>\n",
              "      <th>1</th>\n",
              "      <td>good</td>\n",
              "      <td>1549</td>\n",
              "    </tr>\n",
              "    <tr>\n",
              "      <th>2</th>\n",
              "      <td>get</td>\n",
              "      <td>1426</td>\n",
              "    </tr>\n",
              "    <tr>\n",
              "      <th>3</th>\n",
              "      <td>like</td>\n",
              "      <td>1346</td>\n",
              "    </tr>\n",
              "    <tr>\n",
              "      <th>4</th>\n",
              "      <td>go</td>\n",
              "      <td>1267</td>\n",
              "    </tr>\n",
              "    <tr>\n",
              "      <th>5</th>\n",
              "      <td>dont</td>\n",
              "      <td>1200</td>\n",
              "    </tr>\n",
              "    <tr>\n",
              "      <th>6</th>\n",
              "      <td>love</td>\n",
              "      <td>1122</td>\n",
              "    </tr>\n",
              "    <tr>\n",
              "      <th>7</th>\n",
              "      <td>work</td>\n",
              "      <td>1112</td>\n",
              "    </tr>\n",
              "    <tr>\n",
              "      <th>8</th>\n",
              "      <td>going</td>\n",
              "      <td>1096</td>\n",
              "    </tr>\n",
              "    <tr>\n",
              "      <th>9</th>\n",
              "      <td>today</td>\n",
              "      <td>1096</td>\n",
              "    </tr>\n",
              "    <tr>\n",
              "      <th>10</th>\n",
              "      <td>got</td>\n",
              "      <td>1072</td>\n",
              "    </tr>\n",
              "    <tr>\n",
              "      <th>11</th>\n",
              "      <td>cant</td>\n",
              "      <td>1020</td>\n",
              "    </tr>\n",
              "    <tr>\n",
              "      <th>12</th>\n",
              "      <td>happy</td>\n",
              "      <td>976</td>\n",
              "    </tr>\n",
              "    <tr>\n",
              "      <th>13</th>\n",
              "      <td>one</td>\n",
              "      <td>971</td>\n",
              "    </tr>\n",
              "    <tr>\n",
              "      <th>14</th>\n",
              "      <td>lol</td>\n",
              "      <td>948</td>\n",
              "    </tr>\n",
              "    <tr>\n",
              "      <th>15</th>\n",
              "      <td>time</td>\n",
              "      <td>942</td>\n",
              "    </tr>\n",
              "    <tr>\n",
              "      <th>16</th>\n",
              "      <td>know</td>\n",
              "      <td>930</td>\n",
              "    </tr>\n",
              "    <tr>\n",
              "      <th>17</th>\n",
              "      <td>u</td>\n",
              "      <td>923</td>\n",
              "    </tr>\n",
              "    <tr>\n",
              "      <th>18</th>\n",
              "      <td>really</td>\n",
              "      <td>908</td>\n",
              "    </tr>\n",
              "    <tr>\n",
              "      <th>19</th>\n",
              "      <td>back</td>\n",
              "      <td>891</td>\n",
              "    </tr>\n",
              "    <tr>\n",
              "      <th>20</th>\n",
              "      <td>see</td>\n",
              "      <td>797</td>\n",
              "    </tr>\n",
              "    <tr>\n",
              "      <th>21</th>\n",
              "      <td>well</td>\n",
              "      <td>744</td>\n",
              "    </tr>\n",
              "    <tr>\n",
              "      <th>22</th>\n",
              "      <td>new</td>\n",
              "      <td>740</td>\n",
              "    </tr>\n",
              "    <tr>\n",
              "      <th>23</th>\n",
              "      <td>night</td>\n",
              "      <td>737</td>\n",
              "    </tr>\n",
              "  </tbody>\n",
              "</table>\n",
              "</div>"
            ],
            "text/plain": [
              "   common_words  count\n",
              "0           day   2044\n",
              "1          good   1549\n",
              "2           get   1426\n",
              "3          like   1346\n",
              "4            go   1267\n",
              "5          dont   1200\n",
              "6          love   1122\n",
              "7          work   1112\n",
              "8         going   1096\n",
              "9         today   1096\n",
              "10          got   1072\n",
              "11         cant   1020\n",
              "12        happy    976\n",
              "13          one    971\n",
              "14          lol    948\n",
              "15         time    942\n",
              "16         know    930\n",
              "17            u    923\n",
              "18       really    908\n",
              "19         back    891\n",
              "20          see    797\n",
              "21         well    744\n",
              "22          new    740\n",
              "23        night    737"
            ]
          },
          "metadata": {
            "tags": []
          },
          "execution_count": 54
        }
      ]
    },
    {
      "cell_type": "code",
      "metadata": {
        "id": "I4jduKAJHN3v",
        "colab": {
          "base_uri": "https://localhost:8080/",
          "height": 405
        },
        "outputId": "1fabaa42-9c99-4865-b256-a6eb5147ed15"
      },
      "source": [
        "plt.figure(figsize=(12,6))\n",
        "sns.barplot(y=top1['common_words'],x=top1['count'])"
      ],
      "execution_count": null,
      "outputs": [
        {
          "output_type": "execute_result",
          "data": {
            "text/plain": [
              "<matplotlib.axes._subplots.AxesSubplot at 0x7f6dcbaa6cf8>"
            ]
          },
          "metadata": {
            "tags": []
          },
          "execution_count": 55
        },
        {
          "output_type": "display_data",
          "data": {
            "image/png": "[encoded data removed]",
            "text/plain": [
              "<Figure size 864x432 with 1 Axes>"
            ]
          },
          "metadata": {
            "tags": [],
            "needs_background": "light"
          }
        }
      ]
    },
    {
      "cell_type": "code",
      "metadata": {
        "id": "quf09vHtHN3v"
      },
      "source": [
        "positive=data[data['sentiment']=='positive']\n",
        "neutral=data[data['sentiment']=='neutral']\n",
        "negative=data[data['sentiment']=='negative']"
      ],
      "execution_count": null,
      "outputs": []
    },
    {
      "cell_type": "code",
      "metadata": {
        "id": "ryc9C2CBHN3v",
        "colab": {
          "base_uri": "https://localhost:8080/",
          "height": 669
        },
        "outputId": "3cc3648d-0290-4421-fca9-95d899003db6"
      },
      "source": [
        "comm_word={}\n",
        "for i in positive['common_list']:\n",
        "    for item in i:\n",
        "        comm_word[item]=comm_word.get(item,0)+1\n",
        "temp2=sorted(comm_word.items(),key=lambda x:x[1],reverse=True)\n",
        "top_pos=pd.DataFrame(columns=['common_words','count'],data=temp2[0:20])\n",
        "top_pos"
      ],
      "execution_count": null,
      "outputs": [
        {
          "output_type": "execute_result",
          "data": {
            "text/html": [
              "<div>\n",
              "<style scoped>\n",
              "    .dataframe tbody tr th:only-of-type {\n",
              "        vertical-align: middle;\n",
              "    }\n",
              "\n",
              "    .dataframe tbody tr th {\n",
              "        vertical-align: top;\n",
              "    }\n",
              "\n",
              "    .dataframe thead th {\n",
              "        text-align: right;\n",
              "    }\n",
              "</style>\n",
              "<table border=\"1\" class=\"dataframe\">\n",
              "  <thead>\n",
              "    <tr style=\"text-align: right;\">\n",
              "      <th></th>\n",
              "      <th>common_words</th>\n",
              "      <th>count</th>\n",
              "    </tr>\n",
              "  </thead>\n",
              "  <tbody>\n",
              "    <tr>\n",
              "      <th>0</th>\n",
              "      <td>good</td>\n",
              "      <td>826</td>\n",
              "    </tr>\n",
              "    <tr>\n",
              "      <th>1</th>\n",
              "      <td>happy</td>\n",
              "      <td>730</td>\n",
              "    </tr>\n",
              "    <tr>\n",
              "      <th>2</th>\n",
              "      <td>love</td>\n",
              "      <td>697</td>\n",
              "    </tr>\n",
              "    <tr>\n",
              "      <th>3</th>\n",
              "      <td>day</td>\n",
              "      <td>456</td>\n",
              "    </tr>\n",
              "    <tr>\n",
              "      <th>4</th>\n",
              "      <td>thanks</td>\n",
              "      <td>439</td>\n",
              "    </tr>\n",
              "    <tr>\n",
              "      <th>5</th>\n",
              "      <td>great</td>\n",
              "      <td>364</td>\n",
              "    </tr>\n",
              "    <tr>\n",
              "      <th>6</th>\n",
              "      <td>fun</td>\n",
              "      <td>287</td>\n",
              "    </tr>\n",
              "    <tr>\n",
              "      <th>7</th>\n",
              "      <td>nice</td>\n",
              "      <td>267</td>\n",
              "    </tr>\n",
              "    <tr>\n",
              "      <th>8</th>\n",
              "      <td>mothers</td>\n",
              "      <td>259</td>\n",
              "    </tr>\n",
              "    <tr>\n",
              "      <th>9</th>\n",
              "      <td>hope</td>\n",
              "      <td>245</td>\n",
              "    </tr>\n",
              "    <tr>\n",
              "      <th>10</th>\n",
              "      <td>awesome</td>\n",
              "      <td>232</td>\n",
              "    </tr>\n",
              "    <tr>\n",
              "      <th>11</th>\n",
              "      <td>im</td>\n",
              "      <td>185</td>\n",
              "    </tr>\n",
              "    <tr>\n",
              "      <th>12</th>\n",
              "      <td>thank</td>\n",
              "      <td>180</td>\n",
              "    </tr>\n",
              "    <tr>\n",
              "      <th>13</th>\n",
              "      <td>like</td>\n",
              "      <td>167</td>\n",
              "    </tr>\n",
              "    <tr>\n",
              "      <th>14</th>\n",
              "      <td>best</td>\n",
              "      <td>154</td>\n",
              "    </tr>\n",
              "    <tr>\n",
              "      <th>15</th>\n",
              "      <td>wish</td>\n",
              "      <td>152</td>\n",
              "    </tr>\n",
              "    <tr>\n",
              "      <th>16</th>\n",
              "      <td>amazing</td>\n",
              "      <td>135</td>\n",
              "    </tr>\n",
              "    <tr>\n",
              "      <th>17</th>\n",
              "      <td>really</td>\n",
              "      <td>128</td>\n",
              "    </tr>\n",
              "    <tr>\n",
              "      <th>18</th>\n",
              "      <td>better</td>\n",
              "      <td>125</td>\n",
              "    </tr>\n",
              "    <tr>\n",
              "      <th>19</th>\n",
              "      <td>cool</td>\n",
              "      <td>119</td>\n",
              "    </tr>\n",
              "  </tbody>\n",
              "</table>\n",
              "</div>"
            ],
            "text/plain": [
              "   common_words  count\n",
              "0          good    826\n",
              "1         happy    730\n",
              "2          love    697\n",
              "3           day    456\n",
              "4        thanks    439\n",
              "5         great    364\n",
              "6           fun    287\n",
              "7          nice    267\n",
              "8       mothers    259\n",
              "9          hope    245\n",
              "10      awesome    232\n",
              "11           im    185\n",
              "12        thank    180\n",
              "13         like    167\n",
              "14         best    154\n",
              "15         wish    152\n",
              "16      amazing    135\n",
              "17       really    128\n",
              "18       better    125\n",
              "19         cool    119"
            ]
          },
          "metadata": {
            "tags": []
          },
          "execution_count": 57
        }
      ]
    },
    {
      "cell_type": "code",
      "metadata": {
        "id": "BeSdebu8HN3w",
        "colab": {
          "base_uri": "https://localhost:8080/",
          "height": 405
        },
        "outputId": "ffcfe4c9-b84b-435d-a1e9-480c53e2b0c9"
      },
      "source": [
        "plt.figure(figsize=(12,6))\n",
        "sns.barplot(y=top_pos['common_words'],x=top_pos['count'])"
      ],
      "execution_count": null,
      "outputs": [
        {
          "output_type": "execute_result",
          "data": {
            "text/plain": [
              "<matplotlib.axes._subplots.AxesSubplot at 0x7f6dcbaa5828>"
            ]
          },
          "metadata": {
            "tags": []
          },
          "execution_count": 58
        },
        {
          "output_type": "display_data",
          "data": {
            "image/png": "[encoded data removed]",
            "text/plain": [
              "<Figure size 864x432 with 1 Axes>"
            ]
          },
          "metadata": {
            "tags": [],
            "needs_background": "light"
          }
        }
      ]
    },
    {
      "cell_type": "code",
      "metadata": {
        "id": "2XX_A3jRHN3x",
        "colab": {
          "base_uri": "https://localhost:8080/",
          "height": 638
        },
        "outputId": "2dfc65fb-2303-4db3-9905-2701c0009075"
      },
      "source": [
        "comm_word={}\n",
        "for i in neutral['common_list']:\n",
        "    for item in i:\n",
        "        comm_word[item]=comm_word.get(item,0)+1\n",
        "temp=sorted(comm_word.items(),key=lambda x:x[1],reverse=True)\n",
        "top_neu=pd.DataFrame(columns=['common_words','count'],data=temp[1:20])\n",
        "top_neu"
      ],
      "execution_count": null,
      "outputs": [
        {
          "output_type": "execute_result",
          "data": {
            "text/html": [
              "<div>\n",
              "<style scoped>\n",
              "    .dataframe tbody tr th:only-of-type {\n",
              "        vertical-align: middle;\n",
              "    }\n",
              "\n",
              "    .dataframe tbody tr th {\n",
              "        vertical-align: top;\n",
              "    }\n",
              "\n",
              "    .dataframe thead th {\n",
              "        text-align: right;\n",
              "    }\n",
              "</style>\n",
              "<table border=\"1\" class=\"dataframe\">\n",
              "  <thead>\n",
              "    <tr style=\"text-align: right;\">\n",
              "      <th></th>\n",
              "      <th>common_words</th>\n",
              "      <th>count</th>\n",
              "    </tr>\n",
              "  </thead>\n",
              "  <tbody>\n",
              "    <tr>\n",
              "      <th>0</th>\n",
              "      <td>get</td>\n",
              "      <td>612</td>\n",
              "    </tr>\n",
              "    <tr>\n",
              "      <th>1</th>\n",
              "      <td>go</td>\n",
              "      <td>569</td>\n",
              "    </tr>\n",
              "    <tr>\n",
              "      <th>2</th>\n",
              "      <td>day</td>\n",
              "      <td>492</td>\n",
              "    </tr>\n",
              "    <tr>\n",
              "      <th>3</th>\n",
              "      <td>dont</td>\n",
              "      <td>482</td>\n",
              "    </tr>\n",
              "    <tr>\n",
              "      <th>4</th>\n",
              "      <td>going</td>\n",
              "      <td>472</td>\n",
              "    </tr>\n",
              "    <tr>\n",
              "      <th>5</th>\n",
              "      <td>work</td>\n",
              "      <td>467</td>\n",
              "    </tr>\n",
              "    <tr>\n",
              "      <th>6</th>\n",
              "      <td>like</td>\n",
              "      <td>445</td>\n",
              "    </tr>\n",
              "    <tr>\n",
              "      <th>7</th>\n",
              "      <td>got</td>\n",
              "      <td>441</td>\n",
              "    </tr>\n",
              "    <tr>\n",
              "      <th>8</th>\n",
              "      <td>today</td>\n",
              "      <td>427</td>\n",
              "    </tr>\n",
              "    <tr>\n",
              "      <th>9</th>\n",
              "      <td>lol</td>\n",
              "      <td>427</td>\n",
              "    </tr>\n",
              "    <tr>\n",
              "      <th>10</th>\n",
              "      <td>time</td>\n",
              "      <td>413</td>\n",
              "    </tr>\n",
              "    <tr>\n",
              "      <th>11</th>\n",
              "      <td>know</td>\n",
              "      <td>407</td>\n",
              "    </tr>\n",
              "    <tr>\n",
              "      <th>12</th>\n",
              "      <td>back</td>\n",
              "      <td>402</td>\n",
              "    </tr>\n",
              "    <tr>\n",
              "      <th>13</th>\n",
              "      <td>one</td>\n",
              "      <td>394</td>\n",
              "    </tr>\n",
              "    <tr>\n",
              "      <th>14</th>\n",
              "      <td>u</td>\n",
              "      <td>376</td>\n",
              "    </tr>\n",
              "    <tr>\n",
              "      <th>15</th>\n",
              "      <td>see</td>\n",
              "      <td>349</td>\n",
              "    </tr>\n",
              "    <tr>\n",
              "      <th>16</th>\n",
              "      <td>cant</td>\n",
              "      <td>339</td>\n",
              "    </tr>\n",
              "    <tr>\n",
              "      <th>17</th>\n",
              "      <td>home</td>\n",
              "      <td>335</td>\n",
              "    </tr>\n",
              "    <tr>\n",
              "      <th>18</th>\n",
              "      <td>want</td>\n",
              "      <td>319</td>\n",
              "    </tr>\n",
              "  </tbody>\n",
              "</table>\n",
              "</div>"
            ],
            "text/plain": [
              "   common_words  count\n",
              "0           get    612\n",
              "1            go    569\n",
              "2           day    492\n",
              "3          dont    482\n",
              "4         going    472\n",
              "5          work    467\n",
              "6          like    445\n",
              "7           got    441\n",
              "8         today    427\n",
              "9           lol    427\n",
              "10         time    413\n",
              "11         know    407\n",
              "12         back    402\n",
              "13          one    394\n",
              "14            u    376\n",
              "15          see    349\n",
              "16         cant    339\n",
              "17         home    335\n",
              "18         want    319"
            ]
          },
          "metadata": {
            "tags": []
          },
          "execution_count": 59
        }
      ]
    },
    {
      "cell_type": "code",
      "metadata": {
        "id": "UIggcNKMHN3y",
        "colab": {
          "base_uri": "https://localhost:8080/",
          "height": 405
        },
        "outputId": "27658489-1287-4b0c-adfa-8a3ccd6f90a6"
      },
      "source": [
        "plt.figure(figsize=(12,6))\n",
        "sns.barplot(y=top_neu['common_words'],x=top_neu['count'])"
      ],
      "execution_count": null,
      "outputs": [
        {
          "output_type": "execute_result",
          "data": {
            "text/plain": [
              "<matplotlib.axes._subplots.AxesSubplot at 0x7f6dcbb159b0>"
            ]
          },
          "metadata": {
            "tags": []
          },
          "execution_count": 60
        },
        {
          "output_type": "display_data",
          "data": {
            "image/png": "[encoded data removed]",
            "text/plain": [
              "<Figure size 864x432 with 1 Axes>"
            ]
          },
          "metadata": {
            "tags": [],
            "needs_background": "light"
          }
        }
      ]
    },
    {
      "cell_type": "code",
      "metadata": {
        "id": "jWiaLLxFHN30",
        "colab": {
          "base_uri": "https://localhost:8080/",
          "height": 638
        },
        "outputId": "14558834-9bce-4813-a033-e2231ba9a669"
      },
      "source": [
        "comm_word={}\n",
        "for i in negative['common_list']:\n",
        "    for item in i:\n",
        "        comm_word[item]=comm_word.get(item,0)+1\n",
        "temp=sorted(comm_word.items(),key=lambda x:x[1],reverse=True)\n",
        "top_neg=pd.DataFrame(columns=['common_words','count'],data=temp[1:20])\n",
        "top_neg.style.background_gradient(cmap='Reds')\n",
        "top_neg"
      ],
      "execution_count": null,
      "outputs": [
        {
          "output_type": "execute_result",
          "data": {
            "text/html": [
              "<div>\n",
              "<style scoped>\n",
              "    .dataframe tbody tr th:only-of-type {\n",
              "        vertical-align: middle;\n",
              "    }\n",
              "\n",
              "    .dataframe tbody tr th {\n",
              "        vertical-align: top;\n",
              "    }\n",
              "\n",
              "    .dataframe thead th {\n",
              "        text-align: right;\n",
              "    }\n",
              "</style>\n",
              "<table border=\"1\" class=\"dataframe\">\n",
              "  <thead>\n",
              "    <tr style=\"text-align: right;\">\n",
              "      <th></th>\n",
              "      <th>common_words</th>\n",
              "      <th>count</th>\n",
              "    </tr>\n",
              "  </thead>\n",
              "  <tbody>\n",
              "    <tr>\n",
              "      <th>0</th>\n",
              "      <td>miss</td>\n",
              "      <td>358</td>\n",
              "    </tr>\n",
              "    <tr>\n",
              "      <th>1</th>\n",
              "      <td>sad</td>\n",
              "      <td>343</td>\n",
              "    </tr>\n",
              "    <tr>\n",
              "      <th>2</th>\n",
              "      <td>sorry</td>\n",
              "      <td>300</td>\n",
              "    </tr>\n",
              "    <tr>\n",
              "      <th>3</th>\n",
              "      <td>bad</td>\n",
              "      <td>246</td>\n",
              "    </tr>\n",
              "    <tr>\n",
              "      <th>4</th>\n",
              "      <td>hate</td>\n",
              "      <td>230</td>\n",
              "    </tr>\n",
              "    <tr>\n",
              "      <th>5</th>\n",
              "      <td>dont</td>\n",
              "      <td>221</td>\n",
              "    </tr>\n",
              "    <tr>\n",
              "      <th>6</th>\n",
              "      <td>cant</td>\n",
              "      <td>201</td>\n",
              "    </tr>\n",
              "    <tr>\n",
              "      <th>7</th>\n",
              "      <td>sick</td>\n",
              "      <td>166</td>\n",
              "    </tr>\n",
              "    <tr>\n",
              "      <th>8</th>\n",
              "      <td>like</td>\n",
              "      <td>162</td>\n",
              "    </tr>\n",
              "    <tr>\n",
              "      <th>9</th>\n",
              "      <td>sucks</td>\n",
              "      <td>159</td>\n",
              "    </tr>\n",
              "    <tr>\n",
              "      <th>10</th>\n",
              "      <td>feel</td>\n",
              "      <td>158</td>\n",
              "    </tr>\n",
              "    <tr>\n",
              "      <th>11</th>\n",
              "      <td>tired</td>\n",
              "      <td>144</td>\n",
              "    </tr>\n",
              "    <tr>\n",
              "      <th>12</th>\n",
              "      <td>really</td>\n",
              "      <td>137</td>\n",
              "    </tr>\n",
              "    <tr>\n",
              "      <th>13</th>\n",
              "      <td>good</td>\n",
              "      <td>127</td>\n",
              "    </tr>\n",
              "    <tr>\n",
              "      <th>14</th>\n",
              "      <td>bored</td>\n",
              "      <td>115</td>\n",
              "    </tr>\n",
              "    <tr>\n",
              "      <th>15</th>\n",
              "      <td>day</td>\n",
              "      <td>110</td>\n",
              "    </tr>\n",
              "    <tr>\n",
              "      <th>16</th>\n",
              "      <td>hurts</td>\n",
              "      <td>108</td>\n",
              "    </tr>\n",
              "    <tr>\n",
              "      <th>17</th>\n",
              "      <td>work</td>\n",
              "      <td>99</td>\n",
              "    </tr>\n",
              "    <tr>\n",
              "      <th>18</th>\n",
              "      <td>get</td>\n",
              "      <td>97</td>\n",
              "    </tr>\n",
              "  </tbody>\n",
              "</table>\n",
              "</div>"
            ],
            "text/plain": [
              "   common_words  count\n",
              "0          miss    358\n",
              "1           sad    343\n",
              "2         sorry    300\n",
              "3           bad    246\n",
              "4          hate    230\n",
              "5          dont    221\n",
              "6          cant    201\n",
              "7          sick    166\n",
              "8          like    162\n",
              "9         sucks    159\n",
              "10         feel    158\n",
              "11        tired    144\n",
              "12       really    137\n",
              "13         good    127\n",
              "14        bored    115\n",
              "15          day    110\n",
              "16        hurts    108\n",
              "17         work     99\n",
              "18          get     97"
            ]
          },
          "metadata": {
            "tags": []
          },
          "execution_count": 61
        }
      ]
    },
    {
      "cell_type": "code",
      "metadata": {
        "id": "K9yzy52gHN30",
        "colab": {
          "base_uri": "https://localhost:8080/",
          "height": 405
        },
        "outputId": "28f4edef-109d-41a7-ad90-80b7135af2d0"
      },
      "source": [
        "plt.figure(figsize=(12,6))\n",
        "sns.barplot(y=top_neg['common_words'],x=top_neg['count'])"
      ],
      "execution_count": null,
      "outputs": [
        {
          "output_type": "execute_result",
          "data": {
            "text/plain": [
              "<matplotlib.axes._subplots.AxesSubplot at 0x7f6dcd0c8320>"
            ]
          },
          "metadata": {
            "tags": []
          },
          "execution_count": 62
        },
        {
          "output_type": "display_data",
          "data": {
            "image/png": "[encoded data removed]",
            "text/plain": [
              "<Figure size 864x432 with 1 Axes>"
            ]
          },
          "metadata": {
            "tags": [],
            "needs_background": "light"
          }
        }
      ]
    },
    {
      "cell_type": "code",
      "metadata": {
        "id": "PXQSdm8AHN31",
        "colab": {
          "base_uri": "https://localhost:8080/"
        },
        "outputId": "ce848788-1a05-4d61-bba5-96edb2dd7f58"
      },
      "source": [
        "data[data['sentiment']=='positive']['common_list']"
      ],
      "execution_count": null,
      "outputs": [
        {
          "output_type": "execute_result",
          "data": {
            "text/plain": [
              "6                                               [fun]\n",
              "9                            [wow, u, became, cooler]\n",
              "11                                             [like]\n",
              "21                                      [interesting]\n",
              "25       [free, fillin, app, ipod, fun, im, addicted]\n",
              "                             ...                     \n",
              "27467                                       [welcome]\n",
              "27474                                [feel, good, ab]\n",
              "27475                                         [enjoy]\n",
              "27478                                     [yay, good]\n",
              "27479                                         [worth]\n",
              "Name: common_list, Length: 8582, dtype: object"
            ]
          },
          "metadata": {
            "tags": []
          },
          "execution_count": 63
        }
      ]
    },
    {
      "cell_type": "code",
      "metadata": {
        "id": "pGTEtAVEHN32"
      },
      "source": [
        "raw_text = [word for word_list in data['common_text'] for word in word_list]"
      ],
      "execution_count": null,
      "outputs": []
    },
    {
      "cell_type": "code",
      "metadata": {
        "id": "snVw_jGlHN32"
      },
      "source": [
        "def words_unique(sentiment,numwords,raw_words):\n",
        "    \n",
        "    allother = []\n",
        "    for item in data[data.sentiment != sentiment]['common_text']:\n",
        "        for word in item:\n",
        "            allother .append(word)\n",
        "    allother  = list(set(allother ))\n",
        "    \n",
        "    specificnonly = [x for x in raw_text if x not in allother]\n",
        "    \n",
        "    mycounter = Counter()\n",
        "    \n",
        "    for item in data[data.sentiment == sentiment]['common_text']:\n",
        "        for word in item:\n",
        "            mycounter[word] += 1\n",
        "    keep = list(specificnonly)\n",
        "    \n",
        "    for word in list(mycounter):\n",
        "        if word not in keep:\n",
        "            del mycounter[word]\n",
        "    \n",
        "    Unique_words = pd.DataFrame(mycounter.most_common(numwords), columns = ['words','count'])\n",
        "    \n",
        "    return Unique_words"
      ],
      "execution_count": null,
      "outputs": []
    },
    {
      "cell_type": "code",
      "metadata": {
        "id": "FHhbgPlwHN33",
        "colab": {
          "base_uri": "https://localhost:8080/",
          "height": 477
        },
        "outputId": "68e92351-a0cf-4bb5-f626-0d76fbbf2977"
      },
      "source": [
        "Unique_Positive= words_unique('positive', 20, raw_text)\n",
        "print(\"The top 20 unique words in Positive Tweets are:\")\n",
        "Unique_Positive.style.background_gradient(cmap='Greens')"
      ],
      "execution_count": null,
      "outputs": [
        {
          "output_type": "stream",
          "text": [
            "The top 20 unique words in Positive Tweets are:\n"
          ],
          "name": "stdout"
        },
        {
          "output_type": "execute_result",
          "data": {
            "text/html": [
              "<style  type=\"text/css\" >\n",
              "#T_939b8748_3278_11eb_b494_0242ac1c0002row0_col1{\n",
              "            background-color:  #00441b;\n",
              "            color:  #f1f1f1;\n",
              "        }#T_939b8748_3278_11eb_b494_0242ac1c0002row1_col1{\n",
              "            background-color:  #d1edcb;\n",
              "            color:  #000000;\n",
              "        }#T_939b8748_3278_11eb_b494_0242ac1c0002row2_col1{\n",
              "            background-color:  #e5f5e0;\n",
              "            color:  #000000;\n",
              "        }#T_939b8748_3278_11eb_b494_0242ac1c0002row3_col1,#T_939b8748_3278_11eb_b494_0242ac1c0002row4_col1,#T_939b8748_3278_11eb_b494_0242ac1c0002row5_col1{\n",
              "            background-color:  #ebf7e7;\n",
              "            color:  #000000;\n",
              "        }#T_939b8748_3278_11eb_b494_0242ac1c0002row6_col1,#T_939b8748_3278_11eb_b494_0242ac1c0002row7_col1,#T_939b8748_3278_11eb_b494_0242ac1c0002row8_col1,#T_939b8748_3278_11eb_b494_0242ac1c0002row9_col1,#T_939b8748_3278_11eb_b494_0242ac1c0002row10_col1,#T_939b8748_3278_11eb_b494_0242ac1c0002row11_col1{\n",
              "            background-color:  #f1faee;\n",
              "            color:  #000000;\n",
              "        }#T_939b8748_3278_11eb_b494_0242ac1c0002row12_col1,#T_939b8748_3278_11eb_b494_0242ac1c0002row13_col1,#T_939b8748_3278_11eb_b494_0242ac1c0002row14_col1,#T_939b8748_3278_11eb_b494_0242ac1c0002row15_col1,#T_939b8748_3278_11eb_b494_0242ac1c0002row16_col1,#T_939b8748_3278_11eb_b494_0242ac1c0002row17_col1,#T_939b8748_3278_11eb_b494_0242ac1c0002row18_col1,#T_939b8748_3278_11eb_b494_0242ac1c0002row19_col1{\n",
              "            background-color:  #f7fcf5;\n",
              "            color:  #000000;\n",
              "        }</style><table id=\"T_939b8748_3278_11eb_b494_0242ac1c0002\" ><thead>    <tr>        <th class=\"blank level0\" ></th>        <th class=\"col_heading level0 col0\" >words</th>        <th class=\"col_heading level0 col1\" >count</th>    </tr></thead><tbody>\n",
              "                <tr>\n",
              "                        <th id=\"T_939b8748_3278_11eb_b494_0242ac1c0002level0_row0\" class=\"row_heading level0 row0\" >0</th>\n",
              "                        <td id=\"T_939b8748_3278_11eb_b494_0242ac1c0002row0_col0\" class=\"data row0 col0\" >congratulations</td>\n",
              "                        <td id=\"T_939b8748_3278_11eb_b494_0242ac1c0002row0_col1\" class=\"data row0 col1\" >29</td>\n",
              "            </tr>\n",
              "            <tr>\n",
              "                        <th id=\"T_939b8748_3278_11eb_b494_0242ac1c0002level0_row1\" class=\"row_heading level0 row1\" >1</th>\n",
              "                        <td id=\"T_939b8748_3278_11eb_b494_0242ac1c0002row1_col0\" class=\"data row1 col0\" >thnx</td>\n",
              "                        <td id=\"T_939b8748_3278_11eb_b494_0242ac1c0002row1_col1\" class=\"data row1 col1\" >10</td>\n",
              "            </tr>\n",
              "            <tr>\n",
              "                        <th id=\"T_939b8748_3278_11eb_b494_0242ac1c0002level0_row2\" class=\"row_heading level0 row2\" >2</th>\n",
              "                        <td id=\"T_939b8748_3278_11eb_b494_0242ac1c0002row2_col0\" class=\"data row2 col0\" >appreciated</td>\n",
              "                        <td id=\"T_939b8748_3278_11eb_b494_0242ac1c0002row2_col1\" class=\"data row2 col1\" >8</td>\n",
              "            </tr>\n",
              "            <tr>\n",
              "                        <th id=\"T_939b8748_3278_11eb_b494_0242ac1c0002level0_row3\" class=\"row_heading level0 row3\" >3</th>\n",
              "                        <td id=\"T_939b8748_3278_11eb_b494_0242ac1c0002row3_col0\" class=\"data row3 col0\" >shared</td>\n",
              "                        <td id=\"T_939b8748_3278_11eb_b494_0242ac1c0002row3_col1\" class=\"data row3 col1\" >7</td>\n",
              "            </tr>\n",
              "            <tr>\n",
              "                        <th id=\"T_939b8748_3278_11eb_b494_0242ac1c0002level0_row4\" class=\"row_heading level0 row4\" >4</th>\n",
              "                        <td id=\"T_939b8748_3278_11eb_b494_0242ac1c0002row4_col0\" class=\"data row4 col0\" >presents</td>\n",
              "                        <td id=\"T_939b8748_3278_11eb_b494_0242ac1c0002row4_col1\" class=\"data row4 col1\" >7</td>\n",
              "            </tr>\n",
              "            <tr>\n",
              "                        <th id=\"T_939b8748_3278_11eb_b494_0242ac1c0002level0_row5\" class=\"row_heading level0 row5\" >5</th>\n",
              "                        <td id=\"T_939b8748_3278_11eb_b494_0242ac1c0002row5_col0\" class=\"data row5 col0\" >greetings</td>\n",
              "                        <td id=\"T_939b8748_3278_11eb_b494_0242ac1c0002row5_col1\" class=\"data row5 col1\" >7</td>\n",
              "            </tr>\n",
              "            <tr>\n",
              "                        <th id=\"T_939b8748_3278_11eb_b494_0242ac1c0002level0_row6\" class=\"row_heading level0 row6\" >6</th>\n",
              "                        <td id=\"T_939b8748_3278_11eb_b494_0242ac1c0002row6_col0\" class=\"data row6 col0\" >blessings</td>\n",
              "                        <td id=\"T_939b8748_3278_11eb_b494_0242ac1c0002row6_col1\" class=\"data row6 col1\" >6</td>\n",
              "            </tr>\n",
              "            <tr>\n",
              "                        <th id=\"T_939b8748_3278_11eb_b494_0242ac1c0002level0_row7\" class=\"row_heading level0 row7\" >7</th>\n",
              "                        <td id=\"T_939b8748_3278_11eb_b494_0242ac1c0002row7_col0\" class=\"data row7 col0\" >mothersday</td>\n",
              "                        <td id=\"T_939b8748_3278_11eb_b494_0242ac1c0002row7_col1\" class=\"data row7 col1\" >6</td>\n",
              "            </tr>\n",
              "            <tr>\n",
              "                        <th id=\"T_939b8748_3278_11eb_b494_0242ac1c0002level0_row8\" class=\"row_heading level0 row8\" >8</th>\n",
              "                        <td id=\"T_939b8748_3278_11eb_b494_0242ac1c0002row8_col0\" class=\"data row8 col0\" >mcr</td>\n",
              "                        <td id=\"T_939b8748_3278_11eb_b494_0242ac1c0002row8_col1\" class=\"data row8 col1\" >6</td>\n",
              "            </tr>\n",
              "            <tr>\n",
              "                        <th id=\"T_939b8748_3278_11eb_b494_0242ac1c0002level0_row9\" class=\"row_heading level0 row9\" >9</th>\n",
              "                        <td id=\"T_939b8748_3278_11eb_b494_0242ac1c0002row9_col0\" class=\"data row9 col0\" >coolest</td>\n",
              "                        <td id=\"T_939b8748_3278_11eb_b494_0242ac1c0002row9_col1\" class=\"data row9 col1\" >6</td>\n",
              "            </tr>\n",
              "            <tr>\n",
              "                        <th id=\"T_939b8748_3278_11eb_b494_0242ac1c0002level0_row10\" class=\"row_heading level0 row10\" >10</th>\n",
              "                        <td id=\"T_939b8748_3278_11eb_b494_0242ac1c0002row10_col0\" class=\"data row10 col0\" >honored</td>\n",
              "                        <td id=\"T_939b8748_3278_11eb_b494_0242ac1c0002row10_col1\" class=\"data row10 col1\" >6</td>\n",
              "            </tr>\n",
              "            <tr>\n",
              "                        <th id=\"T_939b8748_3278_11eb_b494_0242ac1c0002level0_row11\" class=\"row_heading level0 row11\" >11</th>\n",
              "                        <td id=\"T_939b8748_3278_11eb_b494_0242ac1c0002row11_col0\" class=\"data row11 col0\" >goood</td>\n",
              "                        <td id=\"T_939b8748_3278_11eb_b494_0242ac1c0002row11_col1\" class=\"data row11 col1\" >6</td>\n",
              "            </tr>\n",
              "            <tr>\n",
              "                        <th id=\"T_939b8748_3278_11eb_b494_0242ac1c0002level0_row12\" class=\"row_heading level0 row12\" >12</th>\n",
              "                        <td id=\"T_939b8748_3278_11eb_b494_0242ac1c0002row12_col0\" class=\"data row12 col0\" >wango</td>\n",
              "                        <td id=\"T_939b8748_3278_11eb_b494_0242ac1c0002row12_col1\" class=\"data row12 col1\" >5</td>\n",
              "            </tr>\n",
              "            <tr>\n",
              "                        <th id=\"T_939b8748_3278_11eb_b494_0242ac1c0002level0_row13\" class=\"row_heading level0 row13\" >13</th>\n",
              "                        <td id=\"T_939b8748_3278_11eb_b494_0242ac1c0002row13_col0\" class=\"data row13 col0\" >actress</td>\n",
              "                        <td id=\"T_939b8748_3278_11eb_b494_0242ac1c0002row13_col1\" class=\"data row13 col1\" >5</td>\n",
              "            </tr>\n",
              "            <tr>\n",
              "                        <th id=\"T_939b8748_3278_11eb_b494_0242ac1c0002level0_row14\" class=\"row_heading level0 row14\" >14</th>\n",
              "                        <td id=\"T_939b8748_3278_11eb_b494_0242ac1c0002row14_col0\" class=\"data row14 col0\" >mint</td>\n",
              "                        <td id=\"T_939b8748_3278_11eb_b494_0242ac1c0002row14_col1\" class=\"data row14 col1\" >5</td>\n",
              "            </tr>\n",
              "            <tr>\n",
              "                        <th id=\"T_939b8748_3278_11eb_b494_0242ac1c0002level0_row15\" class=\"row_heading level0 row15\" >15</th>\n",
              "                        <td id=\"T_939b8748_3278_11eb_b494_0242ac1c0002row15_col0\" class=\"data row15 col0\" >dayyyy</td>\n",
              "                        <td id=\"T_939b8748_3278_11eb_b494_0242ac1c0002row15_col1\" class=\"data row15 col1\" >5</td>\n",
              "            </tr>\n",
              "            <tr>\n",
              "                        <th id=\"T_939b8748_3278_11eb_b494_0242ac1c0002level0_row16\" class=\"row_heading level0 row16\" >16</th>\n",
              "                        <td id=\"T_939b8748_3278_11eb_b494_0242ac1c0002row16_col0\" class=\"data row16 col0\" >ciara</td>\n",
              "                        <td id=\"T_939b8748_3278_11eb_b494_0242ac1c0002row16_col1\" class=\"data row16 col1\" >5</td>\n",
              "            </tr>\n",
              "            <tr>\n",
              "                        <th id=\"T_939b8748_3278_11eb_b494_0242ac1c0002level0_row17\" class=\"row_heading level0 row17\" >17</th>\n",
              "                        <td id=\"T_939b8748_3278_11eb_b494_0242ac1c0002row17_col0\" class=\"data row17 col0\" >twin</td>\n",
              "                        <td id=\"T_939b8748_3278_11eb_b494_0242ac1c0002row17_col1\" class=\"data row17 col1\" >5</td>\n",
              "            </tr>\n",
              "            <tr>\n",
              "                        <th id=\"T_939b8748_3278_11eb_b494_0242ac1c0002level0_row18\" class=\"row_heading level0 row18\" >18</th>\n",
              "                        <td id=\"T_939b8748_3278_11eb_b494_0242ac1c0002row18_col0\" class=\"data row18 col0\" >kudos</td>\n",
              "                        <td id=\"T_939b8748_3278_11eb_b494_0242ac1c0002row18_col1\" class=\"data row18 col1\" >5</td>\n",
              "            </tr>\n",
              "            <tr>\n",
              "                        <th id=\"T_939b8748_3278_11eb_b494_0242ac1c0002level0_row19\" class=\"row_heading level0 row19\" >19</th>\n",
              "                        <td id=\"T_939b8748_3278_11eb_b494_0242ac1c0002row19_col0\" class=\"data row19 col0\" >hurray</td>\n",
              "                        <td id=\"T_939b8748_3278_11eb_b494_0242ac1c0002row19_col1\" class=\"data row19 col1\" >5</td>\n",
              "            </tr>\n",
              "    </tbody></table>"
            ],
            "text/plain": [
              "<pandas.io.formats.style.Styler at 0x7f6dcbbd9438>"
            ]
          },
          "metadata": {
            "tags": []
          },
          "execution_count": 66
        }
      ]
    },
    {
      "cell_type": "code",
      "metadata": {
        "id": "be7WGY_OHN33",
        "colab": {
          "base_uri": "https://localhost:8080/",
          "height": 456
        },
        "outputId": "5299ae05-2576-4caa-a43c-ec6f7d9a245c"
      },
      "source": [
        "plt.figure(figsize=(15,7))\n",
        "sns.barplot(y=Unique_Positive['words'],x=Unique_Positive['count'])"
      ],
      "execution_count": null,
      "outputs": [
        {
          "output_type": "execute_result",
          "data": {
            "text/plain": [
              "<matplotlib.axes._subplots.AxesSubplot at 0x7f6dcbc02908>"
            ]
          },
          "metadata": {
            "tags": []
          },
          "execution_count": 67
        },
        {
          "output_type": "display_data",
          "data": {
            "image/png": "[encoded data removed]",
            "text/plain": [
              "<Figure size 1080x504 with 1 Axes>"
            ]
          },
          "metadata": {
            "tags": [],
            "needs_background": "light"
          }
        }
      ]
    },
    {
      "cell_type": "code",
      "metadata": {
        "id": "lrUnvGevHN34",
        "colab": {
          "base_uri": "https://localhost:8080/",
          "height": 591
        },
        "outputId": "ab120486-928c-4423-a517-e1274f0c5262"
      },
      "source": [
        "from palettable.colorbrewer.qualitative import Pastel1_7\n",
        "plt.figure(figsize=(16,10))\n",
        "my_circle=plt.Circle((0,0), 0.7, color='white')\n",
        "plt.pie(Unique_Positive['count'], labels=Unique_Positive.words, colors=Pastel1_7.hex_colors)\n",
        "p=plt.gcf()\n",
        "p.gca().add_artist(my_circle)\n",
        "plt.title('DoNut Plot Of Unique Positive Words')\n",
        "plt.show()"
      ],
      "execution_count": null,
      "outputs": [
        {
          "output_type": "display_data",
          "data": {
            "image/png": "[encoded data removed]",
            "text/plain": [
              "<Figure size 1152x720 with 1 Axes>"
            ]
          },
          "metadata": {
            "tags": []
          }
        }
      ]
    },
    {
      "cell_type": "code",
      "metadata": {
        "id": "Rgp0Tg87HN35",
        "colab": {
          "base_uri": "https://localhost:8080/",
          "height": 477
        },
        "outputId": "9e3ae6a3-3933-433b-bf5d-ba70aaa94cd5"
      },
      "source": [
        "Unique_Negative= words_unique('negative', 20, raw_text)\n",
        "print(\"The top 20 unique words in Negative Tweets are:\")\n",
        "Unique_Negative.style.background_gradient(cmap='Reds')"
      ],
      "execution_count": null,
      "outputs": [
        {
          "output_type": "stream",
          "text": [
            "The top 20 unique words in Negative Tweets are:\n"
          ],
          "name": "stdout"
        },
        {
          "output_type": "execute_result",
          "data": {
            "text/html": [
              "<style  type=\"text/css\" >\n",
              "#T_aefe76d0_3278_11eb_b494_0242ac1c0002row0_col1{\n",
              "            background-color:  #67000d;\n",
              "            color:  #f1f1f1;\n",
              "        }#T_aefe76d0_3278_11eb_b494_0242ac1c0002row1_col1{\n",
              "            background-color:  #f44f39;\n",
              "            color:  #000000;\n",
              "        }#T_aefe76d0_3278_11eb_b494_0242ac1c0002row2_col1,#T_aefe76d0_3278_11eb_b494_0242ac1c0002row3_col1,#T_aefe76d0_3278_11eb_b494_0242ac1c0002row4_col1,#T_aefe76d0_3278_11eb_b494_0242ac1c0002row5_col1{\n",
              "            background-color:  #fcaf93;\n",
              "            color:  #000000;\n",
              "        }#T_aefe76d0_3278_11eb_b494_0242ac1c0002row6_col1,#T_aefe76d0_3278_11eb_b494_0242ac1c0002row7_col1,#T_aefe76d0_3278_11eb_b494_0242ac1c0002row8_col1,#T_aefe76d0_3278_11eb_b494_0242ac1c0002row9_col1{\n",
              "            background-color:  #fedbcc;\n",
              "            color:  #000000;\n",
              "        }#T_aefe76d0_3278_11eb_b494_0242ac1c0002row10_col1,#T_aefe76d0_3278_11eb_b494_0242ac1c0002row11_col1,#T_aefe76d0_3278_11eb_b494_0242ac1c0002row12_col1,#T_aefe76d0_3278_11eb_b494_0242ac1c0002row13_col1,#T_aefe76d0_3278_11eb_b494_0242ac1c0002row14_col1,#T_aefe76d0_3278_11eb_b494_0242ac1c0002row15_col1,#T_aefe76d0_3278_11eb_b494_0242ac1c0002row16_col1,#T_aefe76d0_3278_11eb_b494_0242ac1c0002row17_col1,#T_aefe76d0_3278_11eb_b494_0242ac1c0002row18_col1,#T_aefe76d0_3278_11eb_b494_0242ac1c0002row19_col1{\n",
              "            background-color:  #fff5f0;\n",
              "            color:  #000000;\n",
              "        }</style><table id=\"T_aefe76d0_3278_11eb_b494_0242ac1c0002\" ><thead>    <tr>        <th class=\"blank level0\" ></th>        <th class=\"col_heading level0 col0\" >words</th>        <th class=\"col_heading level0 col1\" >count</th>    </tr></thead><tbody>\n",
              "                <tr>\n",
              "                        <th id=\"T_aefe76d0_3278_11eb_b494_0242ac1c0002level0_row0\" class=\"row_heading level0 row0\" >0</th>\n",
              "                        <td id=\"T_aefe76d0_3278_11eb_b494_0242ac1c0002row0_col0\" class=\"data row0 col0\" >ache</td>\n",
              "                        <td id=\"T_aefe76d0_3278_11eb_b494_0242ac1c0002row0_col1\" class=\"data row0 col1\" >12</td>\n",
              "            </tr>\n",
              "            <tr>\n",
              "                        <th id=\"T_aefe76d0_3278_11eb_b494_0242ac1c0002level0_row1\" class=\"row_heading level0 row1\" >1</th>\n",
              "                        <td id=\"T_aefe76d0_3278_11eb_b494_0242ac1c0002row1_col0\" class=\"data row1 col0\" >suffering</td>\n",
              "                        <td id=\"T_aefe76d0_3278_11eb_b494_0242ac1c0002row1_col1\" class=\"data row1 col1\" >9</td>\n",
              "            </tr>\n",
              "            <tr>\n",
              "                        <th id=\"T_aefe76d0_3278_11eb_b494_0242ac1c0002level0_row2\" class=\"row_heading level0 row2\" >2</th>\n",
              "                        <td id=\"T_aefe76d0_3278_11eb_b494_0242ac1c0002row2_col0\" class=\"data row2 col0\" >allergic</td>\n",
              "                        <td id=\"T_aefe76d0_3278_11eb_b494_0242ac1c0002row2_col1\" class=\"data row2 col1\" >7</td>\n",
              "            </tr>\n",
              "            <tr>\n",
              "                        <th id=\"T_aefe76d0_3278_11eb_b494_0242ac1c0002level0_row3\" class=\"row_heading level0 row3\" >3</th>\n",
              "                        <td id=\"T_aefe76d0_3278_11eb_b494_0242ac1c0002row3_col0\" class=\"data row3 col0\" >cramps</td>\n",
              "                        <td id=\"T_aefe76d0_3278_11eb_b494_0242ac1c0002row3_col1\" class=\"data row3 col1\" >7</td>\n",
              "            </tr>\n",
              "            <tr>\n",
              "                        <th id=\"T_aefe76d0_3278_11eb_b494_0242ac1c0002level0_row4\" class=\"row_heading level0 row4\" >4</th>\n",
              "                        <td id=\"T_aefe76d0_3278_11eb_b494_0242ac1c0002row4_col0\" class=\"data row4 col0\" >saddest</td>\n",
              "                        <td id=\"T_aefe76d0_3278_11eb_b494_0242ac1c0002row4_col1\" class=\"data row4 col1\" >7</td>\n",
              "            </tr>\n",
              "            <tr>\n",
              "                        <th id=\"T_aefe76d0_3278_11eb_b494_0242ac1c0002level0_row5\" class=\"row_heading level0 row5\" >5</th>\n",
              "                        <td id=\"T_aefe76d0_3278_11eb_b494_0242ac1c0002row5_col0\" class=\"data row5 col0\" >pissing</td>\n",
              "                        <td id=\"T_aefe76d0_3278_11eb_b494_0242ac1c0002row5_col1\" class=\"data row5 col1\" >7</td>\n",
              "            </tr>\n",
              "            <tr>\n",
              "                        <th id=\"T_aefe76d0_3278_11eb_b494_0242ac1c0002level0_row6\" class=\"row_heading level0 row6\" >6</th>\n",
              "                        <td id=\"T_aefe76d0_3278_11eb_b494_0242ac1c0002row6_col0\" class=\"data row6 col0\" >sob</td>\n",
              "                        <td id=\"T_aefe76d0_3278_11eb_b494_0242ac1c0002row6_col1\" class=\"data row6 col1\" >6</td>\n",
              "            </tr>\n",
              "            <tr>\n",
              "                        <th id=\"T_aefe76d0_3278_11eb_b494_0242ac1c0002level0_row7\" class=\"row_heading level0 row7\" >7</th>\n",
              "                        <td id=\"T_aefe76d0_3278_11eb_b494_0242ac1c0002row7_col0\" class=\"data row7 col0\" >dealing</td>\n",
              "                        <td id=\"T_aefe76d0_3278_11eb_b494_0242ac1c0002row7_col1\" class=\"data row7 col1\" >6</td>\n",
              "            </tr>\n",
              "            <tr>\n",
              "                        <th id=\"T_aefe76d0_3278_11eb_b494_0242ac1c0002level0_row8\" class=\"row_heading level0 row8\" >8</th>\n",
              "                        <td id=\"T_aefe76d0_3278_11eb_b494_0242ac1c0002row8_col0\" class=\"data row8 col0\" >devastated</td>\n",
              "                        <td id=\"T_aefe76d0_3278_11eb_b494_0242ac1c0002row8_col1\" class=\"data row8 col1\" >6</td>\n",
              "            </tr>\n",
              "            <tr>\n",
              "                        <th id=\"T_aefe76d0_3278_11eb_b494_0242ac1c0002level0_row9\" class=\"row_heading level0 row9\" >9</th>\n",
              "                        <td id=\"T_aefe76d0_3278_11eb_b494_0242ac1c0002row9_col0\" class=\"data row9 col0\" >noes</td>\n",
              "                        <td id=\"T_aefe76d0_3278_11eb_b494_0242ac1c0002row9_col1\" class=\"data row9 col1\" >6</td>\n",
              "            </tr>\n",
              "            <tr>\n",
              "                        <th id=\"T_aefe76d0_3278_11eb_b494_0242ac1c0002level0_row10\" class=\"row_heading level0 row10\" >10</th>\n",
              "                        <td id=\"T_aefe76d0_3278_11eb_b494_0242ac1c0002row10_col0\" class=\"data row10 col0\" >inbox</td>\n",
              "                        <td id=\"T_aefe76d0_3278_11eb_b494_0242ac1c0002row10_col1\" class=\"data row10 col1\" >5</td>\n",
              "            </tr>\n",
              "            <tr>\n",
              "                        <th id=\"T_aefe76d0_3278_11eb_b494_0242ac1c0002level0_row11\" class=\"row_heading level0 row11\" >11</th>\n",
              "                        <td id=\"T_aefe76d0_3278_11eb_b494_0242ac1c0002row11_col0\" class=\"data row11 col0\" >wrist</td>\n",
              "                        <td id=\"T_aefe76d0_3278_11eb_b494_0242ac1c0002row11_col1\" class=\"data row11 col1\" >5</td>\n",
              "            </tr>\n",
              "            <tr>\n",
              "                        <th id=\"T_aefe76d0_3278_11eb_b494_0242ac1c0002level0_row12\" class=\"row_heading level0 row12\" >12</th>\n",
              "                        <td id=\"T_aefe76d0_3278_11eb_b494_0242ac1c0002row12_col0\" class=\"data row12 col0\" >slammed</td>\n",
              "                        <td id=\"T_aefe76d0_3278_11eb_b494_0242ac1c0002row12_col1\" class=\"data row12 col1\" >5</td>\n",
              "            </tr>\n",
              "            <tr>\n",
              "                        <th id=\"T_aefe76d0_3278_11eb_b494_0242ac1c0002level0_row13\" class=\"row_heading level0 row13\" >13</th>\n",
              "                        <td id=\"T_aefe76d0_3278_11eb_b494_0242ac1c0002row13_col0\" class=\"data row13 col0\" >cruel</td>\n",
              "                        <td id=\"T_aefe76d0_3278_11eb_b494_0242ac1c0002row13_col1\" class=\"data row13 col1\" >5</td>\n",
              "            </tr>\n",
              "            <tr>\n",
              "                        <th id=\"T_aefe76d0_3278_11eb_b494_0242ac1c0002level0_row14\" class=\"row_heading level0 row14\" >14</th>\n",
              "                        <td id=\"T_aefe76d0_3278_11eb_b494_0242ac1c0002row14_col0\" class=\"data row14 col0\" >pritchard</td>\n",
              "                        <td id=\"T_aefe76d0_3278_11eb_b494_0242ac1c0002row14_col1\" class=\"data row14 col1\" >5</td>\n",
              "            </tr>\n",
              "            <tr>\n",
              "                        <th id=\"T_aefe76d0_3278_11eb_b494_0242ac1c0002level0_row15\" class=\"row_heading level0 row15\" >15</th>\n",
              "                        <td id=\"T_aefe76d0_3278_11eb_b494_0242ac1c0002row15_col0\" class=\"data row15 col0\" >effin</td>\n",
              "                        <td id=\"T_aefe76d0_3278_11eb_b494_0242ac1c0002row15_col1\" class=\"data row15 col1\" >5</td>\n",
              "            </tr>\n",
              "            <tr>\n",
              "                        <th id=\"T_aefe76d0_3278_11eb_b494_0242ac1c0002level0_row16\" class=\"row_heading level0 row16\" >16</th>\n",
              "                        <td id=\"T_aefe76d0_3278_11eb_b494_0242ac1c0002row16_col0\" class=\"data row16 col0\" >regretting</td>\n",
              "                        <td id=\"T_aefe76d0_3278_11eb_b494_0242ac1c0002row16_col1\" class=\"data row16 col1\" >5</td>\n",
              "            </tr>\n",
              "            <tr>\n",
              "                        <th id=\"T_aefe76d0_3278_11eb_b494_0242ac1c0002level0_row17\" class=\"row_heading level0 row17\" >17</th>\n",
              "                        <td id=\"T_aefe76d0_3278_11eb_b494_0242ac1c0002row17_col0\" class=\"data row17 col0\" >whoops</td>\n",
              "                        <td id=\"T_aefe76d0_3278_11eb_b494_0242ac1c0002row17_col1\" class=\"data row17 col1\" >5</td>\n",
              "            </tr>\n",
              "            <tr>\n",
              "                        <th id=\"T_aefe76d0_3278_11eb_b494_0242ac1c0002level0_row18\" class=\"row_heading level0 row18\" >18</th>\n",
              "                        <td id=\"T_aefe76d0_3278_11eb_b494_0242ac1c0002row18_col0\" class=\"data row18 col0\" >suspended</td>\n",
              "                        <td id=\"T_aefe76d0_3278_11eb_b494_0242ac1c0002row18_col1\" class=\"data row18 col1\" >5</td>\n",
              "            </tr>\n",
              "            <tr>\n",
              "                        <th id=\"T_aefe76d0_3278_11eb_b494_0242ac1c0002level0_row19\" class=\"row_heading level0 row19\" >19</th>\n",
              "                        <td id=\"T_aefe76d0_3278_11eb_b494_0242ac1c0002row19_col0\" class=\"data row19 col0\" >nooooooo</td>\n",
              "                        <td id=\"T_aefe76d0_3278_11eb_b494_0242ac1c0002row19_col1\" class=\"data row19 col1\" >5</td>\n",
              "            </tr>\n",
              "    </tbody></table>"
            ],
            "text/plain": [
              "<pandas.io.formats.style.Styler at 0x7f6dcbc80c88>"
            ]
          },
          "metadata": {
            "tags": []
          },
          "execution_count": 69
        }
      ]
    },
    {
      "cell_type": "code",
      "metadata": {
        "id": "TALcHi4BHN36",
        "colab": {
          "base_uri": "https://localhost:8080/",
          "height": 591
        },
        "outputId": "a2594f1b-8ebc-4078-8a2a-f4db24abd8e3"
      },
      "source": [
        "from palettable.colorbrewer.qualitative import Pastel1_7\n",
        "plt.figure(figsize=(16,10))\n",
        "my_circle=plt.Circle((0,0), 0.7, color='white')\n",
        "plt.rcParams['text.color'] = 'black'\n",
        "plt.pie(Unique_Negative['count'], labels=Unique_Negative.words, colors=Pastel1_7.hex_colors)\n",
        "p=plt.gcf()\n",
        "p.gca().add_artist(my_circle)\n",
        "plt.title('DoNut Plot Of Unique Negative Words')\n",
        "plt.show()"
      ],
      "execution_count": null,
      "outputs": [
        {
          "output_type": "display_data",
          "data": {
            "image/png": "[encoded data removed]",
            "text/plain": [
              "<Figure size 1152x720 with 1 Axes>"
            ]
          },
          "metadata": {
            "tags": []
          }
        }
      ]
    },
    {
      "cell_type": "code",
      "metadata": {
        "id": "cDXk3AECHN36",
        "colab": {
          "base_uri": "https://localhost:8080/",
          "height": 477
        },
        "outputId": "1eb4f31f-b943-43be-a228-f6d808a3a20a"
      },
      "source": [
        "Unique_Neutral= words_unique('neutral', 20, raw_text)\n",
        "print(\"The top 10 unique words in Neutral Tweets are:\")\n",
        "Unique_Neutral.style.background_gradient(cmap='Oranges')"
      ],
      "execution_count": null,
      "outputs": [
        {
          "output_type": "stream",
          "text": [
            "The top 10 unique words in Neutral Tweets are:\n"
          ],
          "name": "stdout"
        },
        {
          "output_type": "execute_result",
          "data": {
            "text/html": [
              "<style  type=\"text/css\" >\n",
              "#T_c7b3862a_3278_11eb_b494_0242ac1c0002row0_col1{\n",
              "            background-color:  #7f2704;\n",
              "            color:  #f1f1f1;\n",
              "        }#T_c7b3862a_3278_11eb_b494_0242ac1c0002row1_col1{\n",
              "            background-color:  #f3701b;\n",
              "            color:  #000000;\n",
              "        }#T_c7b3862a_3278_11eb_b494_0242ac1c0002row2_col1,#T_c7b3862a_3278_11eb_b494_0242ac1c0002row3_col1{\n",
              "            background-color:  #fda762;\n",
              "            color:  #000000;\n",
              "        }#T_c7b3862a_3278_11eb_b494_0242ac1c0002row4_col1,#T_c7b3862a_3278_11eb_b494_0242ac1c0002row5_col1,#T_c7b3862a_3278_11eb_b494_0242ac1c0002row6_col1,#T_c7b3862a_3278_11eb_b494_0242ac1c0002row7_col1,#T_c7b3862a_3278_11eb_b494_0242ac1c0002row8_col1,#T_c7b3862a_3278_11eb_b494_0242ac1c0002row9_col1,#T_c7b3862a_3278_11eb_b494_0242ac1c0002row10_col1,#T_c7b3862a_3278_11eb_b494_0242ac1c0002row11_col1,#T_c7b3862a_3278_11eb_b494_0242ac1c0002row12_col1,#T_c7b3862a_3278_11eb_b494_0242ac1c0002row13_col1,#T_c7b3862a_3278_11eb_b494_0242ac1c0002row14_col1,#T_c7b3862a_3278_11eb_b494_0242ac1c0002row15_col1,#T_c7b3862a_3278_11eb_b494_0242ac1c0002row16_col1{\n",
              "            background-color:  #fdd9b4;\n",
              "            color:  #000000;\n",
              "        }#T_c7b3862a_3278_11eb_b494_0242ac1c0002row17_col1,#T_c7b3862a_3278_11eb_b494_0242ac1c0002row18_col1,#T_c7b3862a_3278_11eb_b494_0242ac1c0002row19_col1{\n",
              "            background-color:  #fff5eb;\n",
              "            color:  #000000;\n",
              "        }</style><table id=\"T_c7b3862a_3278_11eb_b494_0242ac1c0002\" ><thead>    <tr>        <th class=\"blank level0\" ></th>        <th class=\"col_heading level0 col0\" >words</th>        <th class=\"col_heading level0 col1\" >count</th>    </tr></thead><tbody>\n",
              "                <tr>\n",
              "                        <th id=\"T_c7b3862a_3278_11eb_b494_0242ac1c0002level0_row0\" class=\"row_heading level0 row0\" >0</th>\n",
              "                        <td id=\"T_c7b3862a_3278_11eb_b494_0242ac1c0002row0_col0\" class=\"data row0 col0\" >settings</td>\n",
              "                        <td id=\"T_c7b3862a_3278_11eb_b494_0242ac1c0002row0_col1\" class=\"data row0 col1\" >9</td>\n",
              "            </tr>\n",
              "            <tr>\n",
              "                        <th id=\"T_c7b3862a_3278_11eb_b494_0242ac1c0002level0_row1\" class=\"row_heading level0 row1\" >1</th>\n",
              "                        <td id=\"T_c7b3862a_3278_11eb_b494_0242ac1c0002row1_col0\" class=\"data row1 col0\" >explain</td>\n",
              "                        <td id=\"T_c7b3862a_3278_11eb_b494_0242ac1c0002row1_col1\" class=\"data row1 col1\" >7</td>\n",
              "            </tr>\n",
              "            <tr>\n",
              "                        <th id=\"T_c7b3862a_3278_11eb_b494_0242ac1c0002level0_row2\" class=\"row_heading level0 row2\" >2</th>\n",
              "                        <td id=\"T_c7b3862a_3278_11eb_b494_0242ac1c0002row2_col0\" class=\"data row2 col0\" >mite</td>\n",
              "                        <td id=\"T_c7b3862a_3278_11eb_b494_0242ac1c0002row2_col1\" class=\"data row2 col1\" >6</td>\n",
              "            </tr>\n",
              "            <tr>\n",
              "                        <th id=\"T_c7b3862a_3278_11eb_b494_0242ac1c0002level0_row3\" class=\"row_heading level0 row3\" >3</th>\n",
              "                        <td id=\"T_c7b3862a_3278_11eb_b494_0242ac1c0002row3_col0\" class=\"data row3 col0\" >hiya</td>\n",
              "                        <td id=\"T_c7b3862a_3278_11eb_b494_0242ac1c0002row3_col1\" class=\"data row3 col1\" >6</td>\n",
              "            </tr>\n",
              "            <tr>\n",
              "                        <th id=\"T_c7b3862a_3278_11eb_b494_0242ac1c0002level0_row4\" class=\"row_heading level0 row4\" >4</th>\n",
              "                        <td id=\"T_c7b3862a_3278_11eb_b494_0242ac1c0002row4_col0\" class=\"data row4 col0\" >reader</td>\n",
              "                        <td id=\"T_c7b3862a_3278_11eb_b494_0242ac1c0002row4_col1\" class=\"data row4 col1\" >5</td>\n",
              "            </tr>\n",
              "            <tr>\n",
              "                        <th id=\"T_c7b3862a_3278_11eb_b494_0242ac1c0002level0_row5\" class=\"row_heading level0 row5\" >5</th>\n",
              "                        <td id=\"T_c7b3862a_3278_11eb_b494_0242ac1c0002row5_col0\" class=\"data row5 col0\" >pr</td>\n",
              "                        <td id=\"T_c7b3862a_3278_11eb_b494_0242ac1c0002row5_col1\" class=\"data row5 col1\" >5</td>\n",
              "            </tr>\n",
              "            <tr>\n",
              "                        <th id=\"T_c7b3862a_3278_11eb_b494_0242ac1c0002level0_row6\" class=\"row_heading level0 row6\" >6</th>\n",
              "                        <td id=\"T_c7b3862a_3278_11eb_b494_0242ac1c0002row6_col0\" class=\"data row6 col0\" >sorta</td>\n",
              "                        <td id=\"T_c7b3862a_3278_11eb_b494_0242ac1c0002row6_col1\" class=\"data row6 col1\" >5</td>\n",
              "            </tr>\n",
              "            <tr>\n",
              "                        <th id=\"T_c7b3862a_3278_11eb_b494_0242ac1c0002level0_row7\" class=\"row_heading level0 row7\" >7</th>\n",
              "                        <td id=\"T_c7b3862a_3278_11eb_b494_0242ac1c0002row7_col0\" class=\"data row7 col0\" >fathers</td>\n",
              "                        <td id=\"T_c7b3862a_3278_11eb_b494_0242ac1c0002row7_col1\" class=\"data row7 col1\" >5</td>\n",
              "            </tr>\n",
              "            <tr>\n",
              "                        <th id=\"T_c7b3862a_3278_11eb_b494_0242ac1c0002level0_row8\" class=\"row_heading level0 row8\" >8</th>\n",
              "                        <td id=\"T_c7b3862a_3278_11eb_b494_0242ac1c0002row8_col0\" class=\"data row8 col0\" >enterprise</td>\n",
              "                        <td id=\"T_c7b3862a_3278_11eb_b494_0242ac1c0002row8_col1\" class=\"data row8 col1\" >5</td>\n",
              "            </tr>\n",
              "            <tr>\n",
              "                        <th id=\"T_c7b3862a_3278_11eb_b494_0242ac1c0002level0_row9\" class=\"row_heading level0 row9\" >9</th>\n",
              "                        <td id=\"T_c7b3862a_3278_11eb_b494_0242ac1c0002row9_col0\" class=\"data row9 col0\" >guessed</td>\n",
              "                        <td id=\"T_c7b3862a_3278_11eb_b494_0242ac1c0002row9_col1\" class=\"data row9 col1\" >5</td>\n",
              "            </tr>\n",
              "            <tr>\n",
              "                        <th id=\"T_c7b3862a_3278_11eb_b494_0242ac1c0002level0_row10\" class=\"row_heading level0 row10\" >10</th>\n",
              "                        <td id=\"T_c7b3862a_3278_11eb_b494_0242ac1c0002row10_col0\" class=\"data row10 col0\" >lah</td>\n",
              "                        <td id=\"T_c7b3862a_3278_11eb_b494_0242ac1c0002row10_col1\" class=\"data row10 col1\" >5</td>\n",
              "            </tr>\n",
              "            <tr>\n",
              "                        <th id=\"T_c7b3862a_3278_11eb_b494_0242ac1c0002level0_row11\" class=\"row_heading level0 row11\" >11</th>\n",
              "                        <td id=\"T_c7b3862a_3278_11eb_b494_0242ac1c0002row11_col0\" class=\"data row11 col0\" >lighter</td>\n",
              "                        <td id=\"T_c7b3862a_3278_11eb_b494_0242ac1c0002row11_col1\" class=\"data row11 col1\" >5</td>\n",
              "            </tr>\n",
              "            <tr>\n",
              "                        <th id=\"T_c7b3862a_3278_11eb_b494_0242ac1c0002level0_row12\" class=\"row_heading level0 row12\" >12</th>\n",
              "                        <td id=\"T_c7b3862a_3278_11eb_b494_0242ac1c0002row12_col0\" class=\"data row12 col0\" >superstar</td>\n",
              "                        <td id=\"T_c7b3862a_3278_11eb_b494_0242ac1c0002row12_col1\" class=\"data row12 col1\" >5</td>\n",
              "            </tr>\n",
              "            <tr>\n",
              "                        <th id=\"T_c7b3862a_3278_11eb_b494_0242ac1c0002level0_row13\" class=\"row_heading level0 row13\" >13</th>\n",
              "                        <td id=\"T_c7b3862a_3278_11eb_b494_0242ac1c0002row13_col0\" class=\"data row13 col0\" >matthew</td>\n",
              "                        <td id=\"T_c7b3862a_3278_11eb_b494_0242ac1c0002row13_col1\" class=\"data row13 col1\" >5</td>\n",
              "            </tr>\n",
              "            <tr>\n",
              "                        <th id=\"T_c7b3862a_3278_11eb_b494_0242ac1c0002level0_row14\" class=\"row_heading level0 row14\" >14</th>\n",
              "                        <td id=\"T_c7b3862a_3278_11eb_b494_0242ac1c0002row14_col0\" class=\"data row14 col0\" >bucks</td>\n",
              "                        <td id=\"T_c7b3862a_3278_11eb_b494_0242ac1c0002row14_col1\" class=\"data row14 col1\" >5</td>\n",
              "            </tr>\n",
              "            <tr>\n",
              "                        <th id=\"T_c7b3862a_3278_11eb_b494_0242ac1c0002level0_row15\" class=\"row_heading level0 row15\" >15</th>\n",
              "                        <td id=\"T_c7b3862a_3278_11eb_b494_0242ac1c0002row15_col0\" class=\"data row15 col0\" >pfft</td>\n",
              "                        <td id=\"T_c7b3862a_3278_11eb_b494_0242ac1c0002row15_col1\" class=\"data row15 col1\" >5</td>\n",
              "            </tr>\n",
              "            <tr>\n",
              "                        <th id=\"T_c7b3862a_3278_11eb_b494_0242ac1c0002level0_row16\" class=\"row_heading level0 row16\" >16</th>\n",
              "                        <td id=\"T_c7b3862a_3278_11eb_b494_0242ac1c0002row16_col0\" class=\"data row16 col0\" >lecture</td>\n",
              "                        <td id=\"T_c7b3862a_3278_11eb_b494_0242ac1c0002row16_col1\" class=\"data row16 col1\" >5</td>\n",
              "            </tr>\n",
              "            <tr>\n",
              "                        <th id=\"T_c7b3862a_3278_11eb_b494_0242ac1c0002level0_row17\" class=\"row_heading level0 row17\" >17</th>\n",
              "                        <td id=\"T_c7b3862a_3278_11eb_b494_0242ac1c0002row17_col0\" class=\"data row17 col0\" >requiem</td>\n",
              "                        <td id=\"T_c7b3862a_3278_11eb_b494_0242ac1c0002row17_col1\" class=\"data row17 col1\" >4</td>\n",
              "            </tr>\n",
              "            <tr>\n",
              "                        <th id=\"T_c7b3862a_3278_11eb_b494_0242ac1c0002level0_row18\" class=\"row_heading level0 row18\" >18</th>\n",
              "                        <td id=\"T_c7b3862a_3278_11eb_b494_0242ac1c0002row18_col0\" class=\"data row18 col0\" >oooo</td>\n",
              "                        <td id=\"T_c7b3862a_3278_11eb_b494_0242ac1c0002row18_col1\" class=\"data row18 col1\" >4</td>\n",
              "            </tr>\n",
              "            <tr>\n",
              "                        <th id=\"T_c7b3862a_3278_11eb_b494_0242ac1c0002level0_row19\" class=\"row_heading level0 row19\" >19</th>\n",
              "                        <td id=\"T_c7b3862a_3278_11eb_b494_0242ac1c0002row19_col0\" class=\"data row19 col0\" >renewed</td>\n",
              "                        <td id=\"T_c7b3862a_3278_11eb_b494_0242ac1c0002row19_col1\" class=\"data row19 col1\" >4</td>\n",
              "            </tr>\n",
              "    </tbody></table>"
            ],
            "text/plain": [
              "<pandas.io.formats.style.Styler at 0x7f6dcbd38908>"
            ]
          },
          "metadata": {
            "tags": []
          },
          "execution_count": 71
        }
      ]
    },
    {
      "cell_type": "code",
      "metadata": {
        "id": "NNioSEBRHN37",
        "colab": {
          "base_uri": "https://localhost:8080/",
          "height": 591
        },
        "outputId": "3aa0786c-c184-4ce8-fe90-c28c7f36fd69"
      },
      "source": [
        "from palettable.colorbrewer.qualitative import Pastel1_7\n",
        "plt.figure(figsize=(16,10))\n",
        "my_circle=plt.Circle((0,0), 0.7, color='white')\n",
        "plt.pie(Unique_Neutral['count'], labels=Unique_Neutral.words, colors=Pastel1_7.hex_colors)\n",
        "p=plt.gcf()\n",
        "p.gca().add_artist(my_circle)\n",
        "plt.title('DoNut Plot Of Unique Neutral Words')\n",
        "plt.show()"
      ],
      "execution_count": null,
      "outputs": [
        {
          "output_type": "display_data",
          "data": {
            "image/png": "[encoded data removed]",
            "text/plain": [
              "<Figure size 1152x720 with 1 Axes>"
            ]
          },
          "metadata": {
            "tags": []
          }
        }
      ]
    },
    {
      "cell_type": "code",
      "metadata": {
        "id": "c-CbHAb8HN39"
      },
      "source": [
        "df_train = pd.read_csv('train.csv')\n",
        "df_test = pd.read_csv('test.csv')\n",
        "df_submission = pd.read_csv('sample_submission.csv')"
      ],
      "execution_count": null,
      "outputs": []
    },
    {
      "cell_type": "code",
      "metadata": {
        "id": "NLryxgSDbjOM"
      },
      "source": [
        "df_train['Num_words_text'] = df_train['text'].apply(lambda x:len(str(x).split()))"
      ],
      "execution_count": null,
      "outputs": []
    },
    {
      "cell_type": "code",
      "metadata": {
        "id": "Rc6L7HTzbpBY"
      },
      "source": [
        "df_train = df_train[df_train['Num_words_text']>=3]"
      ],
      "execution_count": null,
      "outputs": []
    },
    {
      "cell_type": "code",
      "metadata": {
        "id": "lvQcSfIubw19"
      },
      "source": [
        "def save_model(output_dir, nlp, new_model_name):\n",
        "    ''' This Function Saves model to \n",
        "    given output directory'''\n",
        "    \n",
        "    output_dir = f'../working/{output_dir}'\n",
        "    if output_dir is not None:        \n",
        "        if not os.path.exists(output_dir):\n",
        "            os.makedirs(output_dir)\n",
        "        nlp.meta[\"name\"] = new_model_name\n",
        "        nlp.to_disk(output_dir)\n",
        "        print(\"Saved model to\", output_dir)"
      ],
      "execution_count": null,
      "outputs": []
    },
    {
      "cell_type": "code",
      "metadata": {
        "id": "uGpL2JAlbyEv"
      },
      "source": [
        "def train(train_data, output_dir, n_iter=20, model=None):\n",
        "  \n",
        "    if model is not None:\n",
        "        nlp = spacy.load(output_dir)  \n",
        "        print(\"Loaded model '%s'\" % model)\n",
        "    else:\n",
        "        nlp = spacy.blank(\"en\")  \n",
        "        print(\"Created blank 'en' model\")\n",
        "    \n",
        "    \n",
        "    if \"ner\" not in nlp.pipe_names:\n",
        "        ner = nlp.create_pipe(\"ner\")\n",
        "        nlp.add_pipe(ner, last=True)\n",
        "  \n",
        "    else:\n",
        "        ner = nlp.get_pipe(\"ner\")\n",
        "    \n",
        "    \n",
        "    for _, annotations in train_data:\n",
        "        for ent in annotations.get(\"entities\"):\n",
        "            ner.add_label(ent[2])\n",
        "\n",
        "   \n",
        "    other_pipes = [pipe for pipe in nlp.pipe_names if pipe != \"ner\"]\n",
        "    with nlp.disable_pipes(*other_pipes):  \n",
        "        \n",
        "        if model is None:\n",
        "            nlp.begin_training()\n",
        "        else:\n",
        "            nlp.resume_training()\n",
        "\n",
        "\n",
        "        for itn in tqdm(range(n_iter)):\n",
        "            random.shuffle(train_data)\n",
        "            batches = minibatch(train_data, size=compounding(4.0, 500.0, 1.001))    \n",
        "            losses = {}\n",
        "            for batch in batches:\n",
        "                texts, annotations = zip(*batch)\n",
        "                nlp.update(texts,  \n",
        "                            annotations,  \n",
        "                            drop=0.5,   \n",
        "                            losses=losses, \n",
        "                            )\n",
        "            print(\"Losses\", losses)\n",
        "    save_model(output_dir, nlp, 'st_ner')"
      ],
      "execution_count": null,
      "outputs": []
    },
    {
      "cell_type": "code",
      "metadata": {
        "id": "QyeQrY-1cAXp"
      },
      "source": [
        "def get_model_out_path(sentiment):\n",
        "    '''\n",
        "    Returns Model output path\n",
        "    '''\n",
        "    model_out_path = None\n",
        "    if sentiment == 'positive':\n",
        "        model_out_path = 'models/model_pos'\n",
        "    elif sentiment == 'negative':\n",
        "        model_out_path = 'models/model_neg'\n",
        "    return model_out_path"
      ],
      "execution_count": null,
      "outputs": []
    },
    {
      "cell_type": "code",
      "metadata": {
        "id": "J590hurvcWfz"
      },
      "source": [
        "def get_training_data(sentiment):\n",
        "   \n",
        "    train_data = []\n",
        "    for index, row in df_train.iterrows():\n",
        "        if row.sentiment == sentiment:\n",
        "            selected_text = row.selected_text\n",
        "            text = row.text\n",
        "            start = text.find(selected_text)\n",
        "            end = start + len(selected_text)\n",
        "            train_data.append((text, {\"entities\": [[start, end, 'selected_text']]}))\n",
        "    return train_data"
      ],
      "execution_count": null,
      "outputs": []
    },
    {
      "cell_type": "code",
      "metadata": {
        "colab": {
          "base_uri": "https://localhost:8080/"
        },
        "id": "CA7NBrJocXi9",
        "outputId": "1886706c-c494-4d77-d819-6526558ba42a"
      },
      "source": [
        "sentiment = 'positive'\n",
        "\n",
        "train_data = get_training_data(sentiment)\n",
        "model_path = get_model_out_path(sentiment)\n",
        "\n",
        "train(train_data, model_path, n_iter=3, model=None)"
      ],
      "execution_count": null,
      "outputs": [
        {
          "output_type": "stream",
          "text": [
            "\r  0%|          | 0/3 [00:00<?, ?it/s]"
          ],
          "name": "stderr"
        },
        {
          "output_type": "stream",
          "text": [
            "Created blank 'en' model\n"
          ],
          "name": "stdout"
        },
        {
          "output_type": "stream",
          "text": [
            "\r 33%|███▎      | 1/3 [00:48<01:36, 48.40s/it]"
          ],
          "name": "stderr"
        },
        {
          "output_type": "stream",
          "text": [
            "Losses {'ner': 32710.549421212156}\n"
          ],
          "name": "stdout"
        },
        {
          "output_type": "stream",
          "text": [
            "\r 67%|██████▋   | 2/3 [01:36<00:48, 48.25s/it]"
          ],
          "name": "stderr"
        },
        {
          "output_type": "stream",
          "text": [
            "Losses {'ner': 30465.99880069069}\n"
          ],
          "name": "stdout"
        },
        {
          "output_type": "stream",
          "text": [
            "100%|██████████| 3/3 [02:24<00:00, 48.06s/it]"
          ],
          "name": "stderr"
        },
        {
          "output_type": "stream",
          "text": [
            "Losses {'ner': 29795.50301810135}\n",
            "Saved model to ../working/models/model_pos\n"
          ],
          "name": "stdout"
        },
        {
          "output_type": "stream",
          "text": [
            "\n"
          ],
          "name": "stderr"
        }
      ]
    },
    {
      "cell_type": "code",
      "metadata": {
        "colab": {
          "base_uri": "https://localhost:8080/"
        },
        "id": "PPGLaALtcl8I",
        "outputId": "530c9d25-5571-4b4c-86ec-a851b2a5b535"
      },
      "source": [
        "sentiment = 'negative'\n",
        "\n",
        "train_data = get_training_data(sentiment)\n",
        "model_path = get_model_out_path(sentiment)\n",
        "\n",
        "train(train_data, model_path, n_iter=3, model=None)"
      ],
      "execution_count": null,
      "outputs": [
        {
          "output_type": "stream",
          "text": [
            "\r  0%|          | 0/3 [00:00<?, ?it/s]"
          ],
          "name": "stderr"
        },
        {
          "output_type": "stream",
          "text": [
            "Created blank 'en' model\n"
          ],
          "name": "stdout"
        },
        {
          "output_type": "stream",
          "text": [
            "\r 33%|███▎      | 1/3 [00:45<01:31, 45.78s/it]"
          ],
          "name": "stderr"
        },
        {
          "output_type": "stream",
          "text": [
            "Losses {'ner': 31823.58406909113}\n"
          ],
          "name": "stdout"
        },
        {
          "output_type": "stream",
          "text": [
            "\r 67%|██████▋   | 2/3 [01:31<00:45, 45.72s/it]"
          ],
          "name": "stderr"
        },
        {
          "output_type": "stream",
          "text": [
            "Losses {'ner': 28000.821318317114}\n"
          ],
          "name": "stdout"
        },
        {
          "output_type": "stream",
          "text": [
            "100%|██████████| 3/3 [02:16<00:00, 45.47s/it]"
          ],
          "name": "stderr"
        },
        {
          "output_type": "stream",
          "text": [
            "Losses {'ner': 27278.37300633752}\n",
            "Saved model to ../working/models/model_neg\n"
          ],
          "name": "stdout"
        },
        {
          "output_type": "stream",
          "text": [
            "\n"
          ],
          "name": "stderr"
        }
      ]
    },
    {
      "cell_type": "code",
      "metadata": {
        "id": "y6VWIq3Wfu4Y"
      },
      "source": [
        "def predict_entities(text, model):\n",
        "    doc = model(text)\n",
        "    ent_array = []\n",
        "    for ent in doc.ents:\n",
        "        start = text.find(ent.text)\n",
        "        end = start + len(ent.text)\n",
        "        new_int = [start, end, ent.label_]\n",
        "        if new_int not in ent_array:\n",
        "            ent_array.append([start, end, ent.label_])\n",
        "    selected_text = text[ent_array[0][0]: ent_array[0][1]] if len(ent_array) > 0 else text\n",
        "    return selected_text"
      ],
      "execution_count": null,
      "outputs": []
    },
    {
      "cell_type": "code",
      "metadata": {
        "colab": {
          "base_uri": "https://localhost:8080/"
        },
        "id": "6lt0VOVlfxKO",
        "outputId": "b9897df6-7554-4cda-862f-993ddff3cef2"
      },
      "source": [
        "selected_texts = []\n",
        "MODELS_BASE_PATH = '../working/models/'\n",
        "\n",
        "if MODELS_BASE_PATH is not None:\n",
        "    print(\"Loading Models  from \", MODELS_BASE_PATH)\n",
        "    model_pos = spacy.load(MODELS_BASE_PATH + 'model_pos')\n",
        "    model_neg = spacy.load(MODELS_BASE_PATH + 'model_neg')\n",
        "        \n",
        "    for index, row in df_test.iterrows():\n",
        "        text = row.text\n",
        "        output_str = \"\"\n",
        "        if row.sentiment == 'neutral' or len(text.split()) <= 2:\n",
        "            selected_texts.append(text)\n",
        "        elif row.sentiment == 'positive':\n",
        "            selected_texts.append(predict_entities(text, model_pos))\n",
        "        else:\n",
        "            selected_texts.append(predict_entities(text, model_neg))\n",
        "        \n",
        "df_test['selected_text'] = selected_texts"
      ],
      "execution_count": null,
      "outputs": [
        {
          "output_type": "stream",
          "text": [
            "Loading Models  from  ../working/models/\n"
          ],
          "name": "stdout"
        }
      ]
    },
    {
      "cell_type": "code",
      "metadata": {
        "colab": {
          "base_uri": "https://localhost:8080/",
          "height": 359
        },
        "id": "5fVbI8JFf8VH",
        "outputId": "a773c66e-a4f4-488b-adcd-886587c8385e"
      },
      "source": [
        "df_submission['selected_text'] = df_test['selected_text']\n",
        "df_submission.to_csv(\"submission.csv\", index=False)\n",
        "display(df_submission.head(10))"
      ],
      "execution_count": null,
      "outputs": [
        {
          "output_type": "display_data",
          "data": {
            "text/html": [
              "<div>\n",
              "<style scoped>\n",
              "    .dataframe tbody tr th:only-of-type {\n",
              "        vertical-align: middle;\n",
              "    }\n",
              "\n",
              "    .dataframe tbody tr th {\n",
              "        vertical-align: top;\n",
              "    }\n",
              "\n",
              "    .dataframe thead th {\n",
              "        text-align: right;\n",
              "    }\n",
              "</style>\n",
              "<table border=\"1\" class=\"dataframe\">\n",
              "  <thead>\n",
              "    <tr style=\"text-align: right;\">\n",
              "      <th></th>\n",
              "      <th>textID</th>\n",
              "      <th>selected_text</th>\n",
              "    </tr>\n",
              "  </thead>\n",
              "  <tbody>\n",
              "    <tr>\n",
              "      <th>0</th>\n",
              "      <td>f87dea47db</td>\n",
              "      <td>Last session of the day  http://twitpic.com/67ezh</td>\n",
              "    </tr>\n",
              "    <tr>\n",
              "      <th>1</th>\n",
              "      <td>96d74cb729</td>\n",
              "      <td>exciting</td>\n",
              "    </tr>\n",
              "    <tr>\n",
              "      <th>2</th>\n",
              "      <td>eee518ae67</td>\n",
              "      <td>shame!</td>\n",
              "    </tr>\n",
              "    <tr>\n",
              "      <th>3</th>\n",
              "      <td>01082688c6</td>\n",
              "      <td>happy bday!</td>\n",
              "    </tr>\n",
              "    <tr>\n",
              "      <th>4</th>\n",
              "      <td>33987a8ee5</td>\n",
              "      <td>http://twitpic.com/4w75p - I like it!!</td>\n",
              "    </tr>\n",
              "    <tr>\n",
              "      <th>5</th>\n",
              "      <td>726e501993</td>\n",
              "      <td>that`s great!! weee!! visitors!</td>\n",
              "    </tr>\n",
              "    <tr>\n",
              "      <th>6</th>\n",
              "      <td>261932614e</td>\n",
              "      <td>HATES</td>\n",
              "    </tr>\n",
              "    <tr>\n",
              "      <th>7</th>\n",
              "      <td>afa11da83f</td>\n",
              "      <td>blocked</td>\n",
              "    </tr>\n",
              "    <tr>\n",
              "      <th>8</th>\n",
              "      <td>e64208b4ef</td>\n",
              "      <td>and within a short time of the last clue all ...</td>\n",
              "    </tr>\n",
              "    <tr>\n",
              "      <th>9</th>\n",
              "      <td>37bcad24ca</td>\n",
              "      <td>What did you get?  My day is alright.. haven`...</td>\n",
              "    </tr>\n",
              "  </tbody>\n",
              "</table>\n",
              "</div>"
            ],
            "text/plain": [
              "       textID                                      selected_text\n",
              "0  f87dea47db  Last session of the day  http://twitpic.com/67ezh\n",
              "1  96d74cb729                                           exciting\n",
              "2  eee518ae67                                             shame!\n",
              "3  01082688c6                                        happy bday!\n",
              "4  33987a8ee5             http://twitpic.com/4w75p - I like it!!\n",
              "5  726e501993                    that`s great!! weee!! visitors!\n",
              "6  261932614e                                              HATES\n",
              "7  afa11da83f                                            blocked\n",
              "8  e64208b4ef   and within a short time of the last clue all ...\n",
              "9  37bcad24ca   What did you get?  My day is alright.. haven`..."
            ]
          },
          "metadata": {
            "tags": []
          }
        }
      ]
    }
  ]
}